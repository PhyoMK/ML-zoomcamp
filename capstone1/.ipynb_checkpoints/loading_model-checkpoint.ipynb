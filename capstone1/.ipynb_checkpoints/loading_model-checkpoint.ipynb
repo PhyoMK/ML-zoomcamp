{
 "cells": [
  {
   "cell_type": "code",
   "execution_count": 1,
   "id": "955ca692-7d6c-4b11-a2ad-3fd839058fc5",
   "metadata": {},
   "outputs": [],
   "source": [
    "import tensorflow as tf\n",
    "import numpy as np\n",
    "\n",
    "from tensorflow import keras\n",
    "from tensorflow.keras.preprocessing.image import load_img\n",
    "from tensorflow.keras.applications.xception import preprocess_input"
   ]
  },
  {
   "cell_type": "code",
   "execution_count": 2,
   "id": "48124209-6cc3-477e-bf01-00661db41104",
   "metadata": {},
   "outputs": [],
   "source": [
    "model = keras.models.load_model('xception_v4_1_23_0.683.h5', compile=False)"
   ]
  },
  {
   "cell_type": "code",
   "execution_count": null,
   "id": "272fe7ac-37e6-41dd-b327-90b2ae82b91e",
   "metadata": {},
   "outputs": [],
   "source": [
    "path = './dogs/images/n02085936-Maltese_dog/n02085936_37.jpg'\n",
    "img = load_img(path, target_size=(150, 150))"
   ]
  },
  {
   "cell_type": "code",
   "execution_count": 20,
   "id": "8e7b014a-ac25-4084-8c4a-29a786af76df",
   "metadata": {},
   "outputs": [],
   "source": [
    "x = np.array(img)\n",
    "X = np.array([x])\n",
    "\n",
    "X = preprocess_input(X)"
   ]
  },
  {
   "cell_type": "code",
   "execution_count": 8,
   "id": "ddb38b1c-ebf3-415a-9936-65299c539fad",
   "metadata": {},
   "outputs": [
    {
     "name": "stdout",
     "output_type": "stream",
     "text": [
      "1/1 [==============================] - 21s 21s/step\n"
     ]
    }
   ],
   "source": [
    "pred = model.predict(X)"
   ]
  },
  {
   "cell_type": "code",
   "execution_count": 10,
   "id": "bb9b9e87-e318-4654-a0f8-2b9f3031f17b",
   "metadata": {},
   "outputs": [],
   "source": [
    "class_names = sorted(os.listdir(\"./dogs/images\"))"
   ]
  },
  {
   "cell_type": "code",
   "execution_count": 11,
   "id": "4133b1a2-fd2f-4924-bf76-5a7931c88d53",
   "metadata": {},
   "outputs": [
    {
     "name": "stdout",
     "output_type": "stream",
     "text": [
      "('n02086240-Shih-Tzu', 8.04736)\n",
      "('n02094433-Yorkshire_terrier', 1.0972337)\n",
      "('n02095889-Sealyham_terrier', 2.0996914)\n",
      "('n02096437-Dandie_Dinmont', 5.4684544)\n",
      "('n02097047-miniature_schnauzer', 1.0408137)\n",
      "('n02097474-Tibetan_terrier', 1.0297703)\n",
      "('n02098413-Lhasa', 5.1514354)\n"
     ]
    }
   ],
   "source": [
    "result = list(zip(class_names, pred[0]))\n",
    "for i in range(len(result)):\n",
    "    if (result[i][1] >= 1):\n",
    "        print(result[i])"
   ]
  },
  {
   "cell_type": "code",
   "execution_count": 12,
   "id": "21d3e0f4-25c6-4d4a-a030-00a59449192d",
   "metadata": {},
   "outputs": [
    {
     "name": "stderr",
     "output_type": "stream",
     "text": [
      "WARNING:absl:Found untraced functions such as _jit_compiled_convolution_op, _jit_compiled_convolution_op, _jit_compiled_convolution_op, _jit_compiled_convolution_op, _jit_compiled_convolution_op while saving (showing 5 of 40). These functions will not be directly callable after loading.\n"
     ]
    },
    {
     "name": "stdout",
     "output_type": "stream",
     "text": [
      "INFO:tensorflow:Assets written to: C:\\Users\\PHYOMI~1\\AppData\\Local\\Temp\\tmppsrreg7d\\assets\n"
     ]
    },
    {
     "name": "stderr",
     "output_type": "stream",
     "text": [
      "INFO:tensorflow:Assets written to: C:\\Users\\PHYOMI~1\\AppData\\Local\\Temp\\tmppsrreg7d\\assets\n"
     ]
    }
   ],
   "source": [
    "converter = tf.lite.TFLiteConverter.from_keras_model(model)\n",
    "\n",
    "tflite_model = converter.convert()\n",
    "\n",
    "with open('dog-classification-model.tflite', 'wb') as f_out:\n",
    "    f_out.write(tflite_model)"
   ]
  },
  {
   "cell_type": "code",
   "execution_count": 13,
   "id": "78f24c0e-b4b7-40fa-9f39-4ef2db092997",
   "metadata": {},
   "outputs": [],
   "source": [
    "import tensorflow.lite as tflite"
   ]
  },
  {
   "cell_type": "code",
   "execution_count": 14,
   "id": "557d5a94-5adf-4627-908f-dee3600912d5",
   "metadata": {},
   "outputs": [],
   "source": [
    "interpreter = tflite.Interpreter(model_path='dog-classification-model.tflite')\n",
    "interpreter.allocate_tensors()\n",
    "\n",
    "input_index = interpreter.get_input_details()[0]['index']\n",
    "output_index = interpreter.get_output_details()[0]['index']"
   ]
  },
  {
   "cell_type": "code",
   "execution_count": 21,
   "id": "b63dd981-a273-4977-b52e-0a4ccbf62b2e",
   "metadata": {},
   "outputs": [],
   "source": [
    "interpreter.set_tensor(input_index, X)\n",
    "interpreter.invoke()\n",
    "pred = interpreter.get_tensor(output_index)"
   ]
  },
  {
   "cell_type": "code",
   "execution_count": 22,
   "id": "b900dc7a-fa98-49f8-af74-bdc50f3ce4d2",
   "metadata": {},
   "outputs": [
    {
     "name": "stdout",
     "output_type": "stream",
     "text": [
      "('n02085936-Maltese_dog', 3.8567123)\n",
      "('n02098105-soft-coated_wheaten_terrier', 1.2591658)\n",
      "('n02098286-West_Highland_white_terrier', 2.6088665)\n",
      "('n02105505-komondor', 1.8249277)\n",
      "('n02113624-toy_poodle', 3.4634593)\n"
     ]
    }
   ],
   "source": [
    "result = list(zip(class_names, pred[0]))\n",
    "for i in range(len(result)):\n",
    "    if (result[i][1] >= 1):\n",
    "        print(result[i])"
   ]
  },
  {
   "cell_type": "code",
   "execution_count": 1,
   "id": "8f8b12f2-8cfd-48b2-bac2-65ebbf77a1c7",
   "metadata": {},
   "outputs": [],
   "source": [
    "import tflite_runtime.interpreter as tflite\n",
    "import os\n",
    "\n",
    "from PIL import Image\n",
    "from keras_image_helper import create_preprocessor"
   ]
  },
  {
   "cell_type": "code",
   "execution_count": 2,
   "id": "f2ce99f4-f964-45ca-962c-d20a863c370f",
   "metadata": {},
   "outputs": [],
   "source": [
    "class_names = sorted(os.listdir(\"./dogs/images\"))"
   ]
  },
  {
   "cell_type": "code",
   "execution_count": 3,
   "id": "9e9812f1-5066-4243-ab4c-de30ad2f04ef",
   "metadata": {},
   "outputs": [],
   "source": [
    "interpreter = tflite.Interpreter(model_path='dog-classification-model.tflite')\n",
    "interpreter.allocate_tensors()\n",
    "\n",
    "input_index = interpreter.get_input_details()[0]['index']\n",
    "output_index = interpreter.get_output_details()[0]['index']"
   ]
  },
  {
   "cell_type": "code",
   "execution_count": 4,
   "id": "31f98988-3f12-4075-9ed6-8fe95f2c2f7f",
   "metadata": {},
   "outputs": [],
   "source": [
    "preprocessor = create_preprocessor('xception', target_size=(150, 150))\n",
    "\n",
    "url = 'http://3.bp.blogspot.com/-ZXixpl4wbCE/UIXNI2jDBfI/AAAAAAAABDY/H8l5InQBgHI/s1600/Rottweiler-Puppy-Picture.JPG'\n",
    "X = preprocessor.from_url(url)"
   ]
  },
  {
   "cell_type": "code",
   "execution_count": 33,
   "id": "dc2cf1c7-dbf1-4db2-896a-ae706db3cec6",
   "metadata": {},
   "outputs": [],
   "source": [
    "interpreter.set_tensor(input_index, X)\n",
    "interpreter.invoke()\n",
    "pred = interpreter.get_tensor(output_index)"
   ]
  },
  {
   "cell_type": "code",
   "execution_count": 68,
   "id": "c29eac8e-a2ba-4171-8161-a31cdc7fa60b",
   "metadata": {
    "scrolled": true
   },
   "outputs": [],
   "source": [
    "prediction={}\n",
    "float_predictions = pred[0].tolist()\n",
    "\n",
    "result = list(zip(class_names, float_predictions))\n",
    "for i in range(len(result)):\n",
    "    if (result[i][1] >= 1):\n",
    "        prediction[result[i][0]] = result[i][1]"
   ]
  },
  {
   "cell_type": "code",
   "execution_count": 69,
   "id": "50af8f49-51c8-4b03-8659-e763021173fe",
   "metadata": {},
   "outputs": [
    {
     "data": {
      "text/plain": [
       "{'n02089078-black-and-tan_coonhound': 1.4660210609436035,\n",
       " 'n02096051-Airedale': 1.260733962059021,\n",
       " 'n02101006-Gordon_setter': 1.3629294633865356,\n",
       " 'n02106550-Rottweiler': 8.83071231842041,\n",
       " 'n02107312-miniature_pinscher': 1.8243882656097412,\n",
       " 'n02107908-Appenzeller': 1.042338490486145}"
      ]
     },
     "execution_count": 69,
     "metadata": {},
     "output_type": "execute_result"
    }
   ],
   "source": [
    "prediction"
   ]
  },
  {
   "cell_type": "code",
   "execution_count": null,
   "id": "7b80e947-3c70-4479-ae0b-7b4fa3916eed",
   "metadata": {},
   "outputs": [],
   "source": []
  }
 ],
 "metadata": {
  "kernelspec": {
   "display_name": "Python 3 (ipykernel)",
   "language": "python",
   "name": "python3"
  },
  "language_info": {
   "codemirror_mode": {
    "name": "ipython",
    "version": 3
   },
   "file_extension": ".py",
   "mimetype": "text/x-python",
   "name": "python",
   "nbconvert_exporter": "python",
   "pygments_lexer": "ipython3",
   "version": "3.9.18"
  }
 },
 "nbformat": 4,
 "nbformat_minor": 5
}
