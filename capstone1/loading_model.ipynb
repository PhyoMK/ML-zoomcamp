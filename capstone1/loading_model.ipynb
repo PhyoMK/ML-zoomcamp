{
 "cells": [
  {
   "cell_type": "code",
   "execution_count": 1,
   "id": "955ca692-7d6c-4b11-a2ad-3fd839058fc5",
   "metadata": {},
   "outputs": [],
   "source": [
    "import tensorflow as tf\n",
    "import numpy as np\n",
    "\n",
    "from tensorflow import keras\n",
    "from tensorflow.keras.preprocessing.image import load_img\n",
    "from tensorflow.keras.applications.xception import preprocess_input"
   ]
  },
  {
   "cell_type": "code",
   "execution_count": 2,
   "id": "48124209-6cc3-477e-bf01-00661db41104",
   "metadata": {},
   "outputs": [],
   "source": [
    "model = keras.models.load_model('xception_v4_1_23_0.683.h5', compile=False)"
   ]
  },
  {
   "cell_type": "code",
   "execution_count": null,
   "id": "272fe7ac-37e6-41dd-b327-90b2ae82b91e",
   "metadata": {},
   "outputs": [],
   "source": [
    "path = './dogs/images/n02085936-Maltese_dog/n02085936_37.jpg'\n",
    "img = load_img(path, target_size=(150, 150))"
   ]
  },
  {
   "cell_type": "code",
   "execution_count": 20,
   "id": "8e7b014a-ac25-4084-8c4a-29a786af76df",
   "metadata": {},
   "outputs": [],
   "source": [
    "x = np.array(img)\n",
    "X = np.array([x])\n",
    "\n",
    "X = preprocess_input(X)"
   ]
  },
  {
   "cell_type": "code",
   "execution_count": 8,
   "id": "ddb38b1c-ebf3-415a-9936-65299c539fad",
   "metadata": {},
   "outputs": [
    {
     "name": "stdout",
     "output_type": "stream",
     "text": [
      "1/1 [==============================] - 21s 21s/step\n"
     ]
    }
   ],
   "source": [
    "pred = model.predict(X)"
   ]
  },
  {
   "cell_type": "code",
   "execution_count": 10,
   "id": "bb9b9e87-e318-4654-a0f8-2b9f3031f17b",
   "metadata": {},
   "outputs": [],
   "source": [
    "class_names = sorted(os.listdir(\"./dogs/images\"))"
   ]
  },
  {
   "cell_type": "code",
   "execution_count": 11,
   "id": "4133b1a2-fd2f-4924-bf76-5a7931c88d53",
   "metadata": {},
   "outputs": [
    {
     "name": "stdout",
     "output_type": "stream",
     "text": [
      "('n02086240-Shih-Tzu', 8.04736)\n",
      "('n02094433-Yorkshire_terrier', 1.0972337)\n",
      "('n02095889-Sealyham_terrier', 2.0996914)\n",
      "('n02096437-Dandie_Dinmont', 5.4684544)\n",
      "('n02097047-miniature_schnauzer', 1.0408137)\n",
      "('n02097474-Tibetan_terrier', 1.0297703)\n",
      "('n02098413-Lhasa', 5.1514354)\n"
     ]
    }
   ],
   "source": [
    "result = list(zip(class_names, pred[0]))\n",
    "for i in range(len(result)):\n",
    "    if (result[i][1] >= 1):\n",
    "        print(result[i])"
   ]
  },
  {
   "cell_type": "code",
   "execution_count": 12,
   "id": "21d3e0f4-25c6-4d4a-a030-00a59449192d",
   "metadata": {},
   "outputs": [
    {
     "name": "stderr",
     "output_type": "stream",
     "text": [
      "WARNING:absl:Found untraced functions such as _jit_compiled_convolution_op, _jit_compiled_convolution_op, _jit_compiled_convolution_op, _jit_compiled_convolution_op, _jit_compiled_convolution_op while saving (showing 5 of 40). These functions will not be directly callable after loading.\n"
     ]
    },
    {
     "name": "stdout",
     "output_type": "stream",
     "text": [
      "INFO:tensorflow:Assets written to: C:\\Users\\PHYOMI~1\\AppData\\Local\\Temp\\tmppsrreg7d\\assets\n"
     ]
    },
    {
     "name": "stderr",
     "output_type": "stream",
     "text": [
      "INFO:tensorflow:Assets written to: C:\\Users\\PHYOMI~1\\AppData\\Local\\Temp\\tmppsrreg7d\\assets\n"
     ]
    }
   ],
   "source": [
    "converter = tf.lite.TFLiteConverter.from_keras_model(model)\n",
    "\n",
    "tflite_model = converter.convert()\n",
    "\n",
    "with open('dog-classification-model.tflite', 'wb') as f_out:\n",
    "    f_out.write(tflite_model)"
   ]
  },
  {
   "cell_type": "code",
   "execution_count": 13,
   "id": "78f24c0e-b4b7-40fa-9f39-4ef2db092997",
   "metadata": {},
   "outputs": [],
   "source": [
    "import tensorflow.lite as tflite"
   ]
  },
  {
   "cell_type": "code",
   "execution_count": 14,
   "id": "557d5a94-5adf-4627-908f-dee3600912d5",
   "metadata": {},
   "outputs": [],
   "source": [
    "interpreter = tflite.Interpreter(model_path='dog-classification-model.tflite')\n",
    "interpreter.allocate_tensors()\n",
    "\n",
    "input_index = interpreter.get_input_details()[0]['index']\n",
    "output_index = interpreter.get_output_details()[0]['index']"
   ]
  },
  {
   "cell_type": "code",
   "execution_count": 21,
   "id": "b63dd981-a273-4977-b52e-0a4ccbf62b2e",
   "metadata": {},
   "outputs": [],
   "source": [
    "interpreter.set_tensor(input_index, X)\n",
    "interpreter.invoke()\n",
    "pred = interpreter.get_tensor(output_index)"
   ]
  },
  {
   "cell_type": "code",
   "execution_count": 22,
   "id": "b900dc7a-fa98-49f8-af74-bdc50f3ce4d2",
   "metadata": {},
   "outputs": [
    {
     "name": "stdout",
     "output_type": "stream",
     "text": [
      "('n02085936-Maltese_dog', 3.8567123)\n",
      "('n02098105-soft-coated_wheaten_terrier', 1.2591658)\n",
      "('n02098286-West_Highland_white_terrier', 2.6088665)\n",
      "('n02105505-komondor', 1.8249277)\n",
      "('n02113624-toy_poodle', 3.4634593)\n"
     ]
    }
   ],
   "source": [
    "result = list(zip(class_names, pred[0]))\n",
    "for i in range(len(result)):\n",
    "    if (result[i][1] >= 1):\n",
    "        print(result[i])"
   ]
  },
  {
   "cell_type": "code",
   "execution_count": 1,
   "id": "8f8b12f2-8cfd-48b2-bac2-65ebbf77a1c7",
   "metadata": {},
   "outputs": [],
   "source": [
    "import tflite_runtime.interpreter as tflite\n",
    "import os\n",
    "\n",
    "from PIL import Image\n",
    "from keras_image_helper import create_preprocessor"
   ]
  },
  {
   "cell_type": "code",
   "execution_count": 2,
   "id": "f2ce99f4-f964-45ca-962c-d20a863c370f",
   "metadata": {},
   "outputs": [],
   "source": [
    "class_names = sorted(os.listdir(\"./dogs/images\"))"
   ]
  },
  {
   "cell_type": "code",
   "execution_count": 3,
   "id": "9e9812f1-5066-4243-ab4c-de30ad2f04ef",
   "metadata": {},
   "outputs": [],
   "source": [
    "interpreter = tflite.Interpreter(model_path='dog-classification-model.tflite')\n",
    "interpreter.allocate_tensors()\n",
    "\n",
    "input_index = interpreter.get_input_details()[0]['index']\n",
    "output_index = interpreter.get_output_details()[0]['index']"
   ]
  },
  {
   "cell_type": "code",
   "execution_count": 4,
   "id": "31f98988-3f12-4075-9ed6-8fe95f2c2f7f",
   "metadata": {},
   "outputs": [],
   "source": [
    "preprocessor = create_preprocessor('xception', target_size=(150, 150))\n",
    "\n",
    "url = 'http://3.bp.blogspot.com/-ZXixpl4wbCE/UIXNI2jDBfI/AAAAAAAABDY/H8l5InQBgHI/s1600/Rottweiler-Puppy-Picture.JPG'\n",
    "X = preprocessor.from_url(url)"
   ]
  },
  {
   "cell_type": "code",
   "execution_count": 33,
   "id": "dc2cf1c7-dbf1-4db2-896a-ae706db3cec6",
   "metadata": {},
   "outputs": [],
   "source": [
    "interpreter.set_tensor(input_index, X)\n",
    "interpreter.invoke()\n",
    "pred = interpreter.get_tensor(output_index)"
   ]
  },
  {
   "cell_type": "code",
   "execution_count": 68,
   "id": "c29eac8e-a2ba-4171-8161-a31cdc7fa60b",
   "metadata": {
    "scrolled": true
   },
   "outputs": [],
   "source": [
    "prediction={}\n",
    "float_predictions = pred[0].tolist()\n",
    "\n",
    "result = list(zip(class_names, float_predictions))\n",
    "for i in range(len(result)):\n",
    "    if (result[i][1] >= 1):\n",
    "        prediction[result[i][0]] = result[i][1]"
   ]
  },
  {
   "cell_type": "code",
   "execution_count": 69,
   "id": "50af8f49-51c8-4b03-8659-e763021173fe",
   "metadata": {},
   "outputs": [
    {
     "data": {
      "text/plain": [
       "{'n02089078-black-and-tan_coonhound': 1.4660210609436035,\n",
       " 'n02096051-Airedale': 1.260733962059021,\n",
       " 'n02101006-Gordon_setter': 1.3629294633865356,\n",
       " 'n02106550-Rottweiler': 8.83071231842041,\n",
       " 'n02107312-miniature_pinscher': 1.8243882656097412,\n",
       " 'n02107908-Appenzeller': 1.042338490486145}"
      ]
     },
     "execution_count": 69,
     "metadata": {},
     "output_type": "execute_result"
    }
   ],
   "source": [
    "prediction"
   ]
  },
  {
   "cell_type": "code",
   "execution_count": 71,
   "id": "ddd26abb-9e2a-425f-9d5d-83abd2881694",
   "metadata": {},
   "outputs": [
    {
     "data": {
      "text/plain": [
       "['n02085620-Chihuahua',\n",
       " 'n02085782-Japanese_spaniel',\n",
       " 'n02085936-Maltese_dog',\n",
       " 'n02086079-Pekinese',\n",
       " 'n02086240-Shih-Tzu',\n",
       " 'n02086646-Blenheim_spaniel',\n",
       " 'n02086910-papillon',\n",
       " 'n02087046-toy_terrier',\n",
       " 'n02087394-Rhodesian_ridgeback',\n",
       " 'n02088094-Afghan_hound',\n",
       " 'n02088238-basset',\n",
       " 'n02088364-beagle',\n",
       " 'n02088466-bloodhound',\n",
       " 'n02088632-bluetick',\n",
       " 'n02089078-black-and-tan_coonhound',\n",
       " 'n02089867-Walker_hound',\n",
       " 'n02089973-English_foxhound',\n",
       " 'n02090379-redbone',\n",
       " 'n02090622-borzoi',\n",
       " 'n02090721-Irish_wolfhound',\n",
       " 'n02091032-Italian_greyhound',\n",
       " 'n02091134-whippet',\n",
       " 'n02091244-Ibizan_hound',\n",
       " 'n02091467-Norwegian_elkhound',\n",
       " 'n02091635-otterhound',\n",
       " 'n02091831-Saluki',\n",
       " 'n02092002-Scottish_deerhound',\n",
       " 'n02092339-Weimaraner',\n",
       " 'n02093256-Staffordshire_bullterrier',\n",
       " 'n02093428-American_Staffordshire_terrier',\n",
       " 'n02093647-Bedlington_terrier',\n",
       " 'n02093754-Border_terrier',\n",
       " 'n02093859-Kerry_blue_terrier',\n",
       " 'n02093991-Irish_terrier',\n",
       " 'n02094114-Norfolk_terrier',\n",
       " 'n02094258-Norwich_terrier',\n",
       " 'n02094433-Yorkshire_terrier',\n",
       " 'n02095314-wire-haired_fox_terrier',\n",
       " 'n02095570-Lakeland_terrier',\n",
       " 'n02095889-Sealyham_terrier',\n",
       " 'n02096051-Airedale',\n",
       " 'n02096177-cairn',\n",
       " 'n02096294-Australian_terrier',\n",
       " 'n02096437-Dandie_Dinmont',\n",
       " 'n02096585-Boston_bull',\n",
       " 'n02097047-miniature_schnauzer',\n",
       " 'n02097130-giant_schnauzer',\n",
       " 'n02097209-standard_schnauzer',\n",
       " 'n02097298-Scotch_terrier',\n",
       " 'n02097474-Tibetan_terrier',\n",
       " 'n02097658-silky_terrier',\n",
       " 'n02098105-soft-coated_wheaten_terrier',\n",
       " 'n02098286-West_Highland_white_terrier',\n",
       " 'n02098413-Lhasa',\n",
       " 'n02099267-flat-coated_retriever',\n",
       " 'n02099429-curly-coated_retriever',\n",
       " 'n02099601-golden_retriever',\n",
       " 'n02099712-Labrador_retriever',\n",
       " 'n02099849-Chesapeake_Bay_retriever',\n",
       " 'n02100236-German_short-haired_pointer',\n",
       " 'n02100583-vizsla',\n",
       " 'n02100735-English_setter',\n",
       " 'n02100877-Irish_setter',\n",
       " 'n02101006-Gordon_setter',\n",
       " 'n02101388-Brittany_spaniel',\n",
       " 'n02101556-clumber',\n",
       " 'n02102040-English_springer',\n",
       " 'n02102177-Welsh_springer_spaniel',\n",
       " 'n02102318-cocker_spaniel',\n",
       " 'n02102480-Sussex_spaniel',\n",
       " 'n02102973-Irish_water_spaniel',\n",
       " 'n02104029-kuvasz',\n",
       " 'n02104365-schipperke',\n",
       " 'n02105056-groenendael',\n",
       " 'n02105162-malinois',\n",
       " 'n02105251-briard',\n",
       " 'n02105412-kelpie',\n",
       " 'n02105505-komondor',\n",
       " 'n02105641-Old_English_sheepdog',\n",
       " 'n02105855-Shetland_sheepdog',\n",
       " 'n02106030-collie',\n",
       " 'n02106166-Border_collie',\n",
       " 'n02106382-Bouvier_des_Flandres',\n",
       " 'n02106550-Rottweiler',\n",
       " 'n02106662-German_shepherd',\n",
       " 'n02107142-Doberman',\n",
       " 'n02107312-miniature_pinscher',\n",
       " 'n02107574-Greater_Swiss_Mountain_dog',\n",
       " 'n02107683-Bernese_mountain_dog',\n",
       " 'n02107908-Appenzeller',\n",
       " 'n02108000-EntleBucher',\n",
       " 'n02108089-boxer',\n",
       " 'n02108422-bull_mastiff',\n",
       " 'n02108551-Tibetan_mastiff',\n",
       " 'n02108915-French_bulldog',\n",
       " 'n02109047-Great_Dane',\n",
       " 'n02109525-Saint_Bernard',\n",
       " 'n02109961-Eskimo_dog',\n",
       " 'n02110063-malamute',\n",
       " 'n02110185-Siberian_husky',\n",
       " 'n02110627-affenpinscher',\n",
       " 'n02110806-basenji',\n",
       " 'n02110958-pug',\n",
       " 'n02111129-Leonberg',\n",
       " 'n02111277-Newfoundland',\n",
       " 'n02111500-Great_Pyrenees',\n",
       " 'n02111889-Samoyed',\n",
       " 'n02112018-Pomeranian',\n",
       " 'n02112137-chow',\n",
       " 'n02112350-keeshond',\n",
       " 'n02112706-Brabancon_griffon',\n",
       " 'n02113023-Pembroke',\n",
       " 'n02113186-Cardigan',\n",
       " 'n02113624-toy_poodle',\n",
       " 'n02113712-miniature_poodle',\n",
       " 'n02113799-standard_poodle',\n",
       " 'n02113978-Mexican_hairless',\n",
       " 'n02115641-dingo',\n",
       " 'n02115913-dhole',\n",
       " 'n02116738-African_hunting_dog']"
      ]
     },
     "execution_count": 71,
     "metadata": {},
     "output_type": "execute_result"
    }
   ],
   "source": [
    "class_names"
   ]
  },
  {
   "cell_type": "code",
   "execution_count": null,
   "id": "7b80e947-3c70-4479-ae0b-7b4fa3916eed",
   "metadata": {},
   "outputs": [],
   "source": []
  }
 ],
 "metadata": {
  "kernelspec": {
   "display_name": "Python 3 (ipykernel)",
   "language": "python",
   "name": "python3"
  },
  "language_info": {
   "codemirror_mode": {
    "name": "ipython",
    "version": 3
   },
   "file_extension": ".py",
   "mimetype": "text/x-python",
   "name": "python",
   "nbconvert_exporter": "python",
   "pygments_lexer": "ipython3",
   "version": "3.9.18"
  }
 },
 "nbformat": 4,
 "nbformat_minor": 5
}
