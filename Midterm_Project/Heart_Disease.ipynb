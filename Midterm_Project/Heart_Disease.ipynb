{
 "cells": [
  {
   "cell_type": "code",
   "execution_count": 457,
   "id": "b905b654-7467-435f-940e-9574daa5c5f8",
   "metadata": {},
   "outputs": [],
   "source": [
    "import pandas as pd\n",
    "import numpy as np\n",
    "import seaborn as sns\n",
    "import pickle\n",
    "\n",
    "from matplotlib import pyplot as plt\n",
    "\n",
    "from sklearn.model_selection import train_test_split\n",
    "from sklearn.feature_extraction import DictVectorizer\n",
    "\n",
    "from sklearn.linear_model import LogisticRegression\n",
    "from sklearn.tree import DecisionTreeClassifier\n",
    "from sklearn.ensemble import RandomForestClassifier\n",
    "import xgboost as xgb\n",
    "\n",
    "from sklearn.metrics import roc_auc_score\n",
    "%matplotlib inline"
   ]
  },
  {
   "cell_type": "code",
   "execution_count": 405,
   "id": "74668d7c-5031-4944-b1f7-005dc8535cda",
   "metadata": {},
   "outputs": [],
   "source": [
    "df = pd.read_csv('heart_statlog_cleveland_hungary_final.csv')"
   ]
  },
  {
   "cell_type": "code",
   "execution_count": 406,
   "id": "df53e86a-17e9-450b-b389-e4e780d125a3",
   "metadata": {},
   "outputs": [],
   "source": [
    "df = df.rename(columns=\n",
    "                {'resting bp s': 'resting blood pressure',\n",
    "                'target': 'heartdisease'}\n",
    ")"
   ]
  },
  {
   "cell_type": "code",
   "execution_count": 407,
   "id": "0e99c519-c2a7-40c6-88b6-c9b460e2aab5",
   "metadata": {},
   "outputs": [
    {
     "data": {
      "text/plain": [
       "st_slope\n",
       "2    582\n",
       "1    526\n",
       "3     81\n",
       "0      1\n",
       "Name: count, dtype: int64"
      ]
     },
     "execution_count": 407,
     "metadata": {},
     "output_type": "execute_result"
    }
   ],
   "source": [
    "df.columns = df.columns.str.lower().str.replace(' ','_')\n",
    "df.fillna(0)\n",
    "df.st_slope.value_counts()"
   ]
  },
  {
   "cell_type": "code",
   "execution_count": 408,
   "id": "a06da7ec-0b36-4ce2-b70d-9e89aefe1545",
   "metadata": {},
   "outputs": [],
   "source": [
    "sex_values = {\n",
    "    1: 'male',\n",
    "    0: 'female',\n",
    "}\n",
    "\n",
    "df.sex = df.sex.map(sex_values)\n",
    "\n",
    "chest_pain_type_values = {\n",
    "    1: 'typical_angina',\n",
    "    2: 'atypical_angina',\n",
    "    3: 'non_anginal_pain',\n",
    "    4: 'asymptomatic',\n",
    "}\n",
    "\n",
    "df.chest_pain_type = df.chest_pain_type.map(chest_pain_type_values)\n",
    "\n",
    "fasting_blood_sugar_values = {\n",
    "    1: 'true',\n",
    "    0: 'false',\n",
    "}\n",
    "\n",
    "df.fasting_blood_sugar = df.fasting_blood_sugar.map(fasting_blood_sugar_values)\n",
    "\n",
    "resting_ecg_values = {\n",
    "    0: 'normal',\n",
    "    1: 'st_t_wave_abnormal',\n",
    "    2: 'lvh',\n",
    "}\n",
    "\n",
    "df.resting_ecg = df.resting_ecg.map(resting_ecg_values)\n",
    "\n",
    "exercise_angina_values = {\n",
    "    1: 'yes',\n",
    "    0: 'no',\n",
    "}\n",
    "\n",
    "df.exercise_angina = df.exercise_angina.map(exercise_angina_values)\n",
    "\n",
    "st_slope_values = {\n",
    "    1: 'upsloping',\n",
    "    2: 'flat',\n",
    "    3: 'downsloping',\n",
    "    0: 'flat',\n",
    "}\n",
    "\n",
    "df.st_slope = df.st_slope.map(st_slope_values)"
   ]
  },
  {
   "cell_type": "code",
   "execution_count": 409,
   "id": "05a40a30-9e0c-4d70-8266-7a3b430eda86",
   "metadata": {},
   "outputs": [
    {
     "data": {
      "text/html": [
       "<div>\n",
       "<style scoped>\n",
       "    .dataframe tbody tr th:only-of-type {\n",
       "        vertical-align: middle;\n",
       "    }\n",
       "\n",
       "    .dataframe tbody tr th {\n",
       "        vertical-align: top;\n",
       "    }\n",
       "\n",
       "    .dataframe thead th {\n",
       "        text-align: right;\n",
       "    }\n",
       "</style>\n",
       "<table border=\"1\" class=\"dataframe\">\n",
       "  <thead>\n",
       "    <tr style=\"text-align: right;\">\n",
       "      <th></th>\n",
       "      <th>age</th>\n",
       "      <th>sex</th>\n",
       "      <th>chest_pain_type</th>\n",
       "      <th>resting_blood_pressure</th>\n",
       "      <th>cholesterol</th>\n",
       "      <th>fasting_blood_sugar</th>\n",
       "      <th>resting_ecg</th>\n",
       "      <th>max_heart_rate</th>\n",
       "      <th>exercise_angina</th>\n",
       "      <th>oldpeak</th>\n",
       "      <th>st_slope</th>\n",
       "      <th>heartdisease</th>\n",
       "    </tr>\n",
       "  </thead>\n",
       "  <tbody>\n",
       "    <tr>\n",
       "      <th>0</th>\n",
       "      <td>40</td>\n",
       "      <td>male</td>\n",
       "      <td>atypical_angina</td>\n",
       "      <td>140</td>\n",
       "      <td>289</td>\n",
       "      <td>false</td>\n",
       "      <td>normal</td>\n",
       "      <td>172</td>\n",
       "      <td>no</td>\n",
       "      <td>0.0</td>\n",
       "      <td>upsloping</td>\n",
       "      <td>0</td>\n",
       "    </tr>\n",
       "    <tr>\n",
       "      <th>1</th>\n",
       "      <td>49</td>\n",
       "      <td>female</td>\n",
       "      <td>non_anginal_pain</td>\n",
       "      <td>160</td>\n",
       "      <td>180</td>\n",
       "      <td>false</td>\n",
       "      <td>normal</td>\n",
       "      <td>156</td>\n",
       "      <td>no</td>\n",
       "      <td>1.0</td>\n",
       "      <td>flat</td>\n",
       "      <td>1</td>\n",
       "    </tr>\n",
       "    <tr>\n",
       "      <th>2</th>\n",
       "      <td>37</td>\n",
       "      <td>male</td>\n",
       "      <td>atypical_angina</td>\n",
       "      <td>130</td>\n",
       "      <td>283</td>\n",
       "      <td>false</td>\n",
       "      <td>st_t_wave_abnormal</td>\n",
       "      <td>98</td>\n",
       "      <td>no</td>\n",
       "      <td>0.0</td>\n",
       "      <td>upsloping</td>\n",
       "      <td>0</td>\n",
       "    </tr>\n",
       "    <tr>\n",
       "      <th>3</th>\n",
       "      <td>48</td>\n",
       "      <td>female</td>\n",
       "      <td>asymptomatic</td>\n",
       "      <td>138</td>\n",
       "      <td>214</td>\n",
       "      <td>false</td>\n",
       "      <td>normal</td>\n",
       "      <td>108</td>\n",
       "      <td>yes</td>\n",
       "      <td>1.5</td>\n",
       "      <td>flat</td>\n",
       "      <td>1</td>\n",
       "    </tr>\n",
       "    <tr>\n",
       "      <th>4</th>\n",
       "      <td>54</td>\n",
       "      <td>male</td>\n",
       "      <td>non_anginal_pain</td>\n",
       "      <td>150</td>\n",
       "      <td>195</td>\n",
       "      <td>false</td>\n",
       "      <td>normal</td>\n",
       "      <td>122</td>\n",
       "      <td>no</td>\n",
       "      <td>0.0</td>\n",
       "      <td>upsloping</td>\n",
       "      <td>0</td>\n",
       "    </tr>\n",
       "  </tbody>\n",
       "</table>\n",
       "</div>"
      ],
      "text/plain": [
       "   age     sex   chest_pain_type  resting_blood_pressure  cholesterol  \\\n",
       "0   40    male   atypical_angina                     140          289   \n",
       "1   49  female  non_anginal_pain                     160          180   \n",
       "2   37    male   atypical_angina                     130          283   \n",
       "3   48  female      asymptomatic                     138          214   \n",
       "4   54    male  non_anginal_pain                     150          195   \n",
       "\n",
       "  fasting_blood_sugar         resting_ecg  max_heart_rate exercise_angina  \\\n",
       "0               false              normal             172              no   \n",
       "1               false              normal             156              no   \n",
       "2               false  st_t_wave_abnormal              98              no   \n",
       "3               false              normal             108             yes   \n",
       "4               false              normal             122              no   \n",
       "\n",
       "   oldpeak   st_slope  heartdisease  \n",
       "0      0.0  upsloping             0  \n",
       "1      1.0       flat             1  \n",
       "2      0.0  upsloping             0  \n",
       "3      1.5       flat             1  \n",
       "4      0.0  upsloping             0  "
      ]
     },
     "execution_count": 409,
     "metadata": {},
     "output_type": "execute_result"
    }
   ],
   "source": [
    "df.head()"
   ]
  },
  {
   "cell_type": "code",
   "execution_count": 410,
   "id": "734ef09a-7641-42e4-92aa-cf9f84e325de",
   "metadata": {},
   "outputs": [
    {
     "data": {
      "text/plain": [
       "age                         int64\n",
       "sex                        object\n",
       "chest_pain_type            object\n",
       "resting_blood_pressure      int64\n",
       "cholesterol                 int64\n",
       "fasting_blood_sugar        object\n",
       "resting_ecg                object\n",
       "max_heart_rate              int64\n",
       "exercise_angina            object\n",
       "oldpeak                   float64\n",
       "st_slope                   object\n",
       "heartdisease                int64\n",
       "dtype: object"
      ]
     },
     "execution_count": 410,
     "metadata": {},
     "output_type": "execute_result"
    }
   ],
   "source": [
    "df.dtypes"
   ]
  },
  {
   "cell_type": "code",
   "execution_count": 411,
   "id": "ece84f8a-d4a2-4e1d-a792-2d82e3b8ee12",
   "metadata": {},
   "outputs": [],
   "source": [
    "\n",
    "categorical_columns = list(df.dtypes[df.dtypes == 'object'].index)\n",
    "numerical_columns   = list(df.dtypes[df.dtypes == 'int64'].index)\n",
    "numerical_columns.append('oldpeak')\n",
    "\n",
    "for c in categorical_columns:\n",
    "    df[c] = df[c].str.lower().str.replace(' ','_')"
   ]
  },
  {
   "cell_type": "code",
   "execution_count": 412,
   "id": "24ff1e12-5089-4096-9b9f-5f3c5be4aba7",
   "metadata": {},
   "outputs": [],
   "source": [
    "df_full_train, df_test = train_test_split(df, test_size=0.2, random_state=11)\n",
    "df_train, df_val = train_test_split(df_full_train, test_size=0.25, random_state=11)\n",
    "\n",
    "df_train = df_train.reset_index(drop=True)\n",
    "df_val = df_val.reset_index(drop=True)\n",
    "df_test = df_test.reset_index(drop=True)\n",
    "\n",
    "y_train = df_train.heartdisease.values\n",
    "y_val = df_val.heartdisease.values\n",
    "y_test = df_test.heartdisease.values\n",
    "\n",
    "del df_train['heartdisease']\n",
    "del df_val['heartdisease']\n",
    "del df_test['heartdisease']"
   ]
  },
  {
   "cell_type": "code",
   "execution_count": 413,
   "id": "848442ee-82cf-43f3-94bf-62093b23aaff",
   "metadata": {},
   "outputs": [
    {
     "data": {
      "text/plain": [
       "(1190, 714, 238, 238)"
      ]
     },
     "execution_count": 413,
     "metadata": {},
     "output_type": "execute_result"
    }
   ],
   "source": [
    "len(df), len(y_train),len(y_val), len(y_test)"
   ]
  },
  {
   "cell_type": "code",
   "execution_count": 414,
   "id": "8b8b4326-f169-4091-a45d-dfccec66ad1a",
   "metadata": {},
   "outputs": [],
   "source": [
    "global_heartdisease_rate = df_full_train.heartdisease.mean()"
   ]
  },
  {
   "cell_type": "code",
   "execution_count": 415,
   "id": "cd52f31c-a5dc-40a9-bfa5-d51bbe084a76",
   "metadata": {},
   "outputs": [],
   "source": [
    "from IPython.display import display"
   ]
  },
  {
   "cell_type": "code",
   "execution_count": 416,
   "id": "2797dc2b-2938-49ff-b597-5e79a28e18f4",
   "metadata": {},
   "outputs": [],
   "source": [
    "numerical_columns.remove('heartdisease')"
   ]
  },
  {
   "cell_type": "code",
   "execution_count": 417,
   "id": "d8c110ab-3539-46fc-ae23-d6e9eba281db",
   "metadata": {},
   "outputs": [
    {
     "name": "stdout",
     "output_type": "stream",
     "text": [
      "sex\n"
     ]
    },
    {
     "data": {
      "text/html": [
       "<div>\n",
       "<style scoped>\n",
       "    .dataframe tbody tr th:only-of-type {\n",
       "        vertical-align: middle;\n",
       "    }\n",
       "\n",
       "    .dataframe tbody tr th {\n",
       "        vertical-align: top;\n",
       "    }\n",
       "\n",
       "    .dataframe thead th {\n",
       "        text-align: right;\n",
       "    }\n",
       "</style>\n",
       "<table border=\"1\" class=\"dataframe\">\n",
       "  <thead>\n",
       "    <tr style=\"text-align: right;\">\n",
       "      <th></th>\n",
       "      <th>mean</th>\n",
       "      <th>count</th>\n",
       "      <th>diff</th>\n",
       "      <th>risk</th>\n",
       "    </tr>\n",
       "    <tr>\n",
       "      <th>sex</th>\n",
       "      <th></th>\n",
       "      <th></th>\n",
       "      <th></th>\n",
       "      <th></th>\n",
       "    </tr>\n",
       "  </thead>\n",
       "  <tbody>\n",
       "    <tr>\n",
       "      <th>female</th>\n",
       "      <td>0.245614</td>\n",
       "      <td>228</td>\n",
       "      <td>-0.280646</td>\n",
       "      <td>0.466716</td>\n",
       "    </tr>\n",
       "    <tr>\n",
       "      <th>male</th>\n",
       "      <td>0.614641</td>\n",
       "      <td>724</td>\n",
       "      <td>0.088380</td>\n",
       "      <td>1.167940</td>\n",
       "    </tr>\n",
       "  </tbody>\n",
       "</table>\n",
       "</div>"
      ],
      "text/plain": [
       "            mean  count      diff      risk\n",
       "sex                                        \n",
       "female  0.245614    228 -0.280646  0.466716\n",
       "male    0.614641    724  0.088380  1.167940"
      ]
     },
     "metadata": {},
     "output_type": "display_data"
    },
    {
     "name": "stdout",
     "output_type": "stream",
     "text": [
      "\n",
      "\n",
      "chest_pain_type\n"
     ]
    },
    {
     "data": {
      "text/html": [
       "<div>\n",
       "<style scoped>\n",
       "    .dataframe tbody tr th:only-of-type {\n",
       "        vertical-align: middle;\n",
       "    }\n",
       "\n",
       "    .dataframe tbody tr th {\n",
       "        vertical-align: top;\n",
       "    }\n",
       "\n",
       "    .dataframe thead th {\n",
       "        text-align: right;\n",
       "    }\n",
       "</style>\n",
       "<table border=\"1\" class=\"dataframe\">\n",
       "  <thead>\n",
       "    <tr style=\"text-align: right;\">\n",
       "      <th></th>\n",
       "      <th>mean</th>\n",
       "      <th>count</th>\n",
       "      <th>diff</th>\n",
       "      <th>risk</th>\n",
       "    </tr>\n",
       "    <tr>\n",
       "      <th>chest_pain_type</th>\n",
       "      <th></th>\n",
       "      <th></th>\n",
       "      <th></th>\n",
       "      <th></th>\n",
       "    </tr>\n",
       "  </thead>\n",
       "  <tbody>\n",
       "    <tr>\n",
       "      <th>asymptomatic</th>\n",
       "      <td>0.777778</td>\n",
       "      <td>504</td>\n",
       "      <td>0.251517</td>\n",
       "      <td>1.477933</td>\n",
       "    </tr>\n",
       "    <tr>\n",
       "      <th>atypical_angina</th>\n",
       "      <td>0.142857</td>\n",
       "      <td>168</td>\n",
       "      <td>-0.383403</td>\n",
       "      <td>0.271457</td>\n",
       "    </tr>\n",
       "    <tr>\n",
       "      <th>non_anginal_pain</th>\n",
       "      <td>0.293333</td>\n",
       "      <td>225</td>\n",
       "      <td>-0.232927</td>\n",
       "      <td>0.557392</td>\n",
       "    </tr>\n",
       "    <tr>\n",
       "      <th>typical_angina</th>\n",
       "      <td>0.345455</td>\n",
       "      <td>55</td>\n",
       "      <td>-0.180806</td>\n",
       "      <td>0.656433</td>\n",
       "    </tr>\n",
       "  </tbody>\n",
       "</table>\n",
       "</div>"
      ],
      "text/plain": [
       "                      mean  count      diff      risk\n",
       "chest_pain_type                                      \n",
       "asymptomatic      0.777778    504  0.251517  1.477933\n",
       "atypical_angina   0.142857    168 -0.383403  0.271457\n",
       "non_anginal_pain  0.293333    225 -0.232927  0.557392\n",
       "typical_angina    0.345455     55 -0.180806  0.656433"
      ]
     },
     "metadata": {},
     "output_type": "display_data"
    },
    {
     "name": "stdout",
     "output_type": "stream",
     "text": [
      "\n",
      "\n",
      "fasting_blood_sugar\n"
     ]
    },
    {
     "data": {
      "text/html": [
       "<div>\n",
       "<style scoped>\n",
       "    .dataframe tbody tr th:only-of-type {\n",
       "        vertical-align: middle;\n",
       "    }\n",
       "\n",
       "    .dataframe tbody tr th {\n",
       "        vertical-align: top;\n",
       "    }\n",
       "\n",
       "    .dataframe thead th {\n",
       "        text-align: right;\n",
       "    }\n",
       "</style>\n",
       "<table border=\"1\" class=\"dataframe\">\n",
       "  <thead>\n",
       "    <tr style=\"text-align: right;\">\n",
       "      <th></th>\n",
       "      <th>mean</th>\n",
       "      <th>count</th>\n",
       "      <th>diff</th>\n",
       "      <th>risk</th>\n",
       "    </tr>\n",
       "    <tr>\n",
       "      <th>fasting_blood_sugar</th>\n",
       "      <th></th>\n",
       "      <th></th>\n",
       "      <th></th>\n",
       "      <th></th>\n",
       "    </tr>\n",
       "  </thead>\n",
       "  <tbody>\n",
       "    <tr>\n",
       "      <th>false</th>\n",
       "      <td>0.466398</td>\n",
       "      <td>744</td>\n",
       "      <td>-0.059863</td>\n",
       "      <td>0.886249</td>\n",
       "    </tr>\n",
       "    <tr>\n",
       "      <th>true</th>\n",
       "      <td>0.740385</td>\n",
       "      <td>208</td>\n",
       "      <td>0.214124</td>\n",
       "      <td>1.406879</td>\n",
       "    </tr>\n",
       "  </tbody>\n",
       "</table>\n",
       "</div>"
      ],
      "text/plain": [
       "                         mean  count      diff      risk\n",
       "fasting_blood_sugar                                     \n",
       "false                0.466398    744 -0.059863  0.886249\n",
       "true                 0.740385    208  0.214124  1.406879"
      ]
     },
     "metadata": {},
     "output_type": "display_data"
    },
    {
     "name": "stdout",
     "output_type": "stream",
     "text": [
      "\n",
      "\n",
      "resting_ecg\n"
     ]
    },
    {
     "data": {
      "text/html": [
       "<div>\n",
       "<style scoped>\n",
       "    .dataframe tbody tr th:only-of-type {\n",
       "        vertical-align: middle;\n",
       "    }\n",
       "\n",
       "    .dataframe tbody tr th {\n",
       "        vertical-align: top;\n",
       "    }\n",
       "\n",
       "    .dataframe thead th {\n",
       "        text-align: right;\n",
       "    }\n",
       "</style>\n",
       "<table border=\"1\" class=\"dataframe\">\n",
       "  <thead>\n",
       "    <tr style=\"text-align: right;\">\n",
       "      <th></th>\n",
       "      <th>mean</th>\n",
       "      <th>count</th>\n",
       "      <th>diff</th>\n",
       "      <th>risk</th>\n",
       "    </tr>\n",
       "    <tr>\n",
       "      <th>resting_ecg</th>\n",
       "      <th></th>\n",
       "      <th></th>\n",
       "      <th></th>\n",
       "      <th></th>\n",
       "    </tr>\n",
       "  </thead>\n",
       "  <tbody>\n",
       "    <tr>\n",
       "      <th>lvh</th>\n",
       "      <td>0.543396</td>\n",
       "      <td>265</td>\n",
       "      <td>0.017136</td>\n",
       "      <td>1.032561</td>\n",
       "    </tr>\n",
       "    <tr>\n",
       "      <th>normal</th>\n",
       "      <td>0.482569</td>\n",
       "      <td>545</td>\n",
       "      <td>-0.043692</td>\n",
       "      <td>0.916977</td>\n",
       "    </tr>\n",
       "    <tr>\n",
       "      <th>st_t_wave_abnormal</th>\n",
       "      <td>0.661972</td>\n",
       "      <td>142</td>\n",
       "      <td>0.135711</td>\n",
       "      <td>1.257879</td>\n",
       "    </tr>\n",
       "  </tbody>\n",
       "</table>\n",
       "</div>"
      ],
      "text/plain": [
       "                        mean  count      diff      risk\n",
       "resting_ecg                                            \n",
       "lvh                 0.543396    265  0.017136  1.032561\n",
       "normal              0.482569    545 -0.043692  0.916977\n",
       "st_t_wave_abnormal  0.661972    142  0.135711  1.257879"
      ]
     },
     "metadata": {},
     "output_type": "display_data"
    },
    {
     "name": "stdout",
     "output_type": "stream",
     "text": [
      "\n",
      "\n",
      "exercise_angina\n"
     ]
    },
    {
     "data": {
      "text/html": [
       "<div>\n",
       "<style scoped>\n",
       "    .dataframe tbody tr th:only-of-type {\n",
       "        vertical-align: middle;\n",
       "    }\n",
       "\n",
       "    .dataframe tbody tr th {\n",
       "        vertical-align: top;\n",
       "    }\n",
       "\n",
       "    .dataframe thead th {\n",
       "        text-align: right;\n",
       "    }\n",
       "</style>\n",
       "<table border=\"1\" class=\"dataframe\">\n",
       "  <thead>\n",
       "    <tr style=\"text-align: right;\">\n",
       "      <th></th>\n",
       "      <th>mean</th>\n",
       "      <th>count</th>\n",
       "      <th>diff</th>\n",
       "      <th>risk</th>\n",
       "    </tr>\n",
       "    <tr>\n",
       "      <th>exercise_angina</th>\n",
       "      <th></th>\n",
       "      <th></th>\n",
       "      <th></th>\n",
       "      <th></th>\n",
       "    </tr>\n",
       "  </thead>\n",
       "  <tbody>\n",
       "    <tr>\n",
       "      <th>no</th>\n",
       "      <td>0.331606</td>\n",
       "      <td>579</td>\n",
       "      <td>-0.194654</td>\n",
       "      <td>0.630118</td>\n",
       "    </tr>\n",
       "    <tr>\n",
       "      <th>yes</th>\n",
       "      <td>0.828418</td>\n",
       "      <td>373</td>\n",
       "      <td>0.302158</td>\n",
       "      <td>1.574160</td>\n",
       "    </tr>\n",
       "  </tbody>\n",
       "</table>\n",
       "</div>"
      ],
      "text/plain": [
       "                     mean  count      diff      risk\n",
       "exercise_angina                                     \n",
       "no               0.331606    579 -0.194654  0.630118\n",
       "yes              0.828418    373  0.302158  1.574160"
      ]
     },
     "metadata": {},
     "output_type": "display_data"
    },
    {
     "name": "stdout",
     "output_type": "stream",
     "text": [
      "\n",
      "\n",
      "st_slope\n"
     ]
    },
    {
     "data": {
      "text/html": [
       "<div>\n",
       "<style scoped>\n",
       "    .dataframe tbody tr th:only-of-type {\n",
       "        vertical-align: middle;\n",
       "    }\n",
       "\n",
       "    .dataframe tbody tr th {\n",
       "        vertical-align: top;\n",
       "    }\n",
       "\n",
       "    .dataframe thead th {\n",
       "        text-align: right;\n",
       "    }\n",
       "</style>\n",
       "<table border=\"1\" class=\"dataframe\">\n",
       "  <thead>\n",
       "    <tr style=\"text-align: right;\">\n",
       "      <th></th>\n",
       "      <th>mean</th>\n",
       "      <th>count</th>\n",
       "      <th>diff</th>\n",
       "      <th>risk</th>\n",
       "    </tr>\n",
       "    <tr>\n",
       "      <th>st_slope</th>\n",
       "      <th></th>\n",
       "      <th></th>\n",
       "      <th></th>\n",
       "      <th></th>\n",
       "    </tr>\n",
       "  </thead>\n",
       "  <tbody>\n",
       "    <tr>\n",
       "      <th>downsloping</th>\n",
       "      <td>0.693548</td>\n",
       "      <td>62</td>\n",
       "      <td>0.167288</td>\n",
       "      <td>1.317880</td>\n",
       "    </tr>\n",
       "    <tr>\n",
       "      <th>flat</th>\n",
       "      <td>0.786164</td>\n",
       "      <td>477</td>\n",
       "      <td>0.259903</td>\n",
       "      <td>1.493868</td>\n",
       "    </tr>\n",
       "    <tr>\n",
       "      <th>upsloping</th>\n",
       "      <td>0.200969</td>\n",
       "      <td>413</td>\n",
       "      <td>-0.325292</td>\n",
       "      <td>0.381880</td>\n",
       "    </tr>\n",
       "  </tbody>\n",
       "</table>\n",
       "</div>"
      ],
      "text/plain": [
       "                 mean  count      diff      risk\n",
       "st_slope                                        \n",
       "downsloping  0.693548     62  0.167288  1.317880\n",
       "flat         0.786164    477  0.259903  1.493868\n",
       "upsloping    0.200969    413 -0.325292  0.381880"
      ]
     },
     "metadata": {},
     "output_type": "display_data"
    },
    {
     "name": "stdout",
     "output_type": "stream",
     "text": [
      "\n",
      "\n"
     ]
    }
   ],
   "source": [
    "for c in categorical_columns:\n",
    "    print(c)\n",
    "    df_group = df_full_train.groupby(c).heartdisease.agg(['mean', 'count'])\n",
    "    df_group['diff'] = df_group['mean']-global_heartdisease_rate\n",
    "    df_group['risk'] = df_group['mean']/global_heartdisease_rate\n",
    "    display(df_group)\n",
    "    print()\n",
    "    print()"
   ]
  },
  {
   "cell_type": "code",
   "execution_count": 418,
   "id": "a600af41-407f-4379-964b-8be5cff9c196",
   "metadata": {},
   "outputs": [
    {
     "data": {
      "text/plain": [
       "st_slope               0.173924\n",
       "chest_pain_type        0.158707\n",
       "exercise_angina        0.125777\n",
       "sex                    0.051284\n",
       "fasting_blood_sugar    0.026712\n",
       "resting_ecg            0.007987\n",
       "dtype: float64"
      ]
     },
     "execution_count": 418,
     "metadata": {},
     "output_type": "execute_result"
    }
   ],
   "source": [
    "from sklearn.metrics import mutual_info_score\n",
    "\n",
    "def mutual_info_heartdisease_score(series):\n",
    "    return mutual_info_score(series, df_full_train.heartdisease)\n",
    "\n",
    "mi = df_full_train[categorical_columns].apply(mutual_info_heartdisease_score)\n",
    "mi.sort_values(ascending=False)"
   ]
  },
  {
   "cell_type": "code",
   "execution_count": 419,
   "id": "263996d6-83a1-4c1c-bb94-2ec6c34dc853",
   "metadata": {},
   "outputs": [
    {
     "data": {
      "text/plain": [
       "age                       0.236061\n",
       "resting_blood_pressure    0.119859\n",
       "cholesterol              -0.203725\n",
       "max_heart_rate           -0.404725\n",
       "oldpeak                   0.391376\n",
       "dtype: float64"
      ]
     },
     "execution_count": 419,
     "metadata": {},
     "output_type": "execute_result"
    }
   ],
   "source": [
    "df_full_train[numerical_columns].corrwith(df_full_train.heartdisease)"
   ]
  },
  {
   "cell_type": "code",
   "execution_count": 420,
   "id": "009a433c-5cd0-4a92-abb3-c650ad1476d5",
   "metadata": {},
   "outputs": [],
   "source": [
    "train_dicts = df_train[categorical_columns + numerical_columns].to_dict(orient='records')\n",
    "val_dicts = df_val[categorical_columns + numerical_columns].to_dict(orient='records')\n",
    "test_dicts = df_test[categorical_columns + numerical_columns].to_dict(orient='records')\n",
    "\n",
    "dv = DictVectorizer(sparse=False)\n",
    "x_train = dv.fit_transform(train_dicts)\n",
    "x_val = dv.transform(val_dicts)\n",
    "x_test = dv.transform(test_dicts)\n"
   ]
  },
  {
   "cell_type": "code",
   "execution_count": 421,
   "id": "815691ff-d92c-4138-98cd-74c75f8be184",
   "metadata": {},
   "outputs": [
    {
     "data": {
      "text/plain": [
       "0.9382138043555366"
      ]
     },
     "execution_count": 421,
     "metadata": {},
     "output_type": "execute_result"
    }
   ],
   "source": [
    "#LOGISTICREGRESSION\n",
    "\n",
    "model_log = LogisticRegression(C=1, max_iter=1000)\n",
    "model_log.fit(x_train, y_train)\n",
    "\n",
    "y_pred_log = model_log.predict_proba(x_val)[:,1]\n",
    "auc_log = roc_auc_score(y_val, y_pred_log)\n",
    "auc_log"
   ]
  },
  {
   "cell_type": "code",
   "execution_count": 422,
   "id": "8b4d4c57-ef12-41d6-aafa-53a86b060a34",
   "metadata": {},
   "outputs": [
    {
     "name": "stdout",
     "output_type": "stream",
     "text": [
      "(   4,   1) --> 0.928\n",
      "(   4,   2) --> 0.928\n",
      "(   4,   5) --> 0.926\n",
      "(   4,  10) --> 0.917\n",
      "(   4,  15) --> 0.923\n",
      "(   4,  20) --> 0.916\n",
      "(   4, 100) --> 0.894\n",
      "(   4, 200) --> 0.749\n",
      "(   4, 500) --> 0.500\n",
      "(   5,   1) --> 0.919\n",
      "(   5,   2) --> 0.924\n",
      "(   5,   5) --> 0.922\n",
      "(   5,  10) --> 0.907\n",
      "(   5,  15) --> 0.928\n",
      "(   5,  20) --> 0.918\n",
      "(   5, 100) --> 0.894\n",
      "(   5, 200) --> 0.749\n",
      "(   5, 500) --> 0.500\n",
      "(   6,   1) --> 0.916\n",
      "(   6,   2) --> 0.931\n",
      "(   6,   5) --> 0.930\n",
      "(   6,  10) --> 0.911\n",
      "(   6,  15) --> 0.927\n",
      "(   6,  20) --> 0.918\n",
      "(   6, 100) --> 0.894\n",
      "(   6, 200) --> 0.749\n",
      "(   6, 500) --> 0.500\n",
      "(   7,   1) --> 0.877\n",
      "(   7,   2) --> 0.887\n",
      "(   7,   5) --> 0.926\n",
      "(   7,  10) --> 0.911\n",
      "(   7,  15) --> 0.930\n",
      "(   7,  20) --> 0.919\n",
      "(   7, 100) --> 0.894\n",
      "(   7, 200) --> 0.749\n",
      "(   7, 500) --> 0.500\n",
      "(  10,   1) --> 0.882\n",
      "(  10,   2) --> 0.897\n",
      "(  10,   5) --> 0.927\n",
      "(  10,  10) --> 0.913\n",
      "(  10,  15) --> 0.929\n",
      "(  10,  20) --> 0.919\n",
      "(  10, 100) --> 0.894\n",
      "(  10, 200) --> 0.749\n",
      "(  10, 500) --> 0.500\n",
      "(  15,   1) --> 0.867\n",
      "(  15,   2) --> 0.885\n",
      "(  15,   5) --> 0.929\n",
      "(  15,  10) --> 0.913\n",
      "(  15,  15) --> 0.929\n",
      "(  15,  20) --> 0.919\n",
      "(  15, 100) --> 0.894\n",
      "(  15, 200) --> 0.749\n",
      "(  15, 500) --> 0.500\n",
      "(  20,   1) --> 0.876\n",
      "(  20,   2) --> 0.888\n",
      "(  20,   5) --> 0.928\n",
      "(  20,  10) --> 0.913\n",
      "(  20,  15) --> 0.930\n",
      "(  20,  20) --> 0.919\n",
      "(  20, 100) --> 0.894\n",
      "(  20, 200) --> 0.749\n",
      "(  20, 500) --> 0.500\n",
      "(None,   1) --> 0.869\n",
      "(None,   2) --> 0.892\n",
      "(None,   5) --> 0.930\n",
      "(None,  10) --> 0.913\n",
      "(None,  15) --> 0.930\n",
      "(None,  20) --> 0.919\n",
      "(None, 100) --> 0.894\n",
      "(None, 200) --> 0.749\n",
      "(None, 500) --> 0.500\n"
     ]
    }
   ],
   "source": [
    "#Testing DecisionTree\n",
    "\n",
    "scores = []\n",
    "for d in [4,5,6,7,10,15,20, None]:\n",
    "    for s in [1,2,5,10,15 ,20,100,200,500]:\n",
    "        dt = DecisionTreeClassifier(max_depth=d, min_samples_leaf=s)\n",
    "        dt.fit(x_train, y_train)\n",
    "\n",
    "        y_pred = dt.predict_proba(x_val)[:,1]\n",
    "        auc = roc_auc_score(y_val, y_pred)\n",
    "\n",
    "        scores.append((d,s,auc))\n",
    "        print('(%4s, %3d) --> %.3f' %(d, s, auc))"
   ]
  },
  {
   "cell_type": "code",
   "execution_count": 423,
   "id": "89be18d5-8aa2-4adf-88d1-41881d60973b",
   "metadata": {},
   "outputs": [
    {
     "data": {
      "text/plain": [
       "<Axes: xlabel='None-max_depth', ylabel='min_samples_leaf'>"
      ]
     },
     "execution_count": 423,
     "metadata": {},
     "output_type": "execute_result"
    },
    {
     "data": {
      "image/png": "[encoded data removed]",
      "text/plain": [
       "<Figure size 640x480 with 2 Axes>"
      ]
     },
     "metadata": {},
     "output_type": "display_data"
    }
   ],
   "source": [
    "columns = ['max_depth', 'min_samples_leaf', 'auc']\n",
    "df_scores = pd.DataFrame(scores, columns=columns)\n",
    "df_scores_pivot = df_scores.pivot(index='min_samples_leaf', columns=['max_depth'], values=['auc'])\n",
    "sns.heatmap(df_scores_pivot, annot=True, fmt='.3f')"
   ]
  },
  {
   "cell_type": "code",
   "execution_count": 424,
   "id": "8db5d760-270f-4bd6-98aa-079935144091",
   "metadata": {},
   "outputs": [
    {
     "data": {
      "text/plain": [
       "0.9266510605093282"
      ]
     },
     "execution_count": 424,
     "metadata": {},
     "output_type": "execute_result"
    }
   ],
   "source": [
    "max_depth = 6\n",
    "min_samples_leaf = 15\n",
    "dt = DecisionTreeClassifier(max_depth=max_depth, min_samples_leaf=min_samples_leaf)\n",
    "dt.fit(x_train, y_train)\n",
    "\n",
    "y_pred = dt.predict_proba(x_val)[:,1]\n",
    "auc_decisiontree = roc_auc_score(y_val, y_pred)\n",
    "auc_decisiontree"
   ]
  },
  {
   "cell_type": "code",
   "execution_count": 425,
   "id": "b65ba998-fe2b-4ed1-918a-a4ee1ad38246",
   "metadata": {},
   "outputs": [],
   "source": [
    "scores=[]\n",
    "\n",
    "for d in [5,10,15]:\n",
    "    for n in range(10,201,10):\n",
    "        rf = RandomForestClassifier(n_estimators=n, max_depth=d, random_state=1)\n",
    "        rf.fit(x_train, y_train)\n",
    "    \n",
    "        y_pred = rf.predict_proba(x_val)[:,1]\n",
    "        auc = roc_auc_score(y_val, y_pred)\n",
    "        scores.append((d, n, auc))"
   ]
  },
  {
   "cell_type": "code",
   "execution_count": 426,
   "id": "cb50ef8b-f58e-4909-9995-a90acd161129",
   "metadata": {},
   "outputs": [
    {
     "data": {
      "text/plain": [
       "<matplotlib.legend.Legend at 0x1d7cb67beb0>"
      ]
     },
     "execution_count": 426,
     "metadata": {},
     "output_type": "execute_result"
    },
    {
     "data": {
      "image/png": "[encoded data removed]",
      "text/plain": [
       "<Figure size 640x480 with 1 Axes>"
      ]
     },
     "metadata": {},
     "output_type": "display_data"
    }
   ],
   "source": [
    "df_scores = pd.DataFrame(scores, columns = ['max_depth', 'n_estimators', 'auc'])\n",
    "for d in [5,10,15]:\n",
    "    df_subset = df_scores[df_scores.max_depth == d]\n",
    "    plt.plot(df_subset.n_estimators, df_subset.auc, label='max_depth=%s'%d)\n",
    "plt.legend()"
   ]
  },
  {
   "cell_type": "code",
   "execution_count": 427,
   "id": "0dc30fe5-75d9-4653-9638-fa4b8a2754be",
   "metadata": {},
   "outputs": [],
   "source": [
    "max_depth = 10\n",
    "scores=[]\n",
    "\n",
    "for s in [1,2,3,5,10,50]:\n",
    "    for n in range(10,201,10):\n",
    "        rf = RandomForestClassifier(n_estimators=n, max_depth=max_depth,min_samples_leaf = s, random_state=1)\n",
    "        rf.fit(x_train, y_train)\n",
    "    \n",
    "        y_pred = rf.predict_proba(x_val)[:,1]\n",
    "        auc = roc_auc_score(y_val, y_pred)\n",
    "        scores.append((s, n, auc))"
   ]
  },
  {
   "cell_type": "code",
   "execution_count": 428,
   "id": "ee1277af-1169-409e-aff2-5d2abb579a6d",
   "metadata": {},
   "outputs": [
    {
     "data": {
      "text/plain": [
       "<matplotlib.legend.Legend at 0x1d7cb67bf10>"
      ]
     },
     "execution_count": 428,
     "metadata": {},
     "output_type": "execute_result"
    },
    {
     "data": {
      "image/png": "[encoded data removed]",
      "text/plain": [
       "<Figure size 640x480 with 1 Axes>"
      ]
     },
     "metadata": {},
     "output_type": "display_data"
    }
   ],
   "source": [
    "df_scores = pd.DataFrame(scores, columns = ['min_samples_leaf', 'n_estimators', 'auc'])\n",
    "colors = ['black', 'green', 'blue', 'orange', 'red', 'grey']\n",
    "values = [1, 2, 3, 5, 10, 50]\n",
    "\n",
    "for s, col in zip(values, colors):\n",
    "    df_subset = df_scores[df_scores.min_samples_leaf == s]\n",
    "    plt.plot(df_subset.n_estimators, df_subset.auc, color=col, label='min_samples_leaf=%d'%s)\n",
    "plt.legend()"
   ]
  },
  {
   "cell_type": "code",
   "execution_count": 429,
   "id": "f707253a-e07a-4cb0-a053-9fd40e0324ac",
   "metadata": {},
   "outputs": [
    {
     "data": {
      "text/plain": [
       "0.9754557707313612"
      ]
     },
     "execution_count": 429,
     "metadata": {},
     "output_type": "execute_result"
    }
   ],
   "source": [
    "max_depth = 10\n",
    "min_samples_leaf = 1\n",
    "n_estimators = 50\n",
    "rf = RandomForestClassifier(n_estimators=n_estimators, max_depth=max_depth, min_samples_leaf = min_samples_leaf, random_state=1, n_jobs=-1 )\n",
    "rf.fit(x_train, y_train)\n",
    "\n",
    "y_pred = rf.predict_proba(x_val)[:,1]\n",
    "auc_random_forest = roc_auc_score(y_val, y_pred)\n",
    "auc_random_forest"
   ]
  },
  {
   "cell_type": "code",
   "execution_count": 430,
   "id": "7b4326b2-3502-4be3-a7bb-a0914b7b0c9f",
   "metadata": {},
   "outputs": [
    {
     "data": {
      "text/plain": [
       "0.9606653897992481"
      ]
     },
     "execution_count": 430,
     "metadata": {},
     "output_type": "execute_result"
    }
   ],
   "source": [
    "features = dv.get_feature_names_out()\n",
    "feature_names = list(features)\n",
    "dtrain = xgb.DMatrix(x_train, label=y_train, feature_names=feature_names)\n",
    "dval = xgb.DMatrix(x_val, label=y_val, feature_names=feature_names)\n",
    "dtest = xgb.DMatrix(x_test, label=y_test, feature_names=feature_names)\n",
    "\n",
    "xgb_params= {\n",
    "    'eta':0.3,\n",
    "    'max_depth': 6,\n",
    "    'min_child_weight':1,\n",
    "    'objective': 'binary:logistic',\n",
    "    'nthread':8,\n",
    "    'seed':1,\n",
    "    'verbosity':1\n",
    "}\n",
    "\n",
    "model = xgb.train(xgb_params, dtrain, num_boost_round=10)\n",
    "y_pred = model.predict(dval)\n",
    "roc_auc_score(y_val, y_pred)\n"
   ]
  },
  {
   "cell_type": "code",
   "execution_count": 431,
   "id": "0e58dc00-6c41-4da5-8b22-d50686699db1",
   "metadata": {},
   "outputs": [],
   "source": [
    "def parse_xgb_output(output):\n",
    "    results = []\n",
    "\n",
    "    for line in output.stdout.strip().split('\\n'):\n",
    "        num_iter, train_line, val_line = line.split('\\t')\n",
    "\n",
    "        it = int(num_iter.strip('[]'))\n",
    "        train = float(train_line.split(':')[1])\n",
    "        val = float(val_line.split(':')[1])\n",
    "\n",
    "        results.append((it, train, val))\n",
    "        \n",
    "    columns = ['num_iter', 'train_auc', 'val_auc']\n",
    "    df_results = pd.DataFrame(results, columns=columns)\n",
    "    return df_results"
   ]
  },
  {
   "cell_type": "code",
   "execution_count": 432,
   "id": "96f3c228-f67b-436b-bed2-7c47110148a2",
   "metadata": {},
   "outputs": [],
   "source": [
    "watchlist = [(dtrain, 'train'), (dval, 'val')]\n",
    "scores = {}"
   ]
  },
  {
   "cell_type": "code",
   "execution_count": 433,
   "id": "c47c110c-f676-4865-98bc-be0e9e4c0fb9",
   "metadata": {},
   "outputs": [],
   "source": [
    "%%capture output\n",
    "\n",
    "xgb_params = {\n",
    "    'eta': 0.4, \n",
    "    'max_depth': 12,\n",
    "    'min_child_weight': 1,\n",
    "    \n",
    "    'objective': 'binary:logistic',\n",
    "    'eval_metric': 'auc',\n",
    "\n",
    "    'nthread': 8,\n",
    "    'seed': 1,\n",
    "    'verbosity': 1,\n",
    "}\n",
    "\n",
    "model = xgb.train(xgb_params, dtrain, num_boost_round=200,\n",
    "                  verbose_eval=5,\n",
    "                  evals=watchlist)"
   ]
  },
  {
   "cell_type": "code",
   "execution_count": 434,
   "id": "baffdb91-a825-49e1-8b7b-b39eb95b5d27",
   "metadata": {},
   "outputs": [],
   "source": [
    "key = 'min_child_weight=%s' %(xgb_params['min_child_weight'])\n",
    "scores[key] = parse_xgb_output(output)"
   ]
  },
  {
   "cell_type": "code",
   "execution_count": 435,
   "id": "93dfba7e-6501-4e1a-897d-1e274bdb4ee2",
   "metadata": {},
   "outputs": [
    {
     "data": {
      "text/plain": [
       "<matplotlib.legend.Legend at 0x1d7cc1780d0>"
      ]
     },
     "execution_count": 435,
     "metadata": {},
     "output_type": "execute_result"
    },
    {
     "data": {
      "image/png": "[encoded data removed]",
      "text/plain": [
       "<Figure size 640x480 with 1 Axes>"
      ]
     },
     "metadata": {},
     "output_type": "display_data"
    }
   ],
   "source": [
    "for min_child_weight, df_score in scores.items():\n",
    "    plt.plot(df_score.num_iter, df_score.val_auc, label=min_child_weight)\n",
    "\n",
    "plt.ylim(0.93,1)\n",
    "plt.legend()"
   ]
  },
  {
   "cell_type": "code",
   "execution_count": 436,
   "id": "c3e45262-0c28-45eb-9ba8-4ca36cdd7301",
   "metadata": {},
   "outputs": [],
   "source": [
    "#after tuning eta=0.4,max_depth = 12, min_child_weight=1"
   ]
  },
  {
   "cell_type": "code",
   "execution_count": 437,
   "id": "cb750cd8-dc70-48b0-bd36-617485bf6d76",
   "metadata": {},
   "outputs": [
    {
     "data": {
      "text/plain": [
       "0.9750301482584948"
      ]
     },
     "execution_count": 437,
     "metadata": {},
     "output_type": "execute_result"
    }
   ],
   "source": [
    "xgb_params= {\n",
    "    'eta':0.4,\n",
    "    'max_depth': 12,\n",
    "    'min_child_weight':1,\n",
    "    'objective': 'binary:logistic',\n",
    "    'nthread':8,\n",
    "    'seed':1,\n",
    "    'verbosity':1\n",
    "}\n",
    "\n",
    "model_xgb = xgb.train(xgb_params, dtrain, num_boost_round=66)\n",
    "y_pred = model_xgb.predict(dval)\n",
    "auc_xgb = roc_auc_score(y_val, y_pred)\n",
    "auc_xgb"
   ]
  },
  {
   "cell_type": "code",
   "execution_count": 438,
   "id": "36c03602-52d9-4e55-b929-520219cc334a",
   "metadata": {},
   "outputs": [],
   "source": [
    "y_pred_log = model_log.predict_proba(x_test)[:,1]\n",
    "auc_log = roc_auc_score(y_test, y_pred_log)\n",
    "\n",
    "y_pred_tree = dt.predict_proba(x_test)[:,1]\n",
    "auc_decisiontree = roc_auc_score(y_test, y_pred_tree)\n",
    "\n",
    "y_pred_forest = rf.predict_proba(x_test)[:,1]\n",
    "auc_random_forest = roc_auc_score(y_test, y_pred_forest)\n",
    "\n",
    "y_pred_xgb = model_xgb.predict(dtest)\n",
    "auc_xgb = roc_auc_score(y_test, y_pred_xgb)"
   ]
  },
  {
   "cell_type": "code",
   "execution_count": 439,
   "id": "3b5b0fd1-c8bc-425f-8b5b-3651d7c85c03",
   "metadata": {},
   "outputs": [
    {
     "data": {
      "text/plain": [
       "(0.9034801136363637,\n",
       " 0.8911931818181819,\n",
       " 0.9404829545454545,\n",
       " 0.9244318181818183)"
      ]
     },
     "execution_count": 439,
     "metadata": {},
     "output_type": "execute_result"
    }
   ],
   "source": [
    "auc_log, auc_decisiontree, auc_random_forest, auc_xgb"
   ]
  },
  {
   "cell_type": "raw",
   "id": "b08a1a3d-5937-4e4e-b13f-64cdfdfd53fb",
   "metadata": {},
   "source": [
    "#From model testing random_forest is the best"
   ]
  },
  {
   "cell_type": "code",
   "execution_count": 448,
   "id": "f7074550-7529-43ed-91e8-83fe49d984bc",
   "metadata": {},
   "outputs": [
    {
     "data": {
      "text/plain": [
       "array([[0.00789773, 0.99210227]])"
      ]
     },
     "execution_count": 448,
     "metadata": {},
     "output_type": "execute_result"
    }
   ],
   "source": [
    "predict = {\n",
    "     'age': 56,\n",
    "     'sex': 'male',\n",
    "     'chest_pain_type': 'asymptomatic',\n",
    "     'resting_blood_pressure': 150,\n",
    "     'cholesterol': 230,\n",
    "     'fasting_blood_sugar': 'true',\n",
    "     'resting_ecg': 'st_t_wave_abnormal',\n",
    "     'max_heart_rate': 124,\n",
    "     'exercise_angina': 'yes',\n",
    "     'oldpeak': 1.5,\n",
    "     'st_slope': 'flat'\n",
    "}\n",
    "x_predict = dv.transform([predict])\n",
    "x_predict.shape\n",
    "rf.predict_proba(x_predict)"
   ]
  },
  {
   "cell_type": "code",
   "execution_count": 450,
   "id": "4ec5abc0-6866-4420-8ea6-cd0eabda014c",
   "metadata": {},
   "outputs": [
    {
     "name": "stdout",
     "output_type": "stream",
     "text": [
      "the model is save to model_rf.bin\n"
     ]
    }
   ],
   "source": [
    "model_file = 'model_rf.bin'\n",
    "with open(model_file, 'wb') as f_out:\n",
    "    pickle.dump((dv, rf), f_out)\n",
    "\n",
    "print(f'the model is save to {model_file}')"
   ]
  },
  {
   "cell_type": "code",
   "execution_count": 461,
   "id": "3c98ef2f-eccb-4ae2-bbb9-afd315229498",
   "metadata": {},
   "outputs": [
    {
     "ename": "NameError",
     "evalue": "name 'python' is not defined",
     "output_type": "error",
     "traceback": [
      "\u001b[1;31m---------------------------------------------------------------------------\u001b[0m",
      "\u001b[1;31mNameError\u001b[0m                                 Traceback (most recent call last)",
      "Cell \u001b[1;32mIn[461], line 1\u001b[0m\n\u001b[1;32m----> 1\u001b[0m \u001b[43mpython\u001b[49m\u001b[38;5;241m.\u001b[39m__version__\n",
      "\u001b[1;31mNameError\u001b[0m: name 'python' is not defined"
     ]
    }
   ],
   "source": []
  },
  {
   "cell_type": "code",
   "execution_count": null,
   "id": "cefa4cc9-dfa0-4df6-8d9e-7a8ec8e092e4",
   "metadata": {},
   "outputs": [],
   "source": []
  },
  {
   "cell_type": "code",
   "execution_count": null,
   "id": "715bcf82-6ab4-4733-a767-c24330c64e82",
   "metadata": {},
   "outputs": [],
   "source": []
  }
 ],
 "metadata": {
  "kernelspec": {
   "display_name": "Python 3 (ipykernel)",
   "language": "python",
   "name": "python3"
  },
  "language_info": {
   "codemirror_mode": {
    "name": "ipython",
    "version": 3
   },
   "file_extension": ".py",
   "mimetype": "text/x-python",
   "name": "python",
   "nbconvert_exporter": "python",
   "pygments_lexer": "ipython3",
   "version": "3.10.12"
  }
 },
 "nbformat": 4,
 "nbformat_minor": 5
}
