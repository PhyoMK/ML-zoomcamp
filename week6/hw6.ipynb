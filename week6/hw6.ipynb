{
 "cells": [
  {
   "cell_type": "code",
   "execution_count": 164,
   "id": "296bdca2-a30d-439a-b78d-cb64279cbe10",
   "metadata": {},
   "outputs": [],
   "source": [
    "import pandas as pd\n",
    "import numpy as np\n",
    "import seaborn as sns\n",
    "from matplotlib import pyplot as plt\n",
    "from sklearn.model_selection import train_test_split\n",
    "from sklearn.tree import DecisionTreeRegressor\n",
    "from sklearn.ensemble import RandomForestRegressor\n",
    "import xgboost as xgb\n",
    "from sklearn.feature_extraction import DictVectorizer\n",
    "from sklearn.metrics import mean_squared_error\n",
    "\n",
    "%matplotlib inline"
   ]
  },
  {
   "cell_type": "code",
   "execution_count": 165,
   "id": "db1e0ba1-1abf-4845-90ca-3a41c9957e9b",
   "metadata": {},
   "outputs": [],
   "source": [
    "asdf = 'https://raw.githubusercontent.com/alexeygrigorev/datasets/master/housing.csv'"
   ]
  },
  {
   "cell_type": "code",
   "execution_count": 232,
   "id": "918ca19e-5f08-49c0-b6ae-dd23e2761f97",
   "metadata": {},
   "outputs": [
    {
     "name": "stderr",
     "output_type": "stream",
     "text": [
      "--2023-10-23 23:58:04--  https://raw.githubusercontent.com/alexeygrigorev/datasets/master/housing.csv\n",
      "Resolving raw.githubusercontent.com (raw.githubusercontent.com)... 2606:50c0:8003::154, 2606:50c0:8002::154, 2606:50c0:8000::154, ...\n",
      "Connecting to raw.githubusercontent.com (raw.githubusercontent.com)|2606:50c0:8003::154|:443... connected.\n",
      "HTTP request sent, awaiting response... 200 OK\n",
      "Length: 1423529 (1.4M) [text/plain]\n",
      "Saving to: 'housing.csv.1'\n",
      "\n",
      "     0K .......... .......... .......... .......... ..........  3% 1.34M 1s\n",
      "    50K .......... .......... .......... .......... ..........  7% 1.67M 1s\n",
      "   100K .......... .......... .......... .......... .......... 10% 5.85M 1s\n",
      "   150K .......... .......... .......... .......... .......... 14% 3.20M 1s\n",
      "   200K .......... .......... .......... .......... .......... 17% 3.60M 0s\n",
      "   250K .......... .......... .......... .......... .......... 21% 2.87M 0s\n",
      "   300K .......... .......... .......... .......... .......... 25% 7.05M 0s\n",
      "   350K .......... .......... .......... .......... .......... 28% 3.54M 0s\n",
      "   400K .......... .......... .......... .......... .......... 32% 1.72M 0s\n",
      "   450K .......... .......... .......... .......... .......... 35% 7.50M 0s\n",
      "   500K .......... .......... .......... .......... .......... 39% 4.93M 0s\n",
      "   550K .......... .......... .......... .......... .......... 43%  138K 1s\n",
      "   600K .......... .......... .......... .......... .......... 46%  270K 1s\n",
      "   650K .......... .......... .......... .......... .......... 50%  404K 1s\n",
      "   700K .......... .......... .......... .......... .......... 53%  308K 1s\n",
      "   750K .......... .......... .......... .......... .......... 57%  221K 1s\n",
      "   800K .......... .......... .......... .......... .......... 61%  140K 1s\n",
      "   850K .......... .......... .......... .......... .......... 64%  271K 1s\n",
      "   900K .......... .......... .......... .......... .......... 68%  324K 1s\n",
      "   950K .......... .......... .......... .......... .......... 71%  250K 1s\n",
      "  1000K .......... .......... .......... .......... .......... 75%  240K 1s\n",
      "  1050K .......... .......... .......... .......... .......... 79%  139K 1s\n",
      "  1100K .......... .......... .......... .......... .......... 82%  188K 1s\n",
      "  1150K .......... .......... .......... .......... .......... 86%  386K 0s\n",
      "  1200K .......... .......... .......... .......... .......... 89%  397K 0s\n",
      "  1250K .......... .......... .......... .......... .......... 93%  255K 0s\n",
      "  1300K .......... .......... .......... .......... .......... 97%  261K 0s\n",
      "  1350K .......... .......... .......... ..........           100%  267K=3.8s\n",
      "\n",
      "2023-10-23 23:58:08 (369 KB/s) - 'housing.csv.1' saved [1423529/1423529]\n",
      "\n"
     ]
    }
   ],
   "source": [
    "!wget $asdf"
   ]
  },
  {
   "cell_type": "code",
   "execution_count": 280,
   "id": "1c2348ac-2851-47d0-a213-cd5731a77036",
   "metadata": {},
   "outputs": [],
   "source": [
    "df = pd.read_csv('housing.csv')"
   ]
  },
  {
   "cell_type": "code",
   "execution_count": 281,
   "id": "7c78adfb-ec42-4e3e-9e43-98821a944c82",
   "metadata": {},
   "outputs": [],
   "source": [
    " df.columns = df.columns.str.lower().str.replace(' ','_')\n",
    "# strings = list(df.dtypes[df.dtypes == 'object'].index)\n",
    "# df['ocean_proximity'] = df['ocean_proximity'].str.lower().str.replace(' ','_')\n",
    "# strings"
   ]
  },
  {
   "cell_type": "code",
   "execution_count": 286,
   "id": "1a18b4c5-0fee-460f-9f8d-176cb0fcf397",
   "metadata": {},
   "outputs": [],
   "source": [
    "\n",
    "data = df[df['ocean_proximity'].isin(['<1H OCEAN', 'INLAND'])]\n",
    "data = data.fillna(0)"
   ]
  },
  {
   "cell_type": "code",
   "execution_count": 287,
   "id": "cbf2a30d-1c8d-41a3-8893-bdca59ae895a",
   "metadata": {},
   "outputs": [],
   "source": [
    "# data = data.reset_index(drop = True)"
   ]
  },
  {
   "cell_type": "code",
   "execution_count": null,
   "id": "0b438b81-58e3-4944-896c-4e52b955f461",
   "metadata": {},
   "outputs": [],
   "source": [
    "\n",
    "# data['total_bedrooms'] = data.total_bedrooms.fillna(0)\n",
    "# data"
   ]
  },
  {
   "cell_type": "code",
   "execution_count": null,
   "id": "5535859e-2022-4079-b59b-f0adf0a135c4",
   "metadata": {},
   "outputs": [],
   "source": [
    "data['median_house_value'] = np.log1p(df.median_house_value)"
   ]
  },
  {
   "cell_type": "code",
   "execution_count": null,
   "id": "3fd3a934-6302-4e16-a6d0-87d6790d9358",
   "metadata": {},
   "outputs": [],
   "source": [
    "data_full_train, data_test = train_test_split(data, test_size=0.2, random_state=1)\n",
    "data_train, data_val = train_test_split(data_full_train, test_size=0.25, random_state=1)\n",
    "\n",
    "data_train = data_train.reset_index(drop=True)\n",
    "data_val = data_val.reset_index(drop=True)\n",
    "data_test = data_test.reset_index(drop=True)\n",
    "\n",
    "y_train = data_train.median_house_value.values\n",
    "y_val = data_val.median_house_value.values\n",
    "y_test = data_test.median_house_value.values\n",
    "\n",
    "del data_train['median_house_value']\n",
    "del data_val['median_house_value']\n",
    "del data_test['median_house_value']"
   ]
  },
  {
   "cell_type": "code",
   "execution_count": null,
   "id": "f0fc76e2-ac36-4724-9247-c7fb312d82af",
   "metadata": {},
   "outputs": [],
   "source": [
    "train_dicts = data_train.to_dict(orient='records')\n",
    "val_dicts = data_val.to_dict(orient='records')\n",
    "\n",
    "dv = DictVectorizer(sparse=True)\n",
    "x_train = dv.fit_transform(train_dicts)\n",
    "\n",
    "x_val = dv.transform(val_dicts)\n",
    "\n",
    "dt = DecisionTreeRegressor(max_depth=1)\n",
    "dt.fit(x_train, y_train)"
   ]
  },
  {
   "cell_type": "code",
   "execution_count": null,
   "id": "a839a989-7c30-455a-a5be-724405db315d",
   "metadata": {},
   "outputs": [],
   "source": [
    "# y_pred = dt.predict(x_train)"
   ]
  },
  {
   "cell_type": "code",
   "execution_count": null,
   "id": "e58ec960-6f65-43eb-9a41-8331554236d9",
   "metadata": {},
   "outputs": [],
   "source": [
    "from sklearn.tree import export_text"
   ]
  },
  {
   "cell_type": "code",
   "execution_count": null,
   "id": "ed00cfe8-ce52-44ae-a6da-df036aa19994",
   "metadata": {},
   "outputs": [],
   "source": [
    "print(export_text(dt, feature_names=dv.feature_names_))"
   ]
  },
  {
   "cell_type": "code",
   "execution_count": null,
   "id": "606908c6-8729-44f1-ac16-188e2ee05803",
   "metadata": {},
   "outputs": [],
   "source": [
    "rf = RandomForestRegressor(n_estimators=10, random_state=1, n_jobs=-1)\n",
    "rf.fit(x_train, y_train)"
   ]
  },
  {
   "cell_type": "code",
   "execution_count": null,
   "id": "075c08c5-f40a-4af1-9e86-ceec630b2f56",
   "metadata": {},
   "outputs": [],
   "source": [
    "y_pred = rf.predict(x_val)"
   ]
  },
  {
   "cell_type": "code",
   "execution_count": null,
   "id": "9fc65e97-f328-4f69-b459-4e9623a05f57",
   "metadata": {},
   "outputs": [],
   "source": [
    "rmse = np.sqrt(mean_squared_error(y_val, y_pred))"
   ]
  },
  {
   "cell_type": "code",
   "execution_count": null,
   "id": "fb2e3577-fe07-45c4-ab01-527240b71dab",
   "metadata": {},
   "outputs": [],
   "source": [
    "for n in range(10,201,10):\n",
    "    rf = RandomForestRegressor(n_estimators=n, random_state=1, n_jobs=-1)\n",
    "    rf.fit(x_train, y_train)\n",
    "    \n",
    "    y_pred = rf.predict(x_val)\n",
    "    rmse = np.sqrt(mean_squared_error(y_val, y_pred))\n",
    "    \n",
    "    print('%s,  %.3f' %( n, rmse))"
   ]
  },
  {
   "cell_type": "code",
   "execution_count": null,
   "id": "456c2219-741f-4b09-8f49-cdf1b24bc4f4",
   "metadata": {},
   "outputs": [],
   "source": [
    "\n",
    "for d in [10,15,20,25]:\n",
    "    mean = []\n",
    "    for n in range(10,201,10):\n",
    "        rf = RandomForestRegressor(n_estimators=n, max_depth=d, random_state=1, n_jobs=-1)\n",
    "        rf.fit(x_train, y_train)\n",
    "    \n",
    "        y_pred = rf.predict(x_val)\n",
    "        rmse = np.sqrt(mean_squared_error(y_val, y_pred))\n",
    "        mean.append(rmse)\n",
    "    mean_rmse = sum(mean)/len(mean)\n",
    "    print('depth%s,  %.3f' %( d, mean_rmse))\n"
   ]
  },
  {
   "cell_type": "code",
   "execution_count": null,
   "id": "085f6fa8-40db-4fad-9481-91e05745e491",
   "metadata": {},
   "outputs": [],
   "source": [
    "rf = RandomForestRegressor(n_estimators=10, max_depth=20, random_state=1, n_jobs=-1)\n",
    "rf.fit(x_train, y_train)"
   ]
  },
  {
   "cell_type": "code",
   "execution_count": null,
   "id": "05ab2c30-c543-4ce3-8765-b5a4c1d16fb4",
   "metadata": {},
   "outputs": [],
   "source": [
    "n = zip(data.columns, rf.feature_importances_)"
   ]
  },
  {
   "cell_type": "code",
   "execution_count": null,
   "id": "504e433d-61ff-42bc-8472-73cc6a02f72a",
   "metadata": {},
   "outputs": [],
   "source": [
    "for i,v in n:\n",
    " print('Feature: %s, Score: %.5f' % (i,v))"
   ]
  },
  {
   "cell_type": "code",
   "execution_count": null,
   "id": "d259e610-9ea7-48fe-9e21-61af36953e26",
   "metadata": {},
   "outputs": [],
   "source": [
    "features = dv.get_feature_names_out()\n",
    "feature_names = list(features)\n",
    "feature_names = [name.replace('[', '_').replace(']', '_').replace('<', '_').replace('>', '_') for name in feature_names]\n",
    "feature_names\n",
    "dtrain = xgb.DMatrix(x_train, label=y_train, feature_names=feature_names)\n",
    "dval = xgb.DMatrix(x_val, label=y_val, feature_names=feature_names)"
   ]
  },
  {
   "cell_type": "code",
   "execution_count": null,
   "id": "9c602bae-1f67-4fa4-ac3f-e7f7561431f3",
   "metadata": {},
   "outputs": [],
   "source": [
    "watchlist = [(dtrain, 'train'), (dval, 'val')]"
   ]
  },
  {
   "cell_type": "code",
   "execution_count": null,
   "id": "085a7c01-780e-460a-ae02-c91df8dd7b7a",
   "metadata": {},
   "outputs": [],
   "source": [
    "%%capture output\n",
    "\n",
    "xgb_params = {\n",
    "    'eta': 0.1, \n",
    "    'max_depth': 6,\n",
    "    'min_child_weight': 1,\n",
    "    \n",
    "    'objective': 'reg:squarederror',\n",
    "    'nthread': 8,\n",
    "    \n",
    "    'seed': 1,\n",
    "    'verbosity': 1,\n",
    "}\n",
    "\n",
    "model = xgb.train(xgb_params, dtrain, num_boost_round=100,\n",
    "                  verbose_eval=5,\n",
    "                  evals=watchlist)"
   ]
  },
  {
   "cell_type": "code",
   "execution_count": null,
   "id": "9fca9a96-7c37-46f0-94fe-05a5b1f33479",
   "metadata": {},
   "outputs": [],
   "source": [
    "s = output.stdout\n",
    "print(s)"
   ]
  },
  {
   "cell_type": "code",
   "execution_count": null,
   "id": "c57a0ddc-d42e-48ae-8694-af860299c53a",
   "metadata": {},
   "outputs": [],
   "source": [
    "y_pred = model.predict(dval)\n",
    "rmse = np.sqrt(mean_squared_error(y_val, y_pred))\n",
    "rmse"
   ]
  },
  {
   "cell_type": "code",
   "execution_count": null,
   "id": "53fdae13-4829-450e-a0c4-7c40abf46d6c",
   "metadata": {},
   "outputs": [],
   "source": []
  },
  {
   "cell_type": "code",
   "execution_count": null,
   "id": "3a55e9e6-e84d-4815-81c7-61bfe1d4e287",
   "metadata": {},
   "outputs": [],
   "source": []
  }
 ],
 "metadata": {
  "kernelspec": {
   "display_name": "Python 3 (ipykernel)",
   "language": "python",
   "name": "python3"
  },
  "language_info": {
   "codemirror_mode": {
    "name": "ipython",
    "version": 3
   },
   "file_extension": ".py",
   "mimetype": "text/x-python",
   "name": "python",
   "nbconvert_exporter": "python",
   "pygments_lexer": "ipython3",
   "version": "3.10.12"
  }
 },
 "nbformat": 4,
 "nbformat_minor": 5
}
