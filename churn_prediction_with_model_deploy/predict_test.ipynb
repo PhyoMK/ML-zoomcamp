{
 "cells": [
  {
   "cell_type": "code",
   "execution_count": 21,
   "id": "4744b49c",
   "metadata": {},
   "outputs": [
    {
     "data": {
      "application/javascript": [
       "IPython.notebook.set_autosave_interval(0)"
      ]
     },
     "metadata": {},
     "output_type": "display_data"
    },
    {
     "name": "stdout",
     "output_type": "stream",
     "text": [
      "Autosave disabled\n"
     ]
    }
   ],
   "source": [
    "%autosave 0"
   ]
  },
  {
   "cell_type": "code",
   "execution_count": 22,
   "id": "7f045265",
   "metadata": {},
   "outputs": [],
   "source": [
    "import requests"
   ]
  },
  {
   "cell_type": "code",
   "execution_count": 23,
   "id": "ffe7f6ec",
   "metadata": {},
   "outputs": [],
   "source": [
    "url = 'http://localhost:9696/predict'"
   ]
  },
  {
   "cell_type": "code",
   "execution_count": 24,
   "id": "e18c020b",
   "metadata": {},
   "outputs": [],
   "source": [
    "customer = {\n",
    " \"gender\": \"female\",\n",
    " \"seniorcitizen\": 0,\n",
    " \"partner\": \"no\",\n",
    " \"dependents\": \"no\",\n",
    " \"tenure\": 0,\n",
    " \"phoneservice\": \"no\",\n",
    " \"multiplelines\": \"no_phone_service\",\n",
    " \"internetservice\": \"dsl\",\n",
    " \"onlinesecurity\": \"no\",\n",
    " \"onlinebackup\": \"no\",\n",
    " \"deviceprotection\": \"no\",\n",
    " \"techsupport\": \"no\",\n",
    " \"streamingtv\": \"no\",\n",
    " \"streamingmovies\": \"no\",\n",
    " \"contract\": \"month-to-month\",\n",
    " \"paperlessbilling\": \"yes\",\n",
    " \"paymentmethod\": \"mailed_check\",\n",
    " \"monthlycharges\": 29.4,\n",
    " \"totalcharges\": 29.4\n",
    " }"
   ]
  },
  {
   "cell_type": "code",
   "execution_count": 25,
   "id": "ab2f793d",
   "metadata": {},
   "outputs": [
    {
     "data": {
      "text/plain": [
       "{'churn': True, 'churn probability': 0.5912654663253599}"
      ]
     },
     "execution_count": 25,
     "metadata": {},
     "output_type": "execute_result"
    }
   ],
   "source": [
    "response = requests.post(url, json = customer).json()\n",
    "response"
   ]
  },
  {
   "cell_type": "code",
   "execution_count": 26,
   "id": "2f6efdf8",
   "metadata": {},
   "outputs": [
    {
     "name": "stdout",
     "output_type": "stream",
     "text": [
      "sending promo email to 9895-vfoxh\n"
     ]
    }
   ],
   "source": [
    "if response['churn'] == True:\n",
    "    print('sending promo email to %s' % ('9895-vfoxh'))"
   ]
  },
  {
   "cell_type": "code",
   "execution_count": null,
   "id": "bf82ff31",
   "metadata": {},
   "outputs": [],
   "source": []
  }
 ],
 "metadata": {
  "kernelspec": {
   "display_name": "Python 3 (ipykernel)",
   "language": "python",
   "name": "python3"
  },
  "language_info": {
   "codemirror_mode": {
    "name": "ipython",
    "version": 3
   },
   "file_extension": ".py",
   "mimetype": "text/x-python",
   "name": "python",
   "nbconvert_exporter": "python",
   "pygments_lexer": "ipython3",
   "version": "3.10.12"
  }
 },
 "nbformat": 4,
 "nbformat_minor": 5
}
