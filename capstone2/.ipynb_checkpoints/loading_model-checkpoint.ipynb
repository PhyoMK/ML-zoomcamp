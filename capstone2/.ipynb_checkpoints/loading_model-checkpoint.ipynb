{
 "cells": [
  {
   "cell_type": "code",
   "execution_count": 6,
   "id": "08bf0029-6e2c-4048-823e-abcf4f762af4",
   "metadata": {},
   "outputs": [],
   "source": [
    "import tensorflow as tf\n",
    "import numpy as np\n",
    "\n",
    "from tensorflow import keras\n",
    "from tensorflow.keras.preprocessing.image import load_img\n",
    "from tensorflow.keras.applications.xception import preprocess_input"
   ]
  },
  {
   "cell_type": "code",
   "execution_count": 7,
   "id": "a69c636e-030e-43a9-a407-cc1c16e3b026",
   "metadata": {},
   "outputs": [],
   "source": [
    "model = keras.models.load_model('final_model_08_0.990.h5', compile=False)"
   ]
  },
  {
   "cell_type": "code",
   "execution_count": 8,
   "id": "4f3c63a9-d54e-4185-9d20-e403fd657562",
   "metadata": {},
   "outputs": [],
   "source": [
    "path = './shutterstock_382144705.jpg'\n",
    "img = load_img(path, target_size=(150, 150))"
   ]
  },
  {
   "cell_type": "code",
   "execution_count": 9,
   "id": "ba1b69d0-cad9-43b8-a037-8b545b858d1f",
   "metadata": {},
   "outputs": [],
   "source": [
    "x = np.array(img)\n",
    "X = np.array([x])\n",
    "\n",
    "X = preprocess_input(X)"
   ]
  },
  {
   "cell_type": "code",
   "execution_count": 10,
   "id": "7a33546e-87c1-471b-bd80-5e4177ef1c3f",
   "metadata": {},
   "outputs": [
    {
     "name": "stdout",
     "output_type": "stream",
     "text": [
      "1/1 [==============================] - 7s 7s/step\n"
     ]
    }
   ],
   "source": [
    "pred = model.predict(X)"
   ]
  },
  {
   "cell_type": "code",
   "execution_count": 11,
   "id": "c7a625bd-f8d4-49dd-872d-a7751ae831e2",
   "metadata": {},
   "outputs": [
    {
     "name": "stdout",
     "output_type": "stream",
     "text": [
      "probabilty of positve [1.]\n"
     ]
    }
   ],
   "source": [
    "print('probabilty of positve {}'.format(pred[0]))"
   ]
  },
  {
   "cell_type": "code",
   "execution_count": 12,
   "id": "8c23e611-c169-4196-805b-14a11097a718",
   "metadata": {},
   "outputs": [
    {
     "name": "stderr",
     "output_type": "stream",
     "text": [
      "WARNING:absl:Found untraced functions such as _jit_compiled_convolution_op while saving (showing 1 of 1). These functions will not be directly callable after loading.\n"
     ]
    },
    {
     "name": "stdout",
     "output_type": "stream",
     "text": [
      "INFO:tensorflow:Assets written to: C:\\Users\\PHYOMI~1\\AppData\\Local\\Temp\\tmp7tnuemy8\\assets\n"
     ]
    },
    {
     "name": "stderr",
     "output_type": "stream",
     "text": [
      "INFO:tensorflow:Assets written to: C:\\Users\\PHYOMI~1\\AppData\\Local\\Temp\\tmp7tnuemy8\\assets\n"
     ]
    }
   ],
   "source": [
    "converter = tf.lite.TFLiteConverter.from_keras_model(model)\n",
    "\n",
    "tflite_model = converter.convert()\n",
    "\n",
    "with open('surface_crack-classification-model.tflite', 'wb') as f_out:\n",
    "    f_out.write(tflite_model)"
   ]
  },
  {
   "cell_type": "code",
   "execution_count": 13,
   "id": "77dfdc8e-f802-41b1-9d2f-5e1b7949df0b",
   "metadata": {},
   "outputs": [],
   "source": [
    "import tensorflow.lite as tflite"
   ]
  },
  {
   "cell_type": "code",
   "execution_count": 14,
   "id": "5851a0c9-3f82-4716-b469-a4c7533b65bf",
   "metadata": {},
   "outputs": [],
   "source": [
    "def download_image(url):\n",
    "    with request.urlopen(url) as resp:\n",
    "        buffer = resp.read()\n",
    "    stream = BytesIO(buffer)\n",
    "    img = Image.open(stream)\n",
    "    return img\n",
    "\n",
    "\n",
    "def prepare_image(img, target_size):\n",
    "    if img.mode != 'RGB':\n",
    "        img = img.convert('RGB')\n",
    "    img = img.resize(target_size, Image.NEAREST)\n",
    "    return img\n",
    "\n",
    "def prepare_input(x):\n",
    "    return x / 255.0\n",
    "\n"
   ]
  },
  {
   "cell_type": "code",
   "execution_count": 15,
   "id": "e4f3cee0-ee34-4bdb-92d8-957219ace547",
   "metadata": {},
   "outputs": [],
   "source": [
    "interpreter = tflite.Interpreter(model_path='surface_crack-classification-model.tflite')\n",
    "interpreter.allocate_tensors()\n",
    "\n",
    "input_index = interpreter.get_input_details()[0]['index']\n",
    "output_index = interpreter.get_output_details()[0]['index']"
   ]
  },
  {
   "cell_type": "code",
   "execution_count": 16,
   "id": "00006456-406a-40ad-89e4-9f99a939ca71",
   "metadata": {},
   "outputs": [],
   "source": [
    "x = np.array(img, dtype='float32')\n",
    "X = np.array([x])\n",
    "X = prepare_input(X)\n",
    "\n",
    "interpreter.set_tensor(input_index, X)\n",
    "interpreter.invoke()\n",
    "pred = interpreter.get_tensor(output_index)"
   ]
  },
  {
   "cell_type": "code",
   "execution_count": 17,
   "id": "ef244141-fb7b-451d-a35f-5bb2832bb967",
   "metadata": {},
   "outputs": [
    {
     "name": "stdout",
     "output_type": "stream",
     "text": [
      "probabilty of positve [1.]\n"
     ]
    }
   ],
   "source": [
    "print('probabilty of positve {}'.format(pred[0]))"
   ]
  },
  {
   "cell_type": "code",
   "execution_count": null,
   "id": "8aaf863d-0966-4177-9cb3-b8160980912a",
   "metadata": {},
   "outputs": [],
   "source": []
  }
 ],
 "metadata": {
  "kernelspec": {
   "display_name": "Python 3 (ipykernel)",
   "language": "python",
   "name": "python3"
  },
  "language_info": {
   "codemirror_mode": {
    "name": "ipython",
    "version": 3
   },
   "file_extension": ".py",
   "mimetype": "text/x-python",
   "name": "python",
   "nbconvert_exporter": "python",
   "pygments_lexer": "ipython3",
   "version": "3.9.18"
  }
 },
 "nbformat": 4,
 "nbformat_minor": 5
}
