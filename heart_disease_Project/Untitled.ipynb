{
 "cells": [
  {
   "cell_type": "code",
   "execution_count": 1,
   "id": "1a477a82-ae50-46f8-9c73-a7ed20acf14d",
   "metadata": {},
   "outputs": [
    {
     "data": {
      "application/javascript": [
       "IPython.notebook.set_autosave_interval(0)"
      ]
     },
     "metadata": {},
     "output_type": "display_data"
    },
    {
     "name": "stdout",
     "output_type": "stream",
     "text": [
      "Autosave disabled\n"
     ]
    }
   ],
   "source": [
    "%autosave 0"
   ]
  },
  {
   "cell_type": "code",
   "execution_count": 4,
   "id": "e5164aa8-52b7-499b-9f0a-2cc9eae07814",
   "metadata": {},
   "outputs": [],
   "source": [
    "import requests"
   ]
  },
  {
   "cell_type": "code",
   "execution_count": 5,
   "id": "63162bab-8f50-497c-90cd-f3bb2cef6234",
   "metadata": {},
   "outputs": [],
   "source": [
    "url = 'http://localhost:9696/predict'"
   ]
  },
  {
   "cell_type": "code",
   "execution_count": 6,
   "id": "a7675d8e-5469-47cf-a201-c9d1fab84d9d",
   "metadata": {},
   "outputs": [],
   "source": [
    "customer = {\n",
    "     \"age\": 56,\n",
    "     \"sex\": \"male\",\n",
    "     \"chest_pain_type\": \"asymptomatic\",\n",
    "     \"resting_blood_pressure\": 150,\n",
    "     \"cholesterol\": 230,\n",
    "     \"fasting_blood_sugar\": \"true\",\n",
    "     \"resting_ecg\": \"st_t_wave_abnormal\",\n",
    "     \"max_heart_rate\": 124,\n",
    "     \"exercise_angina\": \"yes\",\n",
    "     \"oldpeak\": 1.5,\n",
    "     \"st_slope\": \"flat\"\n",
    "}"
   ]
  },
  {
   "cell_type": "code",
   "execution_count": 10,
   "id": "c870d8cc-092c-404a-9c8f-a2e7bedb4ed0",
   "metadata": {},
   "outputs": [
    {
     "name": "stdout",
     "output_type": "stream",
     "text": [
      "{'heart disease': True, 'heart disease probability': 0.9921022727272728}\n"
     ]
    }
   ],
   "source": [
    "response = requests.post(url, json = customer).json()\n",
    "print(response)"
   ]
  },
  {
   "cell_type": "code",
   "execution_count": 13,
   "id": "954aac73-0735-475c-a306-f04073416db9",
   "metadata": {},
   "outputs": [
    {
     "name": "stdout",
     "output_type": "stream",
     "text": [
      "The person has heartdisease\n"
     ]
    }
   ],
   "source": [
    "if response['heart disease'] == True:\n",
    "    print('The person has heartdisease')\n",
    "else:\n",
    "    print('The person has no heartdisease')\n"
   ]
  },
  {
   "cell_type": "code",
   "execution_count": null,
   "id": "3dcd4e07-fbca-452d-afc8-73676fc30cd9",
   "metadata": {},
   "outputs": [],
   "source": []
  }
 ],
 "metadata": {
  "kernelspec": {
   "display_name": "Python 3 (ipykernel)",
   "language": "python",
   "name": "python3"
  },
  "language_info": {
   "codemirror_mode": {
    "name": "ipython",
    "version": 3
   },
   "file_extension": ".py",
   "mimetype": "text/x-python",
   "name": "python",
   "nbconvert_exporter": "python",
   "pygments_lexer": "ipython3",
   "version": "3.10.12"
  }
 },
 "nbformat": 4,
 "nbformat_minor": 5
}
