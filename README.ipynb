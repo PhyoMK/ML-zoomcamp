
{
 "cells": [
  {
   "cell_type": "code",
   "execution_count": 80,
   "id": "26fae9a5-0fb7-4b8a-9fe2-4e261de7e8f5",
   "metadata": {},
   "outputs": [],
   "source": [
    "import tensorflow as tf\n",
    "import numpy as np\n",
    "import matplotlib.pyplot as plt\n",
    "\n",
    "from tensorflow import keras\n",
    "\n",
    "from tensorflow.keras import layers\n",
    "from tensorflow.keras import models\n",
    "from tensorflow.keras import optimizers\n",
    "\n",
    "from tensorflow.keras.preprocessing.image import load_img\n",
    "from keras.utils import np_utils\n",
    "from sklearn.model_selection import train_test_split\n",
    "from PIL import Image\n",
    "from tensorflow import keras\n",
    "from tensorflow.keras.preprocessing.image import ImageDataGenerator\n",
    "from tensorflow.keras.utils import image_dataset_from_directory\n",
    "\n",
    "from tensorflow.keras.applications.xception import Xception\n",
    "from tensorflow.keras.applications.xception import preprocess_input\n",
    "from tensorflow.keras.applications.xception import decode_predictions"
   ]
  },
  {
   "cell_type": "markdown",
   "id": "edac69be-ea00-4798-8873-f988bca6b65a",
   "metadata": {},
   "source": [
    "#  Images to train,val,test files"
   ]
  },
  {
   "cell_type": "code",
   "execution_count": 2,
   "id": "f9f38ce8-8405-4e09-9457-9b097fd9a5bd",
   "metadata": {},
   "outputs": [],
   "source": [
    "import os\n",
    "class_names = sorted(os.listdir(\"./images\"))"
   ]
  },
  {
   "cell_type": "code",
   "execution_count": 6,
   "id": "68fd1191-b41a-4172-965f-31c04791a12e",
   "metadata": {},
   "outputs": [],
   "source": [
    "def paths():\n",
    "    paths = list()\n",
    "    for type in class_names:\n",
    "        base_name = \"./images/{}/\".format(type)\n",
    "        for img_name in os.listdir(base_name):\n",
    "            paths.append(base_name + img_name)\n",
    "    return paths\n",
    "\n",
    "paths = paths()"
   ]
  },
  {
   "cell_type": "code",
   "execution_count": 7,
   "id": "76422df8-dee5-476e-817c-fc68bf0a1750",
   "metadata": {},
   "outputs": [],
   "source": [
    "train_paths, val_test_paths= train_test_split(paths, test_size=0.2, random_state=1029)\n",
    "val_paths, test_paths = train_test_split(val_test_paths, test_size=0.5, random_state=1029)"
   ]
  },
  {
   "cell_type": "code",
   "execution_count": 10,
   "id": "63d63e35-964a-4aa6-974e-894651674adc",
   "metadata": {},
   "outputs": [],
   "source": [
    "def train_val_test_dataset(name, paths):\n",
    "    os.mkdir('./' + name)\n",
    "    for type in class_names:\n",
    "        os.mkdir('./'+ name + '/' + type)\n",
    "        \n",
    "    for i in range(len(paths)):\n",
    "        for type in class_names:\n",
    "             if (paths[i].split('/')[2] == type):\n",
    "                img = Image.open(paths[i])\n",
    "                img.save('./'+ name + '/'+ type + '/' + paths[i].split('/')[3] )"
   ]
  },
  {
   "cell_type": "code",
   "execution_count": 11,
   "id": "1709e0d0-b18e-49ef-aa2c-fc5b2aa18a4e",
   "metadata": {},
   "outputs": [],
   "source": [
    "train_val_test_dataset('train', train_paths)\n",
    "train_val_test_dataset('val', val_paths)\n",
    "train_val_test_dataset('test', test_paths)"
   ]
  },
  {
   "cell_type": "markdown",
   "id": "7d7ca409-d575-4552-a4a9-2694ee47af22",
   "metadata": {},
   "source": [
    "# Train,val,test image processing with batch size 128 and input size 299"
   ]
  },
  {
   "cell_type": "code",
   "execution_count": 105,
   "id": "17f4cf57-3c9a-4b63-84ca-1ecea1a6f588",
   "metadata": {},
   "outputs": [
    {
     "name": "stdout",
     "output_type": "stream",
     "text": [
      "Found 32000 images belonging to 2 classes.\n",
      "Found 4000 images belonging to 2 classes.\n",
      "Found 4000 images belonging to 2 classes.\n"
     ]
    }
   ],
   "source": [
    "train_gen = ImageDataGenerator(rescale=1./255)\n",
    "\n",
    "train_ds =  train_gen.flow_from_directory(\n",
    "            './train',\n",
    "            target_size=(150, 150),\n",
    "            batch_size=64,\n",
    "            class_mode='binary'\n",
    ")\n",
    "\n",
    "val_gen = ImageDataGenerator(rescale=1./255)\n",
    "\n",
    "val_ds =  val_gen.flow_from_directory(\n",
    "         './val',\n",
    "          target_size=(150, 150),\n",
    "          batch_size=64,\n",
    "          shuffle=False,\n",
    "          class_mode='binary'\n",
    ")\n",
    "\n",
    "test_gen = ImageDataGenerator(rescale=1./255)\n",
    "\n",
    "test_ds = test_gen.flow_from_directory(\n",
    "    './test',\n",
    "    target_size=(150, 150),\n",
    "    batch_size=64,\n",
    "    shuffle=False,\n",
    "    class_mode='binary'\n",
    ")"
   ]
  },
  {
   "cell_type": "markdown",
   "id": "6e1bad40-f7c2-4b6a-8dad-7750621181aa",
   "metadata": {},
   "source": [
    "# Model"
   ]
  },
  {
   "cell_type": "code",
   "execution_count": 107,
   "id": "249aa0ac-4c8e-4b28-beb9-4a534e6d8456",
   "metadata": {},
   "outputs": [],
   "source": [
    "def make_model(learning_rate=0.01):\n",
    "    model = models.Sequential()\n",
    "\n",
    "    model.add(layers.Conv2D(32, (3, 3), activation='relu',\n",
    "                        input_shape=(150, 150, 3)))\n",
    "    model.add(layers.MaxPooling2D((2, 2)))\n",
    "    model.add(layers.Flatten())\n",
    "    model.add(layers.Dense(64, activation='relu'))\n",
    "    model.add(layers.Dense(1, activation='sigmoid'))\n",
    "    \n",
    "    model.compile(loss='binary_crossentropy',\\\n",
    "             optimizer=optimizers.SGD(learning_rate=learning_rate, momentum=0.8),\\\n",
    "             metrics=['acc'])\n",
    "\n",
    "    return model\n",
    "    "
   ]
  },
  {
   "cell_type": "code",
   "execution_count": 108,
   "id": "302515a7-7f7a-4376-94ad-a0e625c35eea",
   "metadata": {},
   "outputs": [
    {
     "name": "stdout",
     "output_type": "stream",
     "text": [
      "Model: \"sequential_6\"\n",
      "_________________________________________________________________\n",
      " Layer (type)                Output Shape              Param #   \n",
      "=================================================================\n",
      " conv2d_54 (Conv2D)          (None, 148, 148, 32)      896       \n",
      "                                                                 \n",
      " max_pooling2d_12 (MaxPoolin  (None, 74, 74, 32)       0         \n",
      " g2D)                                                            \n",
      "                                                                 \n",
      " flatten_6 (Flatten)         (None, 175232)            0         \n",
      "                                                                 \n",
      " dense_30 (Dense)            (None, 64)                11214912  \n",
      "                                                                 \n",
      " dense_31 (Dense)            (None, 1)                 65        \n",
      "                                                                 \n",
      "=================================================================\n",
      "Total params: 11,215,873\n",
      "Trainable params: 11,215,873\n",
      "Non-trainable params: 0\n",
      "_________________________________________________________________\n"
     ]
    }
   ],
   "source": [
    "model.summary()"
   ]
  },
  {
   "cell_type": "markdown",
   "id": "a19b2ed0-e26d-4948-84c5-9ec1d6aa43a5",
   "metadata": {},
   "source": [
    "# Model Tuning with learning rate"
   ]
  },
  {
   "cell_type": "code",
   "execution_count": 109,
   "id": "6b940fc6-8c60-4671-9990-05855493b63f",
   "metadata": {},
   "outputs": [
    {
     "name": "stdout",
     "output_type": "stream",
     "text": [
      "0.0001\n",
      "Epoch 1/10\n",
      "500/500 [==============================] - 68s 134ms/step - loss: 0.6528 - acc: 0.6697 - val_loss: 0.6145 - val_acc: 0.8330\n",
      "Epoch 2/10\n",
      "500/500 [==============================] - 67s 134ms/step - loss: 0.5751 - acc: 0.7903 - val_loss: 0.5326 - val_acc: 0.8140\n",
      "Epoch 3/10\n",
      "500/500 [==============================] - 68s 135ms/step - loss: 0.5003 - acc: 0.8237 - val_loss: 0.4823 - val_acc: 0.8515\n",
      "Epoch 4/10\n",
      "500/500 [==============================] - 70s 139ms/step - loss: 0.4438 - acc: 0.8415 - val_loss: 0.4225 - val_acc: 0.8643\n",
      "Epoch 5/10\n",
      "500/500 [==============================] - 74s 147ms/step - loss: 0.4022 - acc: 0.8541 - val_loss: 0.3844 - val_acc: 0.8597\n",
      "Epoch 6/10\n",
      "500/500 [==============================] - 86s 171ms/step - loss: 0.3736 - acc: 0.8629 - val_loss: 0.3588 - val_acc: 0.8705\n",
      "Epoch 7/10\n",
      "500/500 [==============================] - 84s 168ms/step - loss: 0.3525 - acc: 0.8683 - val_loss: 0.3423 - val_acc: 0.8760\n",
      "Epoch 8/10\n",
      "500/500 [==============================] - 85s 169ms/step - loss: 0.3374 - acc: 0.8744 - val_loss: 0.3417 - val_acc: 0.8760\n",
      "Epoch 9/10\n",
      "500/500 [==============================] - 83s 167ms/step - loss: 0.3237 - acc: 0.8792 - val_loss: 0.3258 - val_acc: 0.8865\n",
      "Epoch 10/10\n",
      "500/500 [==============================] - 80s 160ms/step - loss: 0.3114 - acc: 0.8846 - val_loss: 0.3030 - val_acc: 0.8925\n",
      "\n",
      "\n",
      "0.001\n",
      "Epoch 1/10\n",
      "500/500 [==============================] - 84s 166ms/step - loss: 0.5525 - acc: 0.7259 - val_loss: 0.4671 - val_acc: 0.8058\n",
      "Epoch 2/10\n",
      "500/500 [==============================] - 84s 169ms/step - loss: 0.4007 - acc: 0.8384 - val_loss: 0.4106 - val_acc: 0.8330\n",
      "Epoch 3/10\n",
      "500/500 [==============================] - 83s 165ms/step - loss: 0.3388 - acc: 0.8738 - val_loss: 0.3022 - val_acc: 0.8835\n",
      "Epoch 4/10\n",
      "500/500 [==============================] - 84s 168ms/step - loss: 0.2772 - acc: 0.9034 - val_loss: 0.2380 - val_acc: 0.9252\n",
      "Epoch 5/10\n",
      "500/500 [==============================] - 85s 170ms/step - loss: 0.2158 - acc: 0.9301 - val_loss: 0.1890 - val_acc: 0.9482\n",
      "Epoch 6/10\n",
      "500/500 [==============================] - 86s 173ms/step - loss: 0.1705 - acc: 0.9467 - val_loss: 0.1464 - val_acc: 0.9490\n",
      "Epoch 7/10\n",
      "500/500 [==============================] - 83s 165ms/step - loss: 0.1353 - acc: 0.9581 - val_loss: 0.1249 - val_acc: 0.9665\n",
      "Epoch 8/10\n",
      "500/500 [==============================] - 85s 170ms/step - loss: 0.1144 - acc: 0.9640 - val_loss: 0.0975 - val_acc: 0.9735\n",
      "Epoch 9/10\n",
      "500/500 [==============================] - 83s 165ms/step - loss: 0.0964 - acc: 0.9707 - val_loss: 0.0912 - val_acc: 0.9635\n",
      "Epoch 10/10\n",
      "500/500 [==============================] - 83s 167ms/step - loss: 0.0851 - acc: 0.9733 - val_loss: 0.0716 - val_acc: 0.9780\n",
      "\n",
      "\n",
      "0.01\n",
      "Epoch 1/10\n",
      "500/500 [==============================] - 79s 157ms/step - loss: 0.4221 - acc: 0.8481 - val_loss: 0.1420 - val_acc: 0.9632\n",
      "Epoch 2/10\n",
      "500/500 [==============================] - 78s 156ms/step - loss: 0.1493 - acc: 0.9592 - val_loss: 0.0822 - val_acc: 0.9768\n",
      "Epoch 3/10\n",
      "500/500 [==============================] - 81s 162ms/step - loss: 0.1024 - acc: 0.9728 - val_loss: 0.0638 - val_acc: 0.9812\n",
      "Epoch 4/10\n",
      "500/500 [==============================] - 81s 163ms/step - loss: 0.0817 - acc: 0.9773 - val_loss: 0.0638 - val_acc: 0.9815\n",
      "Epoch 5/10\n",
      "500/500 [==============================] - 83s 165ms/step - loss: 0.0722 - acc: 0.9792 - val_loss: 0.0798 - val_acc: 0.9715\n",
      "Epoch 6/10\n",
      "500/500 [==============================] - 79s 158ms/step - loss: 0.0653 - acc: 0.9809 - val_loss: 0.0608 - val_acc: 0.9815\n",
      "Epoch 7/10\n",
      "500/500 [==============================] - 83s 166ms/step - loss: 0.0622 - acc: 0.9815 - val_loss: 0.0530 - val_acc: 0.9833\n",
      "Epoch 8/10\n",
      "500/500 [==============================] - 81s 161ms/step - loss: 0.0596 - acc: 0.9824 - val_loss: 0.0528 - val_acc: 0.9818\n",
      "Epoch 9/10\n",
      "500/500 [==============================] - 80s 160ms/step - loss: 0.0565 - acc: 0.9832 - val_loss: 0.0534 - val_acc: 0.9818\n",
      "Epoch 10/10\n",
      "500/500 [==============================] - 78s 155ms/step - loss: 0.0510 - acc: 0.9853 - val_loss: 0.0513 - val_acc: 0.9825\n",
      "\n",
      "\n",
      "0.1\n",
      "Epoch 1/10\n",
      "500/500 [==============================] - 76s 151ms/step - loss: 0.7152 - acc: 0.5002 - val_loss: 0.6931 - val_acc: 0.5082\n",
      "Epoch 2/10\n",
      "310/500 [=================>............] - ETA: 23s - loss: 0.6938 - acc: 0.4986"
     ]
    },
    {
     "ename": "KeyboardInterrupt",
     "evalue": "",
     "output_type": "error",
     "traceback": [
      "\u001b[1;31m---------------------------------------------------------------------------\u001b[0m",
      "\u001b[1;31mKeyboardInterrupt\u001b[0m                         Traceback (most recent call last)",
      "Cell \u001b[1;32mIn[109], line 7\u001b[0m\n\u001b[0;32m      4\u001b[0m \u001b[38;5;28mprint\u001b[39m(lr)\n\u001b[0;32m      6\u001b[0m model \u001b[38;5;241m=\u001b[39m make_model(learning_rate\u001b[38;5;241m=\u001b[39mlr)\n\u001b[1;32m----> 7\u001b[0m history \u001b[38;5;241m=\u001b[39m \u001b[43mmodel\u001b[49m\u001b[38;5;241;43m.\u001b[39;49m\u001b[43mfit\u001b[49m\u001b[43m(\u001b[49m\u001b[43mtrain_ds\u001b[49m\u001b[43m,\u001b[49m\u001b[43m \u001b[49m\u001b[43mepochs\u001b[49m\u001b[38;5;241;43m=\u001b[39;49m\u001b[38;5;241;43m10\u001b[39;49m\u001b[43m,\u001b[49m\u001b[43m \u001b[49m\u001b[43mvalidation_data\u001b[49m\u001b[38;5;241;43m=\u001b[39;49m\u001b[43mval_ds\u001b[49m\u001b[43m)\u001b[49m\n\u001b[0;32m      8\u001b[0m scores[lr] \u001b[38;5;241m=\u001b[39m history\u001b[38;5;241m.\u001b[39mhistory\n\u001b[0;32m     10\u001b[0m \u001b[38;5;28mprint\u001b[39m()\n",
      "File \u001b[1;32m~\\anaconda3\\Anaconda3\\lib\\site-packages\\keras\\utils\\traceback_utils.py:65\u001b[0m, in \u001b[0;36mfilter_traceback.<locals>.error_handler\u001b[1;34m(*args, **kwargs)\u001b[0m\n\u001b[0;32m     63\u001b[0m filtered_tb \u001b[38;5;241m=\u001b[39m \u001b[38;5;28;01mNone\u001b[39;00m\n\u001b[0;32m     64\u001b[0m \u001b[38;5;28;01mtry\u001b[39;00m:\n\u001b[1;32m---> 65\u001b[0m     \u001b[38;5;28;01mreturn\u001b[39;00m fn(\u001b[38;5;241m*\u001b[39margs, \u001b[38;5;241m*\u001b[39m\u001b[38;5;241m*\u001b[39mkwargs)\n\u001b[0;32m     66\u001b[0m \u001b[38;5;28;01mexcept\u001b[39;00m \u001b[38;5;167;01mException\u001b[39;00m \u001b[38;5;28;01mas\u001b[39;00m e:\n\u001b[0;32m     67\u001b[0m     filtered_tb \u001b[38;5;241m=\u001b[39m _process_traceback_frames(e\u001b[38;5;241m.\u001b[39m__traceback__)\n",
      "File \u001b[1;32m~\\anaconda3\\Anaconda3\\lib\\site-packages\\keras\\engine\\training.py:1570\u001b[0m, in \u001b[0;36mModel.fit\u001b[1;34m(self, x, y, batch_size, epochs, verbose, callbacks, validation_split, validation_data, shuffle, class_weight, sample_weight, initial_epoch, steps_per_epoch, validation_steps, validation_batch_size, validation_freq, max_queue_size, workers, use_multiprocessing)\u001b[0m\n\u001b[0;32m   1568\u001b[0m logs \u001b[38;5;241m=\u001b[39m tmp_logs\n\u001b[0;32m   1569\u001b[0m end_step \u001b[38;5;241m=\u001b[39m step \u001b[38;5;241m+\u001b[39m data_handler\u001b[38;5;241m.\u001b[39mstep_increment\n\u001b[1;32m-> 1570\u001b[0m \u001b[43mcallbacks\u001b[49m\u001b[38;5;241;43m.\u001b[39;49m\u001b[43mon_train_batch_end\u001b[49m\u001b[43m(\u001b[49m\u001b[43mend_step\u001b[49m\u001b[43m,\u001b[49m\u001b[43m \u001b[49m\u001b[43mlogs\u001b[49m\u001b[43m)\u001b[49m\n\u001b[0;32m   1571\u001b[0m \u001b[38;5;28;01mif\u001b[39;00m \u001b[38;5;28mself\u001b[39m\u001b[38;5;241m.\u001b[39mstop_training:\n\u001b[0;32m   1572\u001b[0m     \u001b[38;5;28;01mbreak\u001b[39;00m\n",
      "File \u001b[1;32m~\\anaconda3\\Anaconda3\\lib\\site-packages\\keras\\callbacks.py:470\u001b[0m, in \u001b[0;36mCallbackList.on_train_batch_end\u001b[1;34m(self, batch, logs)\u001b[0m\n\u001b[0;32m    463\u001b[0m \u001b[38;5;250m\u001b[39m\u001b[38;5;124;03m\"\"\"Calls the `on_train_batch_end` methods of its callbacks.\u001b[39;00m\n\u001b[0;32m    464\u001b[0m \n\u001b[0;32m    465\u001b[0m \u001b[38;5;124;03mArgs:\u001b[39;00m\n\u001b[0;32m    466\u001b[0m \u001b[38;5;124;03m    batch: Integer, index of batch within the current epoch.\u001b[39;00m\n\u001b[0;32m    467\u001b[0m \u001b[38;5;124;03m    logs: Dict. Aggregated metric results up until this batch.\u001b[39;00m\n\u001b[0;32m    468\u001b[0m \u001b[38;5;124;03m\"\"\"\u001b[39;00m\n\u001b[0;32m    469\u001b[0m \u001b[38;5;28;01mif\u001b[39;00m \u001b[38;5;28mself\u001b[39m\u001b[38;5;241m.\u001b[39m_should_call_train_batch_hooks:\n\u001b[1;32m--> 470\u001b[0m     \u001b[38;5;28;43mself\u001b[39;49m\u001b[38;5;241;43m.\u001b[39;49m\u001b[43m_call_batch_hook\u001b[49m\u001b[43m(\u001b[49m\u001b[43mModeKeys\u001b[49m\u001b[38;5;241;43m.\u001b[39;49m\u001b[43mTRAIN\u001b[49m\u001b[43m,\u001b[49m\u001b[43m \u001b[49m\u001b[38;5;124;43m\"\u001b[39;49m\u001b[38;5;124;43mend\u001b[39;49m\u001b[38;5;124;43m\"\u001b[39;49m\u001b[43m,\u001b[49m\u001b[43m \u001b[49m\u001b[43mbatch\u001b[49m\u001b[43m,\u001b[49m\u001b[43m \u001b[49m\u001b[43mlogs\u001b[49m\u001b[38;5;241;43m=\u001b[39;49m\u001b[43mlogs\u001b[49m\u001b[43m)\u001b[49m\n",
      "File \u001b[1;32m~\\anaconda3\\Anaconda3\\lib\\site-packages\\keras\\callbacks.py:317\u001b[0m, in \u001b[0;36mCallbackList._call_batch_hook\u001b[1;34m(self, mode, hook, batch, logs)\u001b[0m\n\u001b[0;32m    315\u001b[0m     \u001b[38;5;28mself\u001b[39m\u001b[38;5;241m.\u001b[39m_call_batch_begin_hook(mode, batch, logs)\n\u001b[0;32m    316\u001b[0m \u001b[38;5;28;01melif\u001b[39;00m hook \u001b[38;5;241m==\u001b[39m \u001b[38;5;124m\"\u001b[39m\u001b[38;5;124mend\u001b[39m\u001b[38;5;124m\"\u001b[39m:\n\u001b[1;32m--> 317\u001b[0m     \u001b[38;5;28;43mself\u001b[39;49m\u001b[38;5;241;43m.\u001b[39;49m\u001b[43m_call_batch_end_hook\u001b[49m\u001b[43m(\u001b[49m\u001b[43mmode\u001b[49m\u001b[43m,\u001b[49m\u001b[43m \u001b[49m\u001b[43mbatch\u001b[49m\u001b[43m,\u001b[49m\u001b[43m \u001b[49m\u001b[43mlogs\u001b[49m\u001b[43m)\u001b[49m\n\u001b[0;32m    318\u001b[0m \u001b[38;5;28;01melse\u001b[39;00m:\n\u001b[0;32m    319\u001b[0m     \u001b[38;5;28;01mraise\u001b[39;00m \u001b[38;5;167;01mValueError\u001b[39;00m(\n\u001b[0;32m    320\u001b[0m         \u001b[38;5;124mf\u001b[39m\u001b[38;5;124m\"\u001b[39m\u001b[38;5;124mUnrecognized hook: \u001b[39m\u001b[38;5;132;01m{\u001b[39;00mhook\u001b[38;5;132;01m}\u001b[39;00m\u001b[38;5;124m. \u001b[39m\u001b[38;5;124m\"\u001b[39m\n\u001b[0;32m    321\u001b[0m         \u001b[38;5;124m'\u001b[39m\u001b[38;5;124mExpected values are [\u001b[39m\u001b[38;5;124m\"\u001b[39m\u001b[38;5;124mbegin\u001b[39m\u001b[38;5;124m\"\u001b[39m\u001b[38;5;124m, \u001b[39m\u001b[38;5;124m\"\u001b[39m\u001b[38;5;124mend\u001b[39m\u001b[38;5;124m\"\u001b[39m\u001b[38;5;124m]\u001b[39m\u001b[38;5;124m'\u001b[39m\n\u001b[0;32m    322\u001b[0m     )\n",
      "File \u001b[1;32m~\\anaconda3\\Anaconda3\\lib\\site-packages\\keras\\callbacks.py:340\u001b[0m, in \u001b[0;36mCallbackList._call_batch_end_hook\u001b[1;34m(self, mode, batch, logs)\u001b[0m\n\u001b[0;32m    337\u001b[0m     batch_time \u001b[38;5;241m=\u001b[39m time\u001b[38;5;241m.\u001b[39mtime() \u001b[38;5;241m-\u001b[39m \u001b[38;5;28mself\u001b[39m\u001b[38;5;241m.\u001b[39m_batch_start_time\n\u001b[0;32m    338\u001b[0m     \u001b[38;5;28mself\u001b[39m\u001b[38;5;241m.\u001b[39m_batch_times\u001b[38;5;241m.\u001b[39mappend(batch_time)\n\u001b[1;32m--> 340\u001b[0m \u001b[38;5;28;43mself\u001b[39;49m\u001b[38;5;241;43m.\u001b[39;49m\u001b[43m_call_batch_hook_helper\u001b[49m\u001b[43m(\u001b[49m\u001b[43mhook_name\u001b[49m\u001b[43m,\u001b[49m\u001b[43m \u001b[49m\u001b[43mbatch\u001b[49m\u001b[43m,\u001b[49m\u001b[43m \u001b[49m\u001b[43mlogs\u001b[49m\u001b[43m)\u001b[49m\n\u001b[0;32m    342\u001b[0m \u001b[38;5;28;01mif\u001b[39;00m \u001b[38;5;28mlen\u001b[39m(\u001b[38;5;28mself\u001b[39m\u001b[38;5;241m.\u001b[39m_batch_times) \u001b[38;5;241m>\u001b[39m\u001b[38;5;241m=\u001b[39m \u001b[38;5;28mself\u001b[39m\u001b[38;5;241m.\u001b[39m_num_batches_for_timing_check:\n\u001b[0;32m    343\u001b[0m     end_hook_name \u001b[38;5;241m=\u001b[39m hook_name\n",
      "File \u001b[1;32m~\\anaconda3\\Anaconda3\\lib\\site-packages\\keras\\callbacks.py:388\u001b[0m, in \u001b[0;36mCallbackList._call_batch_hook_helper\u001b[1;34m(self, hook_name, batch, logs)\u001b[0m\n\u001b[0;32m    386\u001b[0m \u001b[38;5;28;01mfor\u001b[39;00m callback \u001b[38;5;129;01min\u001b[39;00m \u001b[38;5;28mself\u001b[39m\u001b[38;5;241m.\u001b[39mcallbacks:\n\u001b[0;32m    387\u001b[0m     hook \u001b[38;5;241m=\u001b[39m \u001b[38;5;28mgetattr\u001b[39m(callback, hook_name)\n\u001b[1;32m--> 388\u001b[0m     \u001b[43mhook\u001b[49m\u001b[43m(\u001b[49m\u001b[43mbatch\u001b[49m\u001b[43m,\u001b[49m\u001b[43m \u001b[49m\u001b[43mlogs\u001b[49m\u001b[43m)\u001b[49m\n\u001b[0;32m    390\u001b[0m \u001b[38;5;28;01mif\u001b[39;00m \u001b[38;5;28mself\u001b[39m\u001b[38;5;241m.\u001b[39m_check_timing:\n\u001b[0;32m    391\u001b[0m     \u001b[38;5;28;01mif\u001b[39;00m hook_name \u001b[38;5;129;01mnot\u001b[39;00m \u001b[38;5;129;01min\u001b[39;00m \u001b[38;5;28mself\u001b[39m\u001b[38;5;241m.\u001b[39m_hook_times:\n",
      "File \u001b[1;32m~\\anaconda3\\Anaconda3\\lib\\site-packages\\keras\\callbacks.py:1081\u001b[0m, in \u001b[0;36mProgbarLogger.on_train_batch_end\u001b[1;34m(self, batch, logs)\u001b[0m\n\u001b[0;32m   1080\u001b[0m \u001b[38;5;28;01mdef\u001b[39;00m \u001b[38;5;21mon_train_batch_end\u001b[39m(\u001b[38;5;28mself\u001b[39m, batch, logs\u001b[38;5;241m=\u001b[39m\u001b[38;5;28;01mNone\u001b[39;00m):\n\u001b[1;32m-> 1081\u001b[0m     \u001b[38;5;28;43mself\u001b[39;49m\u001b[38;5;241;43m.\u001b[39;49m\u001b[43m_batch_update_progbar\u001b[49m\u001b[43m(\u001b[49m\u001b[43mbatch\u001b[49m\u001b[43m,\u001b[49m\u001b[43m \u001b[49m\u001b[43mlogs\u001b[49m\u001b[43m)\u001b[49m\n",
      "File \u001b[1;32m~\\anaconda3\\Anaconda3\\lib\\site-packages\\keras\\callbacks.py:1157\u001b[0m, in \u001b[0;36mProgbarLogger._batch_update_progbar\u001b[1;34m(self, batch, logs)\u001b[0m\n\u001b[0;32m   1153\u001b[0m     \u001b[38;5;28mself\u001b[39m\u001b[38;5;241m.\u001b[39mseen \u001b[38;5;241m+\u001b[39m\u001b[38;5;241m=\u001b[39m add_seen\n\u001b[0;32m   1155\u001b[0m \u001b[38;5;28;01mif\u001b[39;00m \u001b[38;5;28mself\u001b[39m\u001b[38;5;241m.\u001b[39mverbose \u001b[38;5;241m==\u001b[39m \u001b[38;5;241m1\u001b[39m:\n\u001b[0;32m   1156\u001b[0m     \u001b[38;5;66;03m# Only block async when verbose = 1.\u001b[39;00m\n\u001b[1;32m-> 1157\u001b[0m     logs \u001b[38;5;241m=\u001b[39m \u001b[43mtf_utils\u001b[49m\u001b[38;5;241;43m.\u001b[39;49m\u001b[43msync_to_numpy_or_python_type\u001b[49m\u001b[43m(\u001b[49m\u001b[43mlogs\u001b[49m\u001b[43m)\u001b[49m\n\u001b[0;32m   1158\u001b[0m     \u001b[38;5;28mself\u001b[39m\u001b[38;5;241m.\u001b[39mprogbar\u001b[38;5;241m.\u001b[39mupdate(\u001b[38;5;28mself\u001b[39m\u001b[38;5;241m.\u001b[39mseen, \u001b[38;5;28mlist\u001b[39m(logs\u001b[38;5;241m.\u001b[39mitems()), finalize\u001b[38;5;241m=\u001b[39m\u001b[38;5;28;01mFalse\u001b[39;00m)\n",
      "File \u001b[1;32m~\\anaconda3\\Anaconda3\\lib\\site-packages\\keras\\utils\\tf_utils.py:635\u001b[0m, in \u001b[0;36msync_to_numpy_or_python_type\u001b[1;34m(tensors)\u001b[0m\n\u001b[0;32m    632\u001b[0m         \u001b[38;5;28;01mreturn\u001b[39;00m t\n\u001b[0;32m    633\u001b[0m     \u001b[38;5;28;01mreturn\u001b[39;00m t\u001b[38;5;241m.\u001b[39mitem() \u001b[38;5;28;01mif\u001b[39;00m np\u001b[38;5;241m.\u001b[39mndim(t) \u001b[38;5;241m==\u001b[39m \u001b[38;5;241m0\u001b[39m \u001b[38;5;28;01melse\u001b[39;00m t\n\u001b[1;32m--> 635\u001b[0m \u001b[38;5;28;01mreturn\u001b[39;00m \u001b[43mtf\u001b[49m\u001b[38;5;241;43m.\u001b[39;49m\u001b[43mnest\u001b[49m\u001b[38;5;241;43m.\u001b[39;49m\u001b[43mmap_structure\u001b[49m\u001b[43m(\u001b[49m\u001b[43m_to_single_numpy_or_python_type\u001b[49m\u001b[43m,\u001b[49m\u001b[43m \u001b[49m\u001b[43mtensors\u001b[49m\u001b[43m)\u001b[49m\n",
      "File \u001b[1;32m~\\anaconda3\\Anaconda3\\lib\\site-packages\\tensorflow\\python\\util\\nest.py:917\u001b[0m, in \u001b[0;36mmap_structure\u001b[1;34m(func, *structure, **kwargs)\u001b[0m\n\u001b[0;32m    913\u001b[0m flat_structure \u001b[38;5;241m=\u001b[39m (flatten(s, expand_composites) \u001b[38;5;28;01mfor\u001b[39;00m s \u001b[38;5;129;01min\u001b[39;00m structure)\n\u001b[0;32m    914\u001b[0m entries \u001b[38;5;241m=\u001b[39m \u001b[38;5;28mzip\u001b[39m(\u001b[38;5;241m*\u001b[39mflat_structure)\n\u001b[0;32m    916\u001b[0m \u001b[38;5;28;01mreturn\u001b[39;00m pack_sequence_as(\n\u001b[1;32m--> 917\u001b[0m     structure[\u001b[38;5;241m0\u001b[39m], [func(\u001b[38;5;241m*\u001b[39mx) \u001b[38;5;28;01mfor\u001b[39;00m x \u001b[38;5;129;01min\u001b[39;00m entries],\n\u001b[0;32m    918\u001b[0m     expand_composites\u001b[38;5;241m=\u001b[39mexpand_composites)\n",
      "File \u001b[1;32m~\\anaconda3\\Anaconda3\\lib\\site-packages\\tensorflow\\python\\util\\nest.py:917\u001b[0m, in \u001b[0;36m<listcomp>\u001b[1;34m(.0)\u001b[0m\n\u001b[0;32m    913\u001b[0m flat_structure \u001b[38;5;241m=\u001b[39m (flatten(s, expand_composites) \u001b[38;5;28;01mfor\u001b[39;00m s \u001b[38;5;129;01min\u001b[39;00m structure)\n\u001b[0;32m    914\u001b[0m entries \u001b[38;5;241m=\u001b[39m \u001b[38;5;28mzip\u001b[39m(\u001b[38;5;241m*\u001b[39mflat_structure)\n\u001b[0;32m    916\u001b[0m \u001b[38;5;28;01mreturn\u001b[39;00m pack_sequence_as(\n\u001b[1;32m--> 917\u001b[0m     structure[\u001b[38;5;241m0\u001b[39m], [\u001b[43mfunc\u001b[49m\u001b[43m(\u001b[49m\u001b[38;5;241;43m*\u001b[39;49m\u001b[43mx\u001b[49m\u001b[43m)\u001b[49m \u001b[38;5;28;01mfor\u001b[39;00m x \u001b[38;5;129;01min\u001b[39;00m entries],\n\u001b[0;32m    918\u001b[0m     expand_composites\u001b[38;5;241m=\u001b[39mexpand_composites)\n",
      "File \u001b[1;32m~\\anaconda3\\Anaconda3\\lib\\site-packages\\keras\\utils\\tf_utils.py:628\u001b[0m, in \u001b[0;36msync_to_numpy_or_python_type.<locals>._to_single_numpy_or_python_type\u001b[1;34m(t)\u001b[0m\n\u001b[0;32m    625\u001b[0m \u001b[38;5;28;01mdef\u001b[39;00m \u001b[38;5;21m_to_single_numpy_or_python_type\u001b[39m(t):\n\u001b[0;32m    626\u001b[0m     \u001b[38;5;66;03m# Don't turn ragged or sparse tensors to NumPy.\u001b[39;00m\n\u001b[0;32m    627\u001b[0m     \u001b[38;5;28;01mif\u001b[39;00m \u001b[38;5;28misinstance\u001b[39m(t, tf\u001b[38;5;241m.\u001b[39mTensor):\n\u001b[1;32m--> 628\u001b[0m         t \u001b[38;5;241m=\u001b[39m \u001b[43mt\u001b[49m\u001b[38;5;241;43m.\u001b[39;49m\u001b[43mnumpy\u001b[49m\u001b[43m(\u001b[49m\u001b[43m)\u001b[49m\n\u001b[0;32m    629\u001b[0m     \u001b[38;5;66;03m# Strings, ragged and sparse tensors don't have .item(). Return them\u001b[39;00m\n\u001b[0;32m    630\u001b[0m     \u001b[38;5;66;03m# as-is.\u001b[39;00m\n\u001b[0;32m    631\u001b[0m     \u001b[38;5;28;01mif\u001b[39;00m \u001b[38;5;129;01mnot\u001b[39;00m \u001b[38;5;28misinstance\u001b[39m(t, (np\u001b[38;5;241m.\u001b[39mndarray, np\u001b[38;5;241m.\u001b[39mgeneric)):\n",
      "File \u001b[1;32m~\\anaconda3\\Anaconda3\\lib\\site-packages\\tensorflow\\python\\framework\\ops.py:1157\u001b[0m, in \u001b[0;36m_EagerTensorBase.numpy\u001b[1;34m(self)\u001b[0m\n\u001b[0;32m   1134\u001b[0m \u001b[38;5;250m\u001b[39m\u001b[38;5;124;03m\"\"\"Copy of the contents of this Tensor into a NumPy array or scalar.\u001b[39;00m\n\u001b[0;32m   1135\u001b[0m \n\u001b[0;32m   1136\u001b[0m \u001b[38;5;124;03mUnlike NumPy arrays, Tensors are immutable, so this method has to copy\u001b[39;00m\n\u001b[1;32m   (...)\u001b[0m\n\u001b[0;32m   1154\u001b[0m \u001b[38;5;124;03m    NumPy dtype.\u001b[39;00m\n\u001b[0;32m   1155\u001b[0m \u001b[38;5;124;03m\"\"\"\u001b[39;00m\n\u001b[0;32m   1156\u001b[0m \u001b[38;5;66;03m# TODO(slebedev): Consider avoiding a copy for non-CPU or remote tensors.\u001b[39;00m\n\u001b[1;32m-> 1157\u001b[0m maybe_arr \u001b[38;5;241m=\u001b[39m \u001b[38;5;28;43mself\u001b[39;49m\u001b[38;5;241;43m.\u001b[39;49m\u001b[43m_numpy\u001b[49m\u001b[43m(\u001b[49m\u001b[43m)\u001b[49m  \u001b[38;5;66;03m# pylint: disable=protected-access\u001b[39;00m\n\u001b[0;32m   1158\u001b[0m \u001b[38;5;28;01mreturn\u001b[39;00m maybe_arr\u001b[38;5;241m.\u001b[39mcopy() \u001b[38;5;28;01mif\u001b[39;00m \u001b[38;5;28misinstance\u001b[39m(maybe_arr, np\u001b[38;5;241m.\u001b[39mndarray) \u001b[38;5;28;01melse\u001b[39;00m maybe_arr\n",
      "File \u001b[1;32m~\\anaconda3\\Anaconda3\\lib\\site-packages\\tensorflow\\python\\framework\\ops.py:1123\u001b[0m, in \u001b[0;36m_EagerTensorBase._numpy\u001b[1;34m(self)\u001b[0m\n\u001b[0;32m   1121\u001b[0m \u001b[38;5;28;01mdef\u001b[39;00m \u001b[38;5;21m_numpy\u001b[39m(\u001b[38;5;28mself\u001b[39m):\n\u001b[0;32m   1122\u001b[0m   \u001b[38;5;28;01mtry\u001b[39;00m:\n\u001b[1;32m-> 1123\u001b[0m     \u001b[38;5;28;01mreturn\u001b[39;00m \u001b[38;5;28;43mself\u001b[39;49m\u001b[38;5;241;43m.\u001b[39;49m\u001b[43m_numpy_internal\u001b[49m\u001b[43m(\u001b[49m\u001b[43m)\u001b[49m\n\u001b[0;32m   1124\u001b[0m   \u001b[38;5;28;01mexcept\u001b[39;00m core\u001b[38;5;241m.\u001b[39m_NotOkStatusException \u001b[38;5;28;01mas\u001b[39;00m e:  \u001b[38;5;66;03m# pylint: disable=protected-access\u001b[39;00m\n\u001b[0;32m   1125\u001b[0m     \u001b[38;5;28;01mraise\u001b[39;00m core\u001b[38;5;241m.\u001b[39m_status_to_exception(e) \u001b[38;5;28;01mfrom\u001b[39;00m \u001b[38;5;28;01mNone\u001b[39;00m\n",
      "\u001b[1;31mKeyboardInterrupt\u001b[0m: "
     ]
    }
   ],
   "source": [
    "scores = {}\n",
    "\n",
    "for lr in [ 0.0001, 0.001, 0.01, 0.1]:\n",
    "    print(lr)\n",
    "\n",
    "    model = make_model(learning_rate=lr)\n",
    "    history = model.fit(train_ds, epochs=10, validation_data=val_ds)\n",
    "    scores[lr] = history.history\n",
    "    \n",
    "    print()\n",
    "    print()"
   ]
  },
  {
   "cell_type": "code",
   "execution_count": 115,
   "id": "ab0d8ace-d097-42ba-a3ab-c229c80b9f70",
   "metadata": {},
   "outputs": [],
   "source": [
    "learning_rate = 0.01"
   ]
  },
  {
   "cell_type": "markdown",
   "id": "bd8f64d3-d10e-41f8-9391-e74884abefdd",
   "metadata": {},
   "source": [
    "# Adding droprate"
   ]
  },
  {
   "cell_type": "code",
   "execution_count": 116,
   "id": "14751f6a-aed3-45bf-b81f-156efc60343b",
   "metadata": {},
   "outputs": [],
   "source": [
    "def make_model(learning_rate=0.01):\n",
    "    model = models.Sequential()\n",
    "\n",
    "    model.add(layers.Conv2D(32, (3, 3), activation='relu',\n",
    "                        input_shape=(150, 150, 3)))\n",
    "    model.add(layers.MaxPooling2D((2, 2)))\n",
    "    model.add(layers.Flatten())\n",
    "    model.add(layers.Dense(64, activation='relu'))\n",
    "    model.add(layers.Dropout(0.2))\n",
    "    model.add(layers.Dense(1, activation='sigmoid'))\n",
    "    \n",
    "    model.compile(loss='binary_crossentropy',\\\n",
    "             optimizer=optimizers.SGD(learning_rate=learning_rate, momentum=0.8),\\\n",
    "             metrics=['acc'])\n",
    "\n",
    "    return model"
   ]
  },
  {
   "cell_type": "code",
   "execution_count": 117,
   "id": "b4dab8a7-a00b-4ef3-ba4e-c1cda716a03c",
   "metadata": {},
   "outputs": [
    {
     "name": "stdout",
     "output_type": "stream",
     "text": [
      "Epoch 1/10\n",
      "500/500 [==============================] - 73s 145ms/step - loss: 0.3931 - acc: 0.8398 - val_loss: 0.2284 - val_acc: 0.9287\n",
      "Epoch 2/10\n",
      "500/500 [==============================] - 71s 142ms/step - loss: 0.1415 - acc: 0.9652 - val_loss: 0.0795 - val_acc: 0.9768\n",
      "Epoch 3/10\n",
      "500/500 [==============================] - 77s 153ms/step - loss: 0.0868 - acc: 0.9788 - val_loss: 0.0489 - val_acc: 0.9895\n",
      "Epoch 4/10\n",
      "500/500 [==============================] - 70s 141ms/step - loss: 0.0614 - acc: 0.9835 - val_loss: 0.0472 - val_acc: 0.9847\n",
      "Epoch 5/10\n",
      "500/500 [==============================] - 60s 119ms/step - loss: 0.0498 - acc: 0.9865 - val_loss: 0.0333 - val_acc: 0.9898\n",
      "Epoch 6/10\n",
      "500/500 [==============================] - 59s 119ms/step - loss: 0.0452 - acc: 0.9867 - val_loss: 0.0321 - val_acc: 0.9905\n",
      "Epoch 7/10\n",
      "500/500 [==============================] - 69s 137ms/step - loss: 0.0398 - acc: 0.9892 - val_loss: 0.0306 - val_acc: 0.9902\n",
      "Epoch 8/10\n",
      "500/500 [==============================] - 61s 121ms/step - loss: 0.0334 - acc: 0.9902 - val_loss: 0.0407 - val_acc: 0.9860\n",
      "Epoch 9/10\n",
      "500/500 [==============================] - 76s 151ms/step - loss: 0.0318 - acc: 0.9912 - val_loss: 0.0306 - val_acc: 0.9912\n",
      "Epoch 10/10\n",
      "500/500 [==============================] - 75s 149ms/step - loss: 0.0295 - acc: 0.9920 - val_loss: 0.0300 - val_acc: 0.9898\n"
     ]
    }
   ],
   "source": [
    "scores = {}\n",
    "model = make_model(learning_rate=learning_rate)\n",
    "history = model.fit(train_ds, epochs=10, validation_data=val_ds)\n",
    "scores[learning_rate] = history.history"
   ]
  },
  {
   "cell_type": "markdown",
   "id": "4e0a0019-03b6-43d4-b522-c8d64aa55f66",
   "metadata": {},
   "source": [
    "# val_acc is good enough so I skipped image manipulation\n",
    "# Next part is model saving"
   ]
  },
  {
   "cell_type": "code",
   "execution_count": 123,
   "id": "7bb077e6-11d7-415b-a17e-5bb25403dc5a",
   "metadata": {},
   "outputs": [],
   "source": [
    "checkpoint = keras.callbacks.ModelCheckpoint(\n",
    "    'final_model_{epoch:02d}_{val_acc:.3f}.h5',\n",
    "    save_best_only=True,\n",
    "    monitor='val_acc',\n",
    "    mode='max'\n",
    ")"
   ]
  },
  {
   "cell_type": "markdown",
   "id": "19f7cdc8-1b52-40eb-af87-9a60fcb05f96",
   "metadata": {},
   "source": [
    "# Training Final Model"
   ]
  },
  {
   "cell_type": "code",
   "execution_count": 124,
   "id": "3ef9ba5f-ab8c-4e07-b1a4-867fc66b5774",
   "metadata": {},
   "outputs": [
    {
     "name": "stdout",
     "output_type": "stream",
     "text": [
      "Epoch 1/10\n",
      "500/500 [==============================] - 76s 150ms/step - loss: 0.4666 - acc: 0.7618 - val_loss: 0.1736 - val_acc: 0.9440\n",
      "Epoch 2/10\n",
      "500/500 [==============================] - 71s 142ms/step - loss: 0.1464 - acc: 0.9524 - val_loss: 0.1877 - val_acc: 0.9815\n",
      "Epoch 3/10\n",
      "500/500 [==============================] - 61s 123ms/step - loss: 0.0975 - acc: 0.9747 - val_loss: 0.0581 - val_acc: 0.9820\n",
      "Epoch 4/10\n",
      "500/500 [==============================] - 71s 141ms/step - loss: 0.0831 - acc: 0.9797 - val_loss: 0.0563 - val_acc: 0.9885\n",
      "Epoch 5/10\n",
      "500/500 [==============================] - 67s 134ms/step - loss: 0.0591 - acc: 0.9854 - val_loss: 0.0333 - val_acc: 0.9927\n",
      "Epoch 6/10\n",
      "500/500 [==============================] - 67s 133ms/step - loss: 0.0452 - acc: 0.9887 - val_loss: 0.0311 - val_acc: 0.9933\n",
      "Epoch 7/10\n",
      "500/500 [==============================] - 72s 144ms/step - loss: 0.0386 - acc: 0.9894 - val_loss: 0.0287 - val_acc: 0.9920\n",
      "Epoch 8/10\n",
      "500/500 [==============================] - 62s 124ms/step - loss: 0.0339 - acc: 0.9913 - val_loss: 0.0258 - val_acc: 0.9935\n",
      "Epoch 9/10\n",
      "500/500 [==============================] - 658s 1s/step - loss: 0.0301 - acc: 0.9918 - val_loss: 0.0284 - val_acc: 0.9940\n",
      "Epoch 10/10\n",
      "500/500 [==============================] - 600s 1s/step - loss: 0.0259 - acc: 0.9929 - val_loss: 0.0285 - val_acc: 0.9910\n"
     ]
    }
   ],
   "source": [
    "learning_rate=0.01\n",
    "model = make_model(learning_rate=learning_rate)\n",
    "history = model.fit(train_ds, epochs=10, validation_data=val_ds, callbacks=[checkpoint])"
   ]
  },
  {
   "cell_type": "markdown",
   "id": "cc637a23-c005-44cf-a1c8-7c4459e153f9",
   "metadata": {},
   "source": [
    "# Testing"
   ]
  },
  {
   "cell_type": "code",
   "execution_count": 125,
   "id": "4e8f30e1-6703-4f5c-9ea9-eecc7470d055",
   "metadata": {},
   "outputs": [],
   "source": [
    "model = keras.models.load_model('final_model_09_0.994.h5')"
   ]
  },
  {
   "cell_type": "code",
   "execution_count": 126,
   "id": "14d73b4f-b877-4fed-b556-087e83be68c8",
   "metadata": {},
   "outputs": [
    {
     "name": "stdout",
     "output_type": "stream",
     "text": [
      "63/63 [==============================] - 39s 621ms/step - loss: 0.0253 - acc: 0.9925\n"
     ]
    },
    {
     "data": {
      "text/plain": [
       "[0.025294099003076553, 0.9925000071525574]"
      ]
     },
     "execution_count": 126,
     "metadata": {},
     "output_type": "execute_result"
    }
   ],
   "source": [
    "model.evaluate(test_ds)"
   ]
  },
  {
   "cell_type": "code",
   "execution_count": 238,
   "id": "43211d67-8c25-4abb-9e65-96e765835dae",
   "metadata": {},
   "outputs": [
    {
     "name": "stdout",
     "output_type": "stream",
     "text": [
      "1/1 [==============================] - 0s 31ms/step\n"
     ]
    }
   ],
   "source": [
    "path = './images/positive/00825.jpg'\n",
    "img = load_img(path, target_size=(150, 150))\n",
    "\n",
    "x = np.array(img)\n",
    "X = np.array([x])\n",
    "X.shape\n",
    "\n",
    "pred = model.predict(X)"
   ]
  },
  {
   "cell_type": "code",
   "execution_count": 239,
   "id": "6437dbce-6084-4a83-ae09-166b55de5748",
   "metadata": {},
   "outputs": [
    {
     "name": "stdout",
     "output_type": "stream",
     "text": [
      "probabilty of positve [1.]\n"
     ]
    }
   ],
   "source": [
    "print('probabilty of positve {}'.format(pred[0]))"
   ]
  },
  {
   "cell_type": "code",
   "execution_count": 240,
   "id": "6a82ea9e-e85b-418d-a5b9-17623c4e9412",
   "metadata": {},
   "outputs": [
    {
     "data": {
      "text/plain": [
       "array([[1.]], dtype=float32)"
      ]
     },
     "execution_count": 240,
     "metadata": {},
     "output_type": "execute_result"
    }
   ],
   "source": [
    "pred"
   ]
  },
  {
   "cell_type": "code",
   "execution_count": null,
   "id": "e151ab02-c863-45d5-9cce-6bc94b1dd11d",
   "metadata": {},
   "outputs": [],
   "source": []
  }
 ],
 "metadata": {
  "kernelspec": {
   "display_name": "Python 3 (ipykernel)",
   "language": "python",
   "name": "python3"
  },
  "language_info": {
   "codemirror_mode": {
    "name": "ipython",
    "version": 3
   },
   "file_extension": ".py",
   "mimetype": "text/x-python",
   "name": "python",
   "nbconvert_exporter": "python",
   "pygments_lexer": "ipython3",
   "version": "3.9.18"
  }
 },
 "nbformat": 4,
 "nbformat_minor": 5
}
