{
 "cells": [
  {
   "cell_type": "code",
   "execution_count": 1,
   "id": "be0d802f-c95f-4eea-a1f1-0bb7175e72f2",
   "metadata": {},
   "outputs": [],
   "source": [
    "import tensorflow as tf\n",
    "import numpy as np\n",
    "\n",
    "from tensorflow import keras\n",
    "from tensorflow.keras.preprocessing.image import load_img\n",
    "from tensorflow.keras.applications.xception import preprocess_input"
   ]
  },
  {
   "cell_type": "code",
   "execution_count": 2,
   "id": "f1b2a012-4667-464e-a856-314628a61f2e",
   "metadata": {},
   "outputs": [],
   "source": [
    "#!wget https://github.com/alexeygrigorev/large-datasets/releases/download/wasps-bees/bees-wasps.h5 -O homework-model.h5"
   ]
  },
  {
   "cell_type": "code",
   "execution_count": 3,
   "id": "1434102d-f3f6-40b2-a1eb-6769101a89de",
   "metadata": {},
   "outputs": [],
   "source": [
    "model = keras.models.load_model('xception_v4_1_06_0-Copy1.889.h5', compile=False)"
   ]
  },
  {
   "cell_type": "code",
   "execution_count": 4,
   "id": "937c9cf9-725d-41e3-896b-bacba58187ff",
   "metadata": {},
   "outputs": [
    {
     "data": {
      "text/plain": [
       "'2.10.0'"
      ]
     },
     "execution_count": 4,
     "metadata": {},
     "output_type": "execute_result"
    }
   ],
   "source": []
  },
  {
   "cell_type": "code",
   "execution_count": 5,
   "id": "db6f98c0-56ac-4950-ba00-a972b954843a",
   "metadata": {},
   "outputs": [],
   "source": [
    "img = load_img('./clothing-dataset-small/test/pants/4aabd82c-82e1-4181-a84d-d0c6e550d26d.jpg', target_size=(299,299))"
   ]
  },
  {
   "cell_type": "code",
   "execution_count": 6,
   "id": "6247f0f3-d38c-46a5-8697-7099af437a68",
   "metadata": {},
   "outputs": [],
   "source": [
    "x = np.array(img)\n",
    "X = np.array([x])\n",
    "\n",
    "X = preprocess_input(X)"
   ]
  },
  {
   "cell_type": "code",
   "execution_count": 7,
   "id": "29d75223-124e-4da6-9bf6-9eda8b623542",
   "metadata": {},
   "outputs": [
    {
     "data": {
      "text/plain": [
       "(1, 299, 299, 3)"
      ]
     },
     "execution_count": 7,
     "metadata": {},
     "output_type": "execute_result"
    }
   ],
   "source": [
    "X.shape"
   ]
  },
  {
   "cell_type": "code",
   "execution_count": 8,
   "id": "7cfff9c8-adb5-43c6-b744-8aa021e47644",
   "metadata": {},
   "outputs": [
    {
     "name": "stdout",
     "output_type": "stream",
     "text": [
      "1/1 [==============================] - 10s 10s/step\n"
     ]
    }
   ],
   "source": [
    "pred = model.predict(X)"
   ]
  },
  {
   "cell_type": "code",
   "execution_count": 9,
   "id": "9d1c72a5-e3e2-4e70-8d06-98e2236d680c",
   "metadata": {},
   "outputs": [],
   "source": [
    "classes = [\n",
    "    'dress',\n",
    "    'hat',\n",
    "    'longsleeve',\n",
    "    'outwear',\n",
    "    'pants',\n",
    "    'shirt',\n",
    "    'shoes',\n",
    "    'shorts',\n",
    "    'skirt',\n",
    "    't-shirt'\n",
    "]"
   ]
  },
  {
   "cell_type": "code",
   "execution_count": 10,
   "id": "d15bc611-17e0-4242-8616-09034fc7102b",
   "metadata": {},
   "outputs": [
    {
     "data": {
      "text/plain": [
       "{'dress': -0.34860525,\n",
       " 'hat': -3.9380684,\n",
       " 'longsleeve': -0.41394588,\n",
       " 'outwear': -0.28268638,\n",
       " 'pants': 8.530874,\n",
       " 'shirt': -0.28658247,\n",
       " 'shoes': -3.0962248,\n",
       " 'shorts': 3.0672154,\n",
       " 'skirt': -1.8705618,\n",
       " 't-shirt': -3.3518574}"
      ]
     },
     "execution_count": 10,
     "metadata": {},
     "output_type": "execute_result"
    }
   ],
   "source": [
    "dict(zip(classes, pred[0]))"
   ]
  },
  {
   "cell_type": "code",
   "execution_count": 11,
   "id": "b18df013-4990-43e3-a2b2-952c219d24c2",
   "metadata": {},
   "outputs": [
    {
     "name": "stderr",
     "output_type": "stream",
     "text": [
      "WARNING:absl:Found untraced functions such as _jit_compiled_convolution_op, _jit_compiled_convolution_op, _jit_compiled_convolution_op, _jit_compiled_convolution_op, _jit_compiled_convolution_op while saving (showing 5 of 40). These functions will not be directly callable after loading.\n"
     ]
    },
    {
     "name": "stdout",
     "output_type": "stream",
     "text": [
      "INFO:tensorflow:Assets written to: C:\\Users\\PHYOMI~1\\AppData\\Local\\Temp\\tmpcdkfo1s9\\assets\n"
     ]
    },
    {
     "name": "stderr",
     "output_type": "stream",
     "text": [
      "INFO:tensorflow:Assets written to: C:\\Users\\PHYOMI~1\\AppData\\Local\\Temp\\tmpcdkfo1s9\\assets\n"
     ]
    }
   ],
   "source": [
    "converter = tf.lite.TFLiteConverter.from_keras_model(model)\n",
    "\n",
    "tflite_model = converter.convert()\n",
    "\n",
    "with open('clothing-model.tflite', 'wb') as f_out:\n",
    "    f_out.write(tflite_model)"
   ]
  },
  {
   "cell_type": "code",
   "execution_count": 12,
   "id": "e16f6847-8285-408f-aca5-82d875609217",
   "metadata": {},
   "outputs": [],
   "source": [
    "import tensorflow.lite as tflite"
   ]
  },
  {
   "cell_type": "code",
   "execution_count": 13,
   "id": "5490bfde-4d2e-4a17-a53a-b789520ff0a8",
   "metadata": {},
   "outputs": [],
   "source": [
    "interpreter = tflite.Interpreter(model_path='clothing-model.tflite')\n",
    "interpreter.allocate_tensors()\n",
    "\n",
    "input_index = interpreter.get_input_details()[0]['index']\n",
    "output_index = interpreter.get_output_details()[0]['index']"
   ]
  },
  {
   "cell_type": "code",
   "execution_count": 14,
   "id": "42382690-467d-4546-89d2-ffa134cbbe80",
   "metadata": {},
   "outputs": [],
   "source": [
    "interpreter.set_tensor(input_index, X)\n",
    "interpreter.invoke()\n",
    "pred = interpreter.get_tensor(output_index)"
   ]
  },
  {
   "cell_type": "code",
   "execution_count": 15,
   "id": "1d353b9c-8e15-45e9-b6e0-55a99384c618",
   "metadata": {},
   "outputs": [
    {
     "data": {
      "text/plain": [
       "{'dress': -0.34898078,\n",
       " 'hat': -3.9367995,\n",
       " 'longsleeve': -0.41313073,\n",
       " 'outwear': -0.2823513,\n",
       " 'pants': 8.530332,\n",
       " 'shirt': -0.28630465,\n",
       " 'shoes': -3.095855,\n",
       " 'shorts': 3.065313,\n",
       " 'skirt': -1.8706553,\n",
       " 't-shirt': -3.352241}"
      ]
     },
     "execution_count": 15,
     "metadata": {},
     "output_type": "execute_result"
    }
   ],
   "source": [
    "dict(zip(classes, pred[0]))"
   ]
  },
  {
   "cell_type": "code",
   "execution_count": 16,
   "id": "ccc2d50a-dd40-4cf4-8469-d70f6546bd41",
   "metadata": {},
   "outputs": [],
   "source": [
    "from PIL import Image"
   ]
  },
  {
   "cell_type": "code",
   "execution_count": 17,
   "id": "9914f620-a2ca-4134-9270-bd21f7957e37",
   "metadata": {},
   "outputs": [],
   "source": [
    "with Image.open('./clothing-dataset-small/test/pants/4aabd82c-82e1-4181-a84d-d0c6e550d26d.jpg') as img:\n",
    "    img = img.resize((299, 299), Image.NEAREST)"
   ]
  },
  {
   "cell_type": "code",
   "execution_count": 18,
   "id": "050a9eda-5ee1-4ffc-b74b-6a2f6ed39645",
   "metadata": {},
   "outputs": [],
   "source": [
    "def preprocess_input(x):\n",
    "    x /= 127.5\n",
    "    x -= 1\n",
    "    return x"
   ]
  },
  {
   "cell_type": "code",
   "execution_count": 19,
   "id": "d2917e37-bc04-4ec5-9e55-2a424d409806",
   "metadata": {},
   "outputs": [],
   "source": [
    "x = np.array(img, dtype='float32')\n",
    "X = np.array([x])\n",
    "\n",
    "X = preprocess_input(X)"
   ]
  },
  {
   "cell_type": "code",
   "execution_count": 8,
   "id": "d66ac784-12ae-4bec-b90c-a7741fa510b4",
   "metadata": {},
   "outputs": [],
   "source": [
    "interpreter.set_tensor(input_index, X)\n",
    "interpreter.invoke()\n",
    "pred = interpreter.get_tensor(output_index)"
   ]
  },
  {
   "cell_type": "code",
   "execution_count": null,
   "id": "5e161baf-6b08-4e50-ab39-c9a89b11fee2",
   "metadata": {},
   "outputs": [],
   "source": []
  },
  {
   "cell_type": "code",
   "execution_count": 34,
   "id": "da86f0f9-6dff-4674-bbc7-0b506f86d85c",
   "metadata": {},
   "outputs": [
    {
     "data": {
      "text/plain": [
       "{'dress': -0.34898078,\n",
       " 'hat': -3.9367995,\n",
       " 'longsleeve': -0.41313073,\n",
       " 'outwear': -0.2823513,\n",
       " 'pants': 8.530332,\n",
       " 'shirt': -0.28630465,\n",
       " 'shoes': -3.095855,\n",
       " 'shorts': 3.065313,\n",
       " 'skirt': -1.8706553,\n",
       " 't-shirt': -3.352241}"
      ]
     },
     "execution_count": 34,
     "metadata": {},
     "output_type": "execute_result"
    }
   ],
   "source": [
    "dict(zip(classes, pred[0]))"
   ]
  },
  {
   "cell_type": "code",
   "execution_count": 37,
   "id": "e8b91d8b-0475-4711-9433-d82437aa1d0d",
   "metadata": {},
   "outputs": [
    {
     "name": "stdout",
     "output_type": "stream",
     "text": [
      "Looking in indexes: https://pypi.org/simple, https://google-coral.github.io/py-repo/\n",
      "Collecting tflite_runtime\n",
      "  Downloading https://github.com/google-coral/pycoral/releases/download/v2.0.0/tflite_runtime-2.5.0.post1-cp39-cp39-win_amd64.whl (867 kB)\n",
      "     ---------------------------------------- 0.0/867.1 kB ? eta -:--:--\n",
      "     ---------------------------------------- 10.2/867.1 kB ? eta -:--:--\n",
      "     - ----------------------------------- 30.7/867.1 kB 262.6 kB/s eta 0:00:04\n",
      "     -------- ----------------------------- 194.6/867.1 kB 1.5 MB/s eta 0:00:01\n",
      "     ------------------------------ ------- 706.6/867.1 kB 4.0 MB/s eta 0:00:01\n",
      "     -------------------------------------- 867.1/867.1 kB 4.2 MB/s eta 0:00:00\n",
      "Requirement already satisfied: numpy>=1.16.0 in c:\\users\\phyo min khant\\anaconda3\\anaconda3\\envs\\new-ml\\lib\\site-packages (from tflite_runtime) (1.26.2)\n",
      "Installing collected packages: tflite_runtime\n",
      "Successfully installed tflite_runtime-2.5.0.post1\n"
     ]
    }
   ],
   "source": [
    "!pip install --extra-index-url https://google-coral.github.io/py-repo/ tflite_runtime"
   ]
  },
  {
   "cell_type": "code",
   "execution_count": 3,
   "id": "93fcd71f-1aa7-4f92-8347-f6cebc2eefc9",
   "metadata": {},
   "outputs": [],
   "source": [
    "#import tensorflow.lite as tflite\n",
    "import tflite_runtime.interpreter as tflite\n",
    "from keras_image_helper import create_preprocessor"
   ]
  },
  {
   "cell_type": "code",
   "execution_count": 4,
   "id": "3459b841-36ce-480d-a967-91a0ba23c03b",
   "metadata": {},
   "outputs": [],
   "source": [
    "interpreter = tflite.Interpreter(model_path='clothing-model.tflite')\n",
    "interpreter.allocate_tensors()\n",
    "\n",
    "input_index = interpreter.get_input_details()[0]['index']\n",
    "output_index = interpreter.get_output_details()[0]['index']"
   ]
  },
  {
   "cell_type": "code",
   "execution_count": 5,
   "id": "a480d1a7-fcbe-41c4-b4de-9106dd8d7f4f",
   "metadata": {},
   "outputs": [],
   "source": [
    "preprocessor = create_preprocessor('xception', target_size=(299, 299))\n",
    "\n",
    "url = 'http://bit.ly/mlbookcamp-pants'\n",
    "X = preprocessor.from_url(url)"
   ]
  },
  {
   "cell_type": "code",
   "execution_count": 9,
   "id": "d581d511-d507-4249-a07b-ef3f1be76e37",
   "metadata": {},
   "outputs": [],
   "source": [
    "interpreter.set_tensor(input_index, X)\n",
    "interpreter.invoke()\n",
    "pred = interpreter.get_tensor(output_index)"
   ]
  },
  {
   "cell_type": "code",
   "execution_count": 10,
   "id": "42db42fc-5d43-45ed-9f1c-b808239b4f06",
   "metadata": {},
   "outputs": [],
   "source": [
    "classes = [\n",
    "    'dress',\n",
    "    'hat',\n",
    "    'longsleeve',\n",
    "    'outwear',\n",
    "    'pants',\n",
    "    'shirt',\n",
    "    'shoes',\n",
    "    'shorts',\n",
    "    'skirt',\n",
    "    't-shirt'\n",
    "]"
   ]
  },
  {
   "cell_type": "code",
   "execution_count": 11,
   "id": "b970bdb5-b7c6-412b-bfa3-d00463d6418b",
   "metadata": {},
   "outputs": [
    {
     "data": {
      "text/plain": [
       "{'dress': -0.348978,\n",
       " 'hat': -3.9367974,\n",
       " 'longsleeve': -0.41313183,\n",
       " 'outwear': -0.28235,\n",
       " 'pants': 8.53033,\n",
       " 'shirt': -0.2863035,\n",
       " 'shoes': -3.0958548,\n",
       " 'shorts': 3.065308,\n",
       " 'skirt': -1.8706548,\n",
       " 't-shirt': -3.3522375}"
      ]
     },
     "execution_count": 11,
     "metadata": {},
     "output_type": "execute_result"
    }
   ],
   "source": [
    "dict(zip(classes, pred[0]))"
   ]
  },
  {
   "cell_type": "code",
   "execution_count": null,
   "id": "82510540-ff5c-4721-94ec-5eb37e50165f",
   "metadata": {},
   "outputs": [],
   "source": []
  },
  {
   "cell_type": "code",
   "execution_count": null,
   "id": "1521fb57-88ef-4dc7-b94d-3751f98d9d55",
   "metadata": {},
   "outputs": [],
   "source": []
  },
  {
   "cell_type": "code",
   "execution_count": null,
   "id": "1595bdd3-42ff-4856-a9d0-d52e88b44cbe",
   "metadata": {},
   "outputs": [],
   "source": []
  },
  {
   "cell_type": "code",
   "execution_count": null,
   "id": "de4a93c1-6b98-4953-bbc6-147fda2ad315",
   "metadata": {},
   "outputs": [],
   "source": []
  },
  {
   "cell_type": "code",
   "execution_count": null,
   "id": "5e5e6131-279a-42a1-b247-e5fc7c6f60c5",
   "metadata": {},
   "outputs": [],
   "source": []
  }
 ],
 "metadata": {
  "kernelspec": {
   "display_name": "Python 3 (ipykernel)",
   "language": "python",
   "name": "python3"
  },
  "language_info": {
   "codemirror_mode": {
    "name": "ipython",
    "version": 3
   },
   "file_extension": ".py",
   "mimetype": "text/x-python",
   "name": "python",
   "nbconvert_exporter": "python",
   "pygments_lexer": "ipython3",
   "version": "3.9.18"
  }
 },
 "nbformat": 4,
 "nbformat_minor": 5
}
