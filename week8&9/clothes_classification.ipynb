{
 "cells": [
  {
   "cell_type": "code",
   "execution_count": 1,
   "id": "fbe99e2e-a662-47f3-a3ce-5dd277a0d293",
   "metadata": {},
   "outputs": [],
   "source": [
    "import numpy as np\n",
    "import matplotlib.pyplot as plt\n",
    "\n",
    "%matplotlib inline"
   ]
  },
  {
   "cell_type": "code",
   "execution_count": 2,
   "id": "2ecf3381-2418-46dc-b83c-39e90beac273",
   "metadata": {},
   "outputs": [],
   "source": [
    "## !git clone https://github.com/alexeygrigorev/clothing-dataset-small.git"
   ]
  },
  {
   "cell_type": "code",
   "execution_count": 3,
   "id": "90e175be-8690-4d2b-82af-7a6188c5df57",
   "metadata": {},
   "outputs": [],
   "source": [
    "import tensorflow as tf\n",
    "from tensorflow import keras"
   ]
  },
  {
   "cell_type": "code",
   "execution_count": 4,
   "id": "eb0c1808-e065-4a84-8d95-65713e1398c5",
   "metadata": {},
   "outputs": [
    {
     "name": "stdout",
     "output_type": "stream",
     "text": [
      "C:\\Users\\Phyo Min Khant\\anaconda3\\Anaconda3\\python.exe\n"
     ]
    }
   ],
   "source": [
    "import sys\n",
    "print(sys.executable)"
   ]
  },
  {
   "cell_type": "code",
   "execution_count": 5,
   "id": "f8c26eef-c025-4d14-aa77-c765d48ace85",
   "metadata": {},
   "outputs": [
    {
     "name": "stdout",
     "output_type": "stream",
     "text": [
      "TensorFlow version: 2.10.0\n"
     ]
    }
   ],
   "source": [
    "import tensorflow as tf\n",
    "\n",
    "print(\"TensorFlow version:\", tf.__version__)\n"
   ]
  },
  {
   "cell_type": "code",
   "execution_count": 6,
   "id": "0ef52538-0cf2-4db4-b4c2-0b577673c153",
   "metadata": {},
   "outputs": [
    {
     "name": "stdout",
     "output_type": "stream",
     "text": [
      "tf.Tensor(-55.215195, shape=(), dtype=float32)\n"
     ]
    }
   ],
   "source": [
    "print(tf.reduce_sum(tf.random.normal([1000, 1000])))"
   ]
  },
  {
   "cell_type": "code",
   "execution_count": 7,
   "id": "bc1e5074-52bf-46f4-ac4d-b1ab71ab7278",
   "metadata": {},
   "outputs": [
    {
     "name": "stdout",
     "output_type": "stream",
     "text": [
      "[PhysicalDevice(name='/physical_device:GPU:0', device_type='GPU')]\n"
     ]
    }
   ],
   "source": [
    "print(tf.config.list_physical_devices('GPU'))"
   ]
  },
  {
   "cell_type": "code",
   "execution_count": 8,
   "id": "fad2ac8b-6bbf-4832-9a8e-266e0f225972",
   "metadata": {},
   "outputs": [],
   "source": [
    "from tensorflow.keras.preprocessing.image import load_img"
   ]
  },
  {
   "cell_type": "code",
   "execution_count": 9,
   "id": "38d5652a-cd69-4a4c-9d6e-20fffc4b165f",
   "metadata": {},
   "outputs": [],
   "source": [
    "path = './clothing-dataset-small/train/hat'\n",
    "name = '1aac00cd-b42a-40f1-a82a-dcc44a0879d4.jpg'\n",
    "fullname = f'{path}/{name}'\n",
    "img = load_img(fullname, target_size=(299, 299))"
   ]
  },
  {
   "cell_type": "code",
   "execution_count": 10,
   "id": "5d2b27e0-47d2-4895-9f90-3576a20239c8",
   "metadata": {},
   "outputs": [
    {
     "data": {
      "text/plain": [
       "(299, 299, 3)"
      ]
     },
     "execution_count": 10,
     "metadata": {},
     "output_type": "execute_result"
    }
   ],
   "source": [
    "x = np.array(img)\n",
    "x.shape"
   ]
  },
  {
   "cell_type": "code",
   "execution_count": 11,
   "id": "ee07d5bf-608d-4720-ae83-66d9b878775a",
   "metadata": {},
   "outputs": [],
   "source": [
    "from tensorflow.keras.applications.xception import Xception\n",
    "from tensorflow.keras.applications.xception import preprocess_input\n",
    "from tensorflow.keras.applications.xception import decode_predictions"
   ]
  },
  {
   "cell_type": "code",
   "execution_count": 12,
   "id": "acc93c26-7ad6-4944-962e-0060bcb31dce",
   "metadata": {},
   "outputs": [],
   "source": [
    "model = Xception(weights='imagenet', input_shape=(299, 299, 3))"
   ]
  },
  {
   "cell_type": "code",
   "execution_count": 13,
   "id": "047385ad-985d-4017-8b87-d51fbe91ae93",
   "metadata": {},
   "outputs": [],
   "source": [
    "X = np.array([x])\n",
    "X = preprocess_input(X)"
   ]
  },
  {
   "cell_type": "code",
   "execution_count": 14,
   "id": "58358a20-157b-4e8c-bf7c-97e1872c5423",
   "metadata": {},
   "outputs": [
    {
     "name": "stdout",
     "output_type": "stream",
     "text": [
      "1/1 [==============================] - 9s 9s/step\n"
     ]
    }
   ],
   "source": [
    "pred = model.predict(X)"
   ]
  },
  {
   "cell_type": "code",
   "execution_count": 15,
   "id": "fd338dfd-f93e-4c97-8f56-5694788135ac",
   "metadata": {},
   "outputs": [
    {
     "data": {
      "text/plain": [
       "[[('n02869837', 'bonnet', 0.20651299),\n",
       "  ('n04599235', 'wool', 0.17120962),\n",
       "  ('n04254777', 'sock', 0.035498176),\n",
       "  ('n03188531', 'diaper', 0.030367315),\n",
       "  ('n03775071', 'mitten', 0.02936845)]]"
      ]
     },
     "execution_count": 15,
     "metadata": {},
     "output_type": "execute_result"
    }
   ],
   "source": [
    "decode_predictions(pred)"
   ]
  },
  {
   "cell_type": "code",
   "execution_count": 16,
   "id": "a598cb09-00d5-4c4d-83eb-81b08590fc18",
   "metadata": {},
   "outputs": [],
   "source": [
    "from tensorflow.keras.preprocessing.image import ImageDataGenerator"
   ]
  },
  {
   "cell_type": "code",
   "execution_count": 17,
   "id": "d9533a02-b79e-4bb0-8db2-3da4fb922103",
   "metadata": {},
   "outputs": [
    {
     "name": "stdout",
     "output_type": "stream",
     "text": [
      "Found 3068 images belonging to 10 classes.\n"
     ]
    }
   ],
   "source": [
    "train_gen = ImageDataGenerator(preprocessing_function=preprocess_input)\n",
    "\n",
    "train_ds = train_gen.flow_from_directory(\n",
    "    './clothing-dataset-small/train',\n",
    "    target_size=(150, 150),\n",
    "    batch_size=32\n",
    ")"
   ]
  },
  {
   "cell_type": "code",
   "execution_count": 18,
   "id": "61b42d91-0ba1-4dc2-a660-e25875469f02",
   "metadata": {},
   "outputs": [
    {
     "data": {
      "text/plain": [
       "{'dress': 0,\n",
       " 'hat': 1,\n",
       " 'longsleeve': 2,\n",
       " 'outwear': 3,\n",
       " 'pants': 4,\n",
       " 'shirt': 5,\n",
       " 'shoes': 6,\n",
       " 'shorts': 7,\n",
       " 'skirt': 8,\n",
       " 't-shirt': 9}"
      ]
     },
     "execution_count": 18,
     "metadata": {},
     "output_type": "execute_result"
    }
   ],
   "source": [
    "train_ds.class_indices"
   ]
  },
  {
   "cell_type": "code",
   "execution_count": 19,
   "id": "52d54fd5-5f3d-4420-83b1-12a40c12973f",
   "metadata": {},
   "outputs": [],
   "source": [
    "X, y = next(train_ds)"
   ]
  },
  {
   "cell_type": "code",
   "execution_count": 20,
   "id": "a547377f-1a6c-452c-88d9-83f1da816f66",
   "metadata": {},
   "outputs": [
    {
     "name": "stdout",
     "output_type": "stream",
     "text": [
      "Found 341 images belonging to 10 classes.\n"
     ]
    }
   ],
   "source": [
    "val_gen = ImageDataGenerator(preprocessing_function=preprocess_input)\n",
    "\n",
    "val_ds = val_gen.flow_from_directory(\n",
    "    './clothing-dataset-small/validation',\n",
    "    target_size=(150, 150),\n",
    "    batch_size=32,\n",
    "    shuffle=False\n",
    ")"
   ]
  },
  {
   "cell_type": "code",
   "execution_count": 21,
   "id": "eaf8a1f7-fd51-4dd6-82e0-350b2cb5b056",
   "metadata": {},
   "outputs": [],
   "source": [
    "base_model = Xception(\n",
    "    weights='imagenet',\n",
    "    include_top=False,\n",
    "    input_shape=(150, 150, 3)\n",
    ")\n",
    "base_model.trainable = False\n",
    "\n",
    "inputs = keras.Input(shape=(150, 150, 3))\n",
    "\n",
    "base = base_model(inputs, training=False)\n",
    "\n",
    "vectors = keras.layers.GlobalAveragePooling2D()(base)\n",
    "\n",
    "outputs = keras.layers.Dense(10)(vectors)\n",
    "\n",
    "model = keras.Model(inputs, outputs)"
   ]
  },
  {
   "cell_type": "code",
   "execution_count": 22,
   "id": "ff06181d-ecc9-4151-af97-12f446bb4b00",
   "metadata": {},
   "outputs": [],
   "source": [
    "learning_rate = 0.01\n",
    "optimizer = keras.optimizers.Adam(learning_rate=learning_rate)\n",
    "\n",
    "loss = keras.losses.CategoricalCrossentropy(from_logits=True)\n",
    "\n",
    "model.compile(optimizer=optimizer, loss=loss, metrics=['accuracy'])"
   ]
  },
  {
   "cell_type": "code",
   "execution_count": 23,
   "id": "6776501f-8f77-4090-bdb0-fc35d3b18d4c",
   "metadata": {},
   "outputs": [
    {
     "name": "stdout",
     "output_type": "stream",
     "text": [
      "Epoch 1/10\n",
      "96/96 [==============================] - 28s 234ms/step - loss: 1.2991 - accuracy: 0.6584 - val_loss: 0.8725 - val_accuracy: 0.7390\n",
      "Epoch 2/10\n",
      "96/96 [==============================] - 18s 190ms/step - loss: 0.5298 - accuracy: 0.8224 - val_loss: 0.7954 - val_accuracy: 0.7830\n",
      "Epoch 3/10\n",
      "96/96 [==============================] - 18s 186ms/step - loss: 0.3425 - accuracy: 0.8797 - val_loss: 0.8501 - val_accuracy: 0.7683\n",
      "Epoch 4/10\n",
      "96/96 [==============================] - 18s 184ms/step - loss: 0.2379 - accuracy: 0.9143 - val_loss: 0.8491 - val_accuracy: 0.8035\n",
      "Epoch 5/10\n",
      "96/96 [==============================] - 17s 181ms/step - loss: 0.2038 - accuracy: 0.9280 - val_loss: 1.0390 - val_accuracy: 0.7859\n",
      "Epoch 6/10\n",
      "96/96 [==============================] - 18s 185ms/step - loss: 0.1651 - accuracy: 0.9404 - val_loss: 0.8205 - val_accuracy: 0.8211\n",
      "Epoch 7/10\n",
      "96/96 [==============================] - 18s 184ms/step - loss: 0.1022 - accuracy: 0.9661 - val_loss: 0.9598 - val_accuracy: 0.7830\n",
      "Epoch 8/10\n",
      "96/96 [==============================] - 18s 190ms/step - loss: 0.0844 - accuracy: 0.9681 - val_loss: 0.8581 - val_accuracy: 0.8035\n",
      "Epoch 9/10\n",
      "96/96 [==============================] - 18s 188ms/step - loss: 0.0361 - accuracy: 0.9912 - val_loss: 0.8786 - val_accuracy: 0.8240\n",
      "Epoch 10/10\n",
      "96/96 [==============================] - 18s 189ms/step - loss: 0.0193 - accuracy: 0.9987 - val_loss: 0.8928 - val_accuracy: 0.8035\n"
     ]
    }
   ],
   "source": [
    "history = model.fit(train_ds, epochs=10, validation_data=val_ds)"
   ]
  },
  {
   "cell_type": "code",
   "execution_count": 24,
   "id": "5121eb74-503d-4dfa-b926-fbe52433ce5d",
   "metadata": {},
   "outputs": [
    {
     "data": {
      "text/plain": [
       "<matplotlib.legend.Legend at 0x25449620f40>"
      ]
     },
     "execution_count": 24,
     "metadata": {},
     "output_type": "execute_result"
    },
    {
     "data": {
      "image/png": "[encoded data removed]",
      "text/plain": [
       "<Figure size 640x480 with 1 Axes>"
      ]
     },
     "metadata": {},
     "output_type": "display_data"
    }
   ],
   "source": [
    "plt.plot(history.history['accuracy'], label='train')\n",
    "plt.plot(history.history['val_accuracy'], label='val')\n",
    "plt.xticks(np.arange(10))\n",
    "plt.legend()"
   ]
  },
  {
   "cell_type": "code",
   "execution_count": 27,
   "id": "01442d95-a24b-4285-9749-025e93995f99",
   "metadata": {},
   "outputs": [],
   "source": [
    "def make_model(learning_rate=0.01):\n",
    "    base_model = Xception(\n",
    "        weights='imagenet',\n",
    "        include_top=False,\n",
    "        input_shape=(150, 150, 3)\n",
    "    )\n",
    "    base_model.trainable = False\n",
    "\n",
    "    ###########################################\n",
    "    \n",
    "    inputs = keras.Input(shape=(150, 150, 3))\n",
    "    \n",
    "    base = base_model(inputs, training=False)\n",
    "    \n",
    "    vectors = keras.layers.GlobalAveragePooling2D()(base)\n",
    "    \n",
    "    outputs = keras.layers.Dense(10)(vectors)\n",
    "    \n",
    "    model = keras.Model(inputs, outputs)\n",
    "\n",
    "    ###########################################\n",
    "\n",
    "    optimizer = keras.optimizers.Adam(learning_rate=learning_rate)\n",
    "\n",
    "    loss = keras.losses.CategoricalCrossentropy(from_logits=True)\n",
    "\n",
    "    model.compile(\n",
    "        optimizer=optimizer,\n",
    "        loss=loss,\n",
    "        metrics=['accuracy']\n",
    "    )\n",
    "\n",
    "    return model"
   ]
  },
  {
   "cell_type": "code",
   "execution_count": 29,
   "id": "91789505-054a-4aac-9b69-93405bc1f269",
   "metadata": {},
   "outputs": [
    {
     "name": "stdout",
     "output_type": "stream",
     "text": [
      "0.0001\n",
      "Epoch 1/10\n",
      "96/96 [==============================] - 25s 214ms/step - loss: 1.9546 - accuracy: 0.3406 - val_loss: 1.6204 - val_accuracy: 0.4809\n",
      "Epoch 2/10\n",
      "96/96 [==============================] - 17s 180ms/step - loss: 1.4042 - accuracy: 0.5561 - val_loss: 1.2728 - val_accuracy: 0.6070\n",
      "Epoch 3/10\n",
      "96/96 [==============================] - 17s 181ms/step - loss: 1.1586 - accuracy: 0.6375 - val_loss: 1.0847 - val_accuracy: 0.6569\n",
      "Epoch 4/10\n",
      "96/96 [==============================] - 18s 192ms/step - loss: 1.0166 - accuracy: 0.6829 - val_loss: 0.9677 - val_accuracy: 0.7009\n",
      "Epoch 5/10\n",
      "96/96 [==============================] - 18s 189ms/step - loss: 0.9213 - accuracy: 0.7109 - val_loss: 0.8944 - val_accuracy: 0.7009\n",
      "Epoch 6/10\n",
      "96/96 [==============================] - 18s 185ms/step - loss: 0.8494 - accuracy: 0.7298 - val_loss: 0.8391 - val_accuracy: 0.7361\n",
      "Epoch 7/10\n",
      "96/96 [==============================] - 18s 184ms/step - loss: 0.7950 - accuracy: 0.7461 - val_loss: 0.7953 - val_accuracy: 0.7507\n",
      "Epoch 8/10\n",
      "96/96 [==============================] - 18s 183ms/step - loss: 0.7508 - accuracy: 0.7588 - val_loss: 0.7675 - val_accuracy: 0.7507\n",
      "Epoch 9/10\n",
      "96/96 [==============================] - 18s 182ms/step - loss: 0.7133 - accuracy: 0.7686 - val_loss: 0.7358 - val_accuracy: 0.7771\n",
      "Epoch 10/10\n",
      "96/96 [==============================] - 18s 186ms/step - loss: 0.6837 - accuracy: 0.7810 - val_loss: 0.7145 - val_accuracy: 0.7830\n",
      "\n",
      "\n",
      "0.001\n",
      "Epoch 1/10\n",
      "96/96 [==============================] - 24s 202ms/step - loss: 1.0825 - accuracy: 0.6421 - val_loss: 0.6973 - val_accuracy: 0.7713\n",
      "Epoch 2/10\n",
      "96/96 [==============================] - 17s 178ms/step - loss: 0.6260 - accuracy: 0.7881 - val_loss: 0.6143 - val_accuracy: 0.8035\n",
      "Epoch 3/10\n",
      "96/96 [==============================] - 17s 176ms/step - loss: 0.5068 - accuracy: 0.8321 - val_loss: 0.5865 - val_accuracy: 0.8065\n",
      "Epoch 4/10\n",
      "96/96 [==============================] - 17s 174ms/step - loss: 0.4340 - accuracy: 0.8638 - val_loss: 0.5659 - val_accuracy: 0.8035\n",
      "Epoch 5/10\n",
      "96/96 [==============================] - 17s 174ms/step - loss: 0.3688 - accuracy: 0.8898 - val_loss: 0.5490 - val_accuracy: 0.8270\n",
      "Epoch 6/10\n",
      "96/96 [==============================] - 17s 174ms/step - loss: 0.3257 - accuracy: 0.9065 - val_loss: 0.5562 - val_accuracy: 0.8094\n",
      "Epoch 7/10\n",
      "96/96 [==============================] - 18s 187ms/step - loss: 0.2863 - accuracy: 0.9228 - val_loss: 0.5294 - val_accuracy: 0.8328\n",
      "Epoch 8/10\n",
      "96/96 [==============================] - 18s 187ms/step - loss: 0.2582 - accuracy: 0.9332 - val_loss: 0.5218 - val_accuracy: 0.8446\n",
      "Epoch 9/10\n",
      "96/96 [==============================] - 18s 184ms/step - loss: 0.2281 - accuracy: 0.9488 - val_loss: 0.5458 - val_accuracy: 0.8211\n",
      "Epoch 10/10\n",
      "96/96 [==============================] - 17s 178ms/step - loss: 0.2095 - accuracy: 0.9537 - val_loss: 0.5321 - val_accuracy: 0.8270\n",
      "\n",
      "\n",
      "0.01\n",
      "Epoch 1/10\n",
      "96/96 [==============================] - 23s 194ms/step - loss: 1.3610 - accuracy: 0.6483 - val_loss: 1.1095 - val_accuracy: 0.7478\n",
      "Epoch 2/10\n",
      "96/96 [==============================] - 18s 187ms/step - loss: 0.5940 - accuracy: 0.8217 - val_loss: 1.0148 - val_accuracy: 0.7595\n",
      "Epoch 3/10\n",
      "96/96 [==============================] - 18s 191ms/step - loss: 0.3948 - accuracy: 0.8660 - val_loss: 0.8959 - val_accuracy: 0.7801\n",
      "Epoch 4/10\n",
      "96/96 [==============================] - 18s 183ms/step - loss: 0.2589 - accuracy: 0.9042 - val_loss: 0.9345 - val_accuracy: 0.8035\n",
      "Epoch 5/10\n",
      "96/96 [==============================] - 17s 175ms/step - loss: 0.1618 - accuracy: 0.9390 - val_loss: 0.8625 - val_accuracy: 0.8123\n",
      "Epoch 6/10\n",
      "96/96 [==============================] - 18s 188ms/step - loss: 0.1021 - accuracy: 0.9628 - val_loss: 0.9917 - val_accuracy: 0.8006\n",
      "Epoch 7/10\n",
      "96/96 [==============================] - 17s 182ms/step - loss: 0.0804 - accuracy: 0.9752 - val_loss: 0.8539 - val_accuracy: 0.8299\n",
      "Epoch 8/10\n",
      "96/96 [==============================] - 17s 181ms/step - loss: 0.0534 - accuracy: 0.9844 - val_loss: 0.9716 - val_accuracy: 0.8065\n",
      "Epoch 9/10\n",
      "96/96 [==============================] - 17s 179ms/step - loss: 0.0325 - accuracy: 0.9922 - val_loss: 0.9265 - val_accuracy: 0.8152\n",
      "Epoch 10/10\n",
      "96/96 [==============================] - 18s 190ms/step - loss: 0.0240 - accuracy: 0.9967 - val_loss: 0.9002 - val_accuracy: 0.8299\n",
      "\n",
      "\n",
      "0.1\n",
      "Epoch 1/10\n",
      "96/96 [==============================] - 25s 206ms/step - loss: 10.1530 - accuracy: 0.6346 - val_loss: 7.8384 - val_accuracy: 0.7361\n",
      "Epoch 2/10\n",
      "96/96 [==============================] - 18s 182ms/step - loss: 5.6946 - accuracy: 0.7718 - val_loss: 7.4762 - val_accuracy: 0.7742\n",
      "Epoch 3/10\n",
      "96/96 [==============================] - 17s 179ms/step - loss: 3.4160 - accuracy: 0.8439 - val_loss: 8.3982 - val_accuracy: 0.7595\n",
      "Epoch 4/10\n",
      "96/96 [==============================] - 17s 178ms/step - loss: 2.7242 - accuracy: 0.8719 - val_loss: 8.1705 - val_accuracy: 0.7859\n",
      "Epoch 5/10\n",
      "96/96 [==============================] - 17s 181ms/step - loss: 3.0649 - accuracy: 0.8644 - val_loss: 9.3997 - val_accuracy: 0.7771\n",
      "Epoch 6/10\n",
      "96/96 [==============================] - 18s 183ms/step - loss: 1.9303 - accuracy: 0.8983 - val_loss: 11.1025 - val_accuracy: 0.7507\n",
      "Epoch 7/10\n",
      "96/96 [==============================] - 19s 194ms/step - loss: 1.8474 - accuracy: 0.9071 - val_loss: 11.5752 - val_accuracy: 0.7390\n",
      "Epoch 8/10\n",
      "96/96 [==============================] - 18s 186ms/step - loss: 1.9879 - accuracy: 0.9107 - val_loss: 9.9402 - val_accuracy: 0.7859\n",
      "Epoch 9/10\n",
      "96/96 [==============================] - 18s 186ms/step - loss: 0.9121 - accuracy: 0.9423 - val_loss: 11.4441 - val_accuracy: 0.7713\n",
      "Epoch 10/10\n",
      "96/96 [==============================] - 18s 185ms/step - loss: 0.9326 - accuracy: 0.9531 - val_loss: 11.5513 - val_accuracy: 0.7742\n",
      "\n",
      "\n"
     ]
    }
   ],
   "source": [
    "scores = {}\n",
    "\n",
    "for lr in [0.0001, 0.001, 0.01, 0.1]:\n",
    "    print(lr)\n",
    "\n",
    "    model = make_model(learning_rate=lr)\n",
    "    history = model.fit(train_ds, epochs=10, validation_data=val_ds)\n",
    "    scores[lr] = history.history\n",
    "    \n",
    "    print()\n",
    "    print()"
   ]
  },
  {
   "cell_type": "code",
   "execution_count": 31,
   "id": "1628c651-5328-4b08-8a90-180a16f6b607",
   "metadata": {},
   "outputs": [
    {
     "data": {
      "text/plain": [
       "<matplotlib.legend.Legend at 0x2557f1a6820>"
      ]
     },
     "execution_count": 31,
     "metadata": {},
     "output_type": "execute_result"
    },
    {
     "data": {
      "image/png": "[encoded data removed]",
      "text/plain": [
       "<Figure size 640x480 with 1 Axes>"
      ]
     },
     "metadata": {},
     "output_type": "display_data"
    }
   ],
   "source": [
    "for lr, hist in scores.items():\n",
    "    #plt.plot(hist['accuracy'], label=('train=%s' % lr))\n",
    "    plt.plot(hist['val_accuracy'], label=('val=%s' % lr))\n",
    "\n",
    "plt.xticks(np.arange(10))\n",
    "plt.legend()"
   ]
  },
  {
   "cell_type": "code",
   "execution_count": 34,
   "id": "581f20c9-0d71-4fcb-ba4d-896e4f8528fa",
   "metadata": {},
   "outputs": [
    {
     "name": "stdout",
     "output_type": "stream",
     "text": [
      "Python 3.9.18\n"
     ]
    }
   ],
   "source": []
  },
  {
   "cell_type": "code",
   "execution_count": null,
   "id": "36b8fa21-53b3-408c-b876-d2b0d03e068a",
   "metadata": {},
   "outputs": [],
   "source": []
  },
  {
   "cell_type": "code",
   "execution_count": null,
   "id": "c4c25056-ec8f-492e-8ae9-f0fa8f669fd1",
   "metadata": {},
   "outputs": [],
   "source": []
  },
  {
   "cell_type": "code",
   "execution_count": null,
   "id": "7a8514da-7063-4c2c-b440-d5d19f2c57bb",
   "metadata": {},
   "outputs": [],
   "source": []
  },
  {
   "cell_type": "code",
   "execution_count": null,
   "id": "d16a4b6a-d3da-45fd-bbda-a9dac97bd0a9",
   "metadata": {},
   "outputs": [],
   "source": []
  },
  {
   "cell_type": "code",
   "execution_count": null,
   "id": "1d18f6ad-fdd4-473c-aee7-881a57fdefd3",
   "metadata": {},
   "outputs": [],
   "source": []
  },
  {
   "cell_type": "code",
   "execution_count": null,
   "id": "a8b43591-8ecf-47fa-9d38-f582e16479b0",
   "metadata": {},
   "outputs": [],
   "source": []
  }
 ],
 "metadata": {
  "kernelspec": {
   "display_name": "Python 3 (ipykernel)",
   "language": "python",
   "name": "python3"
  },
  "language_info": {
   "codemirror_mode": {
    "name": "ipython",
    "version": 3
   },
   "file_extension": ".py",
   "mimetype": "text/x-python",
   "name": "python",
   "nbconvert_exporter": "python",
   "pygments_lexer": "ipython3",
   "version": "3.9.18"
  }
 },
 "nbformat": 4,
 "nbformat_minor": 5
}
