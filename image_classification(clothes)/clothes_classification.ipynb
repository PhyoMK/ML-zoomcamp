{
 "cells": [
  {
   "cell_type": "code",
   "execution_count": 1,
   "id": "fbe99e2e-a662-47f3-a3ce-5dd277a0d293",
   "metadata": {},
   "outputs": [],
   "source": [
    "import numpy as np\n",
    "import matplotlib.pyplot as plt\n",
    "\n",
    "%matplotlib inline"
   ]
  },
  {
   "cell_type": "code",
   "execution_count": 2,
   "id": "2ecf3381-2418-46dc-b83c-39e90beac273",
   "metadata": {},
   "outputs": [],
   "source": [
    "## !git clone https://github.com/alexeygrigorev/clothing-dataset-small.git"
   ]
  },
  {
   "cell_type": "code",
   "execution_count": 3,
   "id": "90e175be-8690-4d2b-82af-7a6188c5df57",
   "metadata": {},
   "outputs": [],
   "source": [
    "import tensorflow as tf\n",
    "from tensorflow import keras"
   ]
  },
  {
   "cell_type": "code",
   "execution_count": 4,
   "id": "eb0c1808-e065-4a84-8d95-65713e1398c5",
   "metadata": {},
   "outputs": [
    {
     "name": "stdout",
     "output_type": "stream",
     "text": [
      "C:\\Users\\Phyo Min Khant\\anaconda3\\Anaconda3\\python.exe\n"
     ]
    }
   ],
   "source": [
    "import sys\n",
    "print(sys.executable)"
   ]
  },
  {
   "cell_type": "code",
   "execution_count": 5,
   "id": "f8c26eef-c025-4d14-aa77-c765d48ace85",
   "metadata": {},
   "outputs": [
    {
     "name": "stdout",
     "output_type": "stream",
     "text": [
      "TensorFlow version: 2.10.0\n"
     ]
    }
   ],
   "source": [
    "import tensorflow as tf\n",
    "\n",
    "print(\"TensorFlow version:\", tf.__version__)\n"
   ]
  },
  {
   "cell_type": "code",
   "execution_count": 6,
   "id": "0ef52538-0cf2-4db4-b4c2-0b577673c153",
   "metadata": {},
   "outputs": [
    {
     "name": "stdout",
     "output_type": "stream",
     "text": [
      "tf.Tensor(420.4171, shape=(), dtype=float32)\n"
     ]
    }
   ],
   "source": [
    "print(tf.reduce_sum(tf.random.normal([1000, 1000])))"
   ]
  },
  {
   "cell_type": "code",
   "execution_count": 7,
   "id": "bc1e5074-52bf-46f4-ac4d-b1ab71ab7278",
   "metadata": {},
   "outputs": [
    {
     "name": "stdout",
     "output_type": "stream",
     "text": [
      "[PhysicalDevice(name='/physical_device:GPU:0', device_type='GPU')]\n"
     ]
    }
   ],
   "source": [
    "print(tf.config.list_physical_devices('GPU'))"
   ]
  },
  {
   "cell_type": "code",
   "execution_count": 8,
   "id": "fad2ac8b-6bbf-4832-9a8e-266e0f225972",
   "metadata": {},
   "outputs": [],
   "source": [
    "from tensorflow.keras.preprocessing.image import load_img"
   ]
  },
  {
   "cell_type": "code",
   "execution_count": 9,
   "id": "38d5652a-cd69-4a4c-9d6e-20fffc4b165f",
   "metadata": {},
   "outputs": [],
   "source": [
    "path = './clothing-dataset-small/train/hat'\n",
    "name = '1aac00cd-b42a-40f1-a82a-dcc44a0879d4.jpg'\n",
    "fullname = f'{path}/{name}'\n",
    "img = load_img(fullname, target_size=(299, 299))"
   ]
  },
  {
   "cell_type": "code",
   "execution_count": 10,
   "id": "5d2b27e0-47d2-4895-9f90-3576a20239c8",
   "metadata": {},
   "outputs": [
    {
     "data": {
      "text/plain": [
       "(299, 299, 3)"
      ]
     },
     "execution_count": 10,
     "metadata": {},
     "output_type": "execute_result"
    }
   ],
   "source": [
    "x = np.array(img)\n",
    "x.shape"
   ]
  },
  {
   "cell_type": "code",
   "execution_count": 11,
   "id": "ee07d5bf-608d-4720-ae83-66d9b878775a",
   "metadata": {},
   "outputs": [],
   "source": [
    "from tensorflow.keras.applications.xception import Xception\n",
    "from tensorflow.keras.applications.xception import preprocess_input\n",
    "from tensorflow.keras.applications.xception import decode_predictions"
   ]
  },
  {
   "cell_type": "code",
   "execution_count": 12,
   "id": "acc93c26-7ad6-4944-962e-0060bcb31dce",
   "metadata": {},
   "outputs": [],
   "source": [
    "model = Xception(weights='imagenet', input_shape=(299, 299, 3))"
   ]
  },
  {
   "cell_type": "code",
   "execution_count": 13,
   "id": "047385ad-985d-4017-8b87-d51fbe91ae93",
   "metadata": {},
   "outputs": [],
   "source": [
    "X = np.array([x])\n",
    "X = preprocess_input(X)"
   ]
  },
  {
   "cell_type": "code",
   "execution_count": 14,
   "id": "58358a20-157b-4e8c-bf7c-97e1872c5423",
   "metadata": {},
   "outputs": [
    {
     "name": "stdout",
     "output_type": "stream",
     "text": [
      "1/1 [==============================] - 13s 13s/step\n"
     ]
    }
   ],
   "source": [
    "pred = model.predict(X)"
   ]
  },
  {
   "cell_type": "code",
   "execution_count": 15,
   "id": "fd338dfd-f93e-4c97-8f56-5694788135ac",
   "metadata": {
    "scrolled": true
   },
   "outputs": [
    {
     "data": {
      "text/plain": [
       "[[('n02869837', 'bonnet', 0.20651299),\n",
       "  ('n04599235', 'wool', 0.17120962),\n",
       "  ('n04254777', 'sock', 0.035498176),\n",
       "  ('n03188531', 'diaper', 0.030367315),\n",
       "  ('n03775071', 'mitten', 0.02936845)]]"
      ]
     },
     "execution_count": 15,
     "metadata": {},
     "output_type": "execute_result"
    }
   ],
   "source": [
    "decode_predictions(pred)"
   ]
  },
  {
   "cell_type": "code",
   "execution_count": 16,
   "id": "a598cb09-00d5-4c4d-83eb-81b08590fc18",
   "metadata": {},
   "outputs": [],
   "source": [
    "from tensorflow.keras.preprocessing.image import ImageDataGenerator"
   ]
  },
  {
   "cell_type": "code",
   "execution_count": 17,
   "id": "d9533a02-b79e-4bb0-8db2-3da4fb922103",
   "metadata": {},
   "outputs": [
    {
     "name": "stdout",
     "output_type": "stream",
     "text": [
      "Found 3068 images belonging to 10 classes.\n"
     ]
    }
   ],
   "source": [
    "train_gen = ImageDataGenerator(preprocessing_function=preprocess_input)\n",
    "\n",
    "train_ds = train_gen.flow_from_directory(\n",
    "    './clothing-dataset-small/train',\n",
    "    target_size=(150, 150),\n",
    "    batch_size=32\n",
    ")"
   ]
  },
  {
   "cell_type": "code",
   "execution_count": 18,
   "id": "61b42d91-0ba1-4dc2-a660-e25875469f02",
   "metadata": {},
   "outputs": [
    {
     "data": {
      "text/plain": [
       "{'dress': 0,\n",
       " 'hat': 1,\n",
       " 'longsleeve': 2,\n",
       " 'outwear': 3,\n",
       " 'pants': 4,\n",
       " 'shirt': 5,\n",
       " 'shoes': 6,\n",
       " 'shorts': 7,\n",
       " 'skirt': 8,\n",
       " 't-shirt': 9}"
      ]
     },
     "execution_count": 18,
     "metadata": {},
     "output_type": "execute_result"
    }
   ],
   "source": [
    "train_ds.class_indices"
   ]
  },
  {
   "cell_type": "code",
   "execution_count": 19,
   "id": "52d54fd5-5f3d-4420-83b1-12a40c12973f",
   "metadata": {},
   "outputs": [],
   "source": [
    "X, y = next(train_ds)"
   ]
  },
  {
   "cell_type": "code",
   "execution_count": 20,
   "id": "a547377f-1a6c-452c-88d9-83f1da816f66",
   "metadata": {},
   "outputs": [
    {
     "name": "stdout",
     "output_type": "stream",
     "text": [
      "Found 341 images belonging to 10 classes.\n"
     ]
    }
   ],
   "source": [
    "val_gen = ImageDataGenerator(preprocessing_function=preprocess_input)\n",
    "\n",
    "val_ds = val_gen.flow_from_directory(\n",
    "    './clothing-dataset-small/validation',\n",
    "    target_size=(150, 150),\n",
    "    batch_size=32,\n",
    "    shuffle=False\n",
    ")"
   ]
  },
  {
   "cell_type": "code",
   "execution_count": 21,
   "id": "eaf8a1f7-fd51-4dd6-82e0-350b2cb5b056",
   "metadata": {},
   "outputs": [],
   "source": [
    "base_model = Xception(\n",
    "    weights='imagenet',\n",
    "    include_top=False,\n",
    "    input_shape=(150, 150, 3)\n",
    ")\n",
    "base_model.trainable = False\n",
    "\n",
    "inputs = keras.Input(shape=(150, 150, 3))\n",
    "\n",
    "base = base_model(inputs, training=False)\n",
    "\n",
    "vectors = keras.layers.GlobalAveragePooling2D()(base)\n",
    "\n",
    "outputs = keras.layers.Dense(10)(vectors)\n",
    "\n",
    "model = keras.Model(inputs, outputs)"
   ]
  },
  {
   "cell_type": "code",
   "execution_count": 22,
   "id": "ff06181d-ecc9-4151-af97-12f446bb4b00",
   "metadata": {},
   "outputs": [],
   "source": [
    "learning_rate = 0.01\n",
    "optimizer = keras.optimizers.Adam(learning_rate=learning_rate)\n",
    "\n",
    "loss = keras.losses.CategoricalCrossentropy(from_logits=True)\n",
    "\n",
    "model.compile(optimizer=optimizer, loss=loss, metrics=['accuracy'])"
   ]
  },
  {
   "cell_type": "code",
   "execution_count": 23,
   "id": "6776501f-8f77-4090-bdb0-fc35d3b18d4c",
   "metadata": {},
   "outputs": [
    {
     "name": "stdout",
     "output_type": "stream",
     "text": [
      "Epoch 1/10\n",
      "96/96 [==============================] - 13s 105ms/step - loss: 1.2065 - accuracy: 0.6793 - val_loss: 0.8191 - val_accuracy: 0.7683\n",
      "Epoch 2/10\n",
      "96/96 [==============================] - 7s 77ms/step - loss: 0.5181 - accuracy: 0.8354 - val_loss: 0.8263 - val_accuracy: 0.7889\n",
      "Epoch 3/10\n",
      "96/96 [==============================] - 7s 77ms/step - loss: 0.3098 - accuracy: 0.8905 - val_loss: 0.9622 - val_accuracy: 0.7742\n",
      "Epoch 4/10\n",
      "96/96 [==============================] - 7s 77ms/step - loss: 0.2895 - accuracy: 0.8977 - val_loss: 0.9336 - val_accuracy: 0.7830\n",
      "Epoch 5/10\n",
      "96/96 [==============================] - 7s 77ms/step - loss: 0.1787 - accuracy: 0.9368 - val_loss: 0.8969 - val_accuracy: 0.8123\n",
      "Epoch 6/10\n",
      "96/96 [==============================] - 8s 78ms/step - loss: 0.1037 - accuracy: 0.9664 - val_loss: 0.8699 - val_accuracy: 0.7947\n",
      "Epoch 7/10\n",
      "96/96 [==============================] - 7s 75ms/step - loss: 0.0619 - accuracy: 0.9827 - val_loss: 0.8828 - val_accuracy: 0.8006\n",
      "Epoch 8/10\n",
      "96/96 [==============================] - 7s 75ms/step - loss: 0.0350 - accuracy: 0.9932 - val_loss: 0.9501 - val_accuracy: 0.8152\n",
      "Epoch 9/10\n",
      "96/96 [==============================] - 7s 74ms/step - loss: 0.0286 - accuracy: 0.9948 - val_loss: 0.8821 - val_accuracy: 0.8152\n",
      "Epoch 10/10\n",
      "96/96 [==============================] - 7s 75ms/step - loss: 0.0231 - accuracy: 0.9961 - val_loss: 0.9711 - val_accuracy: 0.7947\n"
     ]
    }
   ],
   "source": [
    "history = model.fit(train_ds, epochs=10, validation_data=val_ds)"
   ]
  },
  {
   "cell_type": "code",
   "execution_count": 24,
   "id": "5121eb74-503d-4dfa-b926-fbe52433ce5d",
   "metadata": {},
   "outputs": [
    {
     "data": {
      "text/plain": [
       "<matplotlib.legend.Legend at 0x21218dfc130>"
      ]
     },
     "execution_count": 24,
     "metadata": {},
     "output_type": "execute_result"
    },
    {
     "data": {
      "image/png": "[encoded data removed]",
      "text/plain": [
       "<Figure size 640x480 with 1 Axes>"
      ]
     },
     "metadata": {},
     "output_type": "display_data"
    }
   ],
   "source": [
    "plt.plot(history.history['accuracy'], label='train')\n",
    "plt.plot(history.history['val_accuracy'], label='val')\n",
    "plt.xticks(np.arange(10))\n",
    "plt.legend()"
   ]
  },
  {
   "cell_type": "code",
   "execution_count": 31,
   "id": "01442d95-a24b-4285-9749-025e93995f99",
   "metadata": {},
   "outputs": [],
   "source": [
    "def make_model(learning_rate=0.01, size_inner=100):\n",
    "    base_model = Xception(\n",
    "        weights='imagenet',\n",
    "        include_top=False,\n",
    "        input_shape=(150, 150, 3)\n",
    "    )\n",
    "    base_model.trainable = False\n",
    "\n",
    "    ###########################################\n",
    "    \n",
    "    inputs = keras.Input(shape=(150, 150, 3))\n",
    "    \n",
    "    base = base_model(inputs, training=False)\n",
    "    \n",
    "    vectors = keras.layers.GlobalAveragePooling2D()(base)\n",
    "\n",
    "    inner = keras.layers.Dense(size_inner, activation='relu')(vectors)\n",
    "    \n",
    "    outputs = keras.layers.Dense(10)(inner)\n",
    "    \n",
    "    model = keras.Model(inputs, outputs)\n",
    "\n",
    "    ###########################################\n",
    "\n",
    "    optimizer = keras.optimizers.Adam(learning_rate=learning_rate)\n",
    "\n",
    "    loss = keras.losses.CategoricalCrossentropy(from_logits=True)\n",
    "\n",
    "    model.compile(\n",
    "        optimizer=optimizer,\n",
    "        loss=loss,\n",
    "        metrics=['accuracy']\n",
    "    )\n",
    "\n",
    "    return model"
   ]
  },
  {
   "cell_type": "code",
   "execution_count": 26,
   "id": "91789505-054a-4aac-9b69-93405bc1f269",
   "metadata": {},
   "outputs": [
    {
     "name": "stdout",
     "output_type": "stream",
     "text": [
      "0.0001\n",
      "Epoch 1/10\n",
      "96/96 [==============================] - 10s 83ms/step - loss: 1.8871 - accuracy: 0.3771 - val_loss: 1.6017 - val_accuracy: 0.4751\n",
      "Epoch 2/10\n",
      "96/96 [==============================] - 7s 77ms/step - loss: 1.3791 - accuracy: 0.5561 - val_loss: 1.2650 - val_accuracy: 0.6129\n",
      "Epoch 3/10\n",
      "96/96 [==============================] - 7s 74ms/step - loss: 1.1451 - accuracy: 0.6343 - val_loss: 1.0883 - val_accuracy: 0.6716\n",
      "Epoch 4/10\n",
      "96/96 [==============================] - 7s 74ms/step - loss: 1.0074 - accuracy: 0.6754 - val_loss: 0.9796 - val_accuracy: 0.6891\n",
      "Epoch 5/10\n",
      "96/96 [==============================] - 7s 74ms/step - loss: 0.9149 - accuracy: 0.6998 - val_loss: 0.9029 - val_accuracy: 0.7302\n",
      "Epoch 6/10\n",
      "96/96 [==============================] - 7s 74ms/step - loss: 0.8456 - accuracy: 0.7233 - val_loss: 0.8477 - val_accuracy: 0.7302\n",
      "Epoch 7/10\n",
      "96/96 [==============================] - 7s 74ms/step - loss: 0.7920 - accuracy: 0.7399 - val_loss: 0.8067 - val_accuracy: 0.7566\n",
      "Epoch 8/10\n",
      "96/96 [==============================] - 7s 75ms/step - loss: 0.7489 - accuracy: 0.7562 - val_loss: 0.7768 - val_accuracy: 0.7595\n",
      "Epoch 9/10\n",
      "96/96 [==============================] - 7s 74ms/step - loss: 0.7135 - accuracy: 0.7686 - val_loss: 0.7492 - val_accuracy: 0.7683\n",
      "Epoch 10/10\n",
      "96/96 [==============================] - 7s 75ms/step - loss: 0.6824 - accuracy: 0.7787 - val_loss: 0.7294 - val_accuracy: 0.7713\n",
      "\n",
      "\n",
      "0.001\n",
      "Epoch 1/10\n",
      "96/96 [==============================] - 9s 81ms/step - loss: 1.0821 - accuracy: 0.6317 - val_loss: 0.6893 - val_accuracy: 0.7918\n",
      "Epoch 2/10\n",
      "96/96 [==============================] - 7s 75ms/step - loss: 0.6343 - accuracy: 0.7800 - val_loss: 0.5980 - val_accuracy: 0.8182\n",
      "Epoch 3/10\n",
      "96/96 [==============================] - 8s 81ms/step - loss: 0.5094 - accuracy: 0.8279 - val_loss: 0.5560 - val_accuracy: 0.8094\n",
      "Epoch 4/10\n",
      "96/96 [==============================] - 8s 79ms/step - loss: 0.4310 - accuracy: 0.8638 - val_loss: 0.5378 - val_accuracy: 0.8182\n",
      "Epoch 5/10\n",
      "96/96 [==============================] - 7s 76ms/step - loss: 0.3693 - accuracy: 0.8872 - val_loss: 0.5264 - val_accuracy: 0.8182\n",
      "Epoch 6/10\n",
      "96/96 [==============================] - 7s 77ms/step - loss: 0.3238 - accuracy: 0.9074 - val_loss: 0.5257 - val_accuracy: 0.8065\n",
      "Epoch 7/10\n",
      "96/96 [==============================] - 7s 75ms/step - loss: 0.2880 - accuracy: 0.9201 - val_loss: 0.5305 - val_accuracy: 0.8270\n",
      "Epoch 8/10\n",
      "96/96 [==============================] - 7s 76ms/step - loss: 0.2579 - accuracy: 0.9325 - val_loss: 0.5207 - val_accuracy: 0.8152\n",
      "Epoch 9/10\n",
      "96/96 [==============================] - 7s 77ms/step - loss: 0.2342 - accuracy: 0.9436 - val_loss: 0.5121 - val_accuracy: 0.8182\n",
      "Epoch 10/10\n",
      "96/96 [==============================] - 7s 75ms/step - loss: 0.2097 - accuracy: 0.9531 - val_loss: 0.5288 - val_accuracy: 0.8182\n",
      "\n",
      "\n",
      "0.01\n",
      "Epoch 1/10\n",
      "96/96 [==============================] - 10s 84ms/step - loss: 1.2111 - accuracy: 0.6649 - val_loss: 0.9011 - val_accuracy: 0.7390\n",
      "Epoch 2/10\n",
      "96/96 [==============================] - 8s 80ms/step - loss: 0.5503 - accuracy: 0.8272 - val_loss: 0.7915 - val_accuracy: 0.7859\n",
      "Epoch 3/10\n",
      "96/96 [==============================] - 7s 77ms/step - loss: 0.3768 - accuracy: 0.8742 - val_loss: 0.9272 - val_accuracy: 0.7801\n",
      "Epoch 4/10\n",
      "96/96 [==============================] - 8s 78ms/step - loss: 0.2752 - accuracy: 0.9016 - val_loss: 0.9315 - val_accuracy: 0.7859\n",
      "Epoch 5/10\n",
      "96/96 [==============================] - 7s 78ms/step - loss: 0.1693 - accuracy: 0.9390 - val_loss: 0.9741 - val_accuracy: 0.7859\n",
      "Epoch 6/10\n",
      "96/96 [==============================] - 7s 77ms/step - loss: 0.1189 - accuracy: 0.9560 - val_loss: 0.8270 - val_accuracy: 0.8182\n",
      "Epoch 7/10\n",
      "96/96 [==============================] - 8s 78ms/step - loss: 0.0885 - accuracy: 0.9687 - val_loss: 0.9413 - val_accuracy: 0.8006\n",
      "Epoch 8/10\n",
      "96/96 [==============================] - 7s 78ms/step - loss: 0.0621 - accuracy: 0.9811 - val_loss: 0.8852 - val_accuracy: 0.8035\n",
      "Epoch 9/10\n",
      "96/96 [==============================] - 8s 78ms/step - loss: 0.0392 - accuracy: 0.9905 - val_loss: 0.8439 - val_accuracy: 0.8240\n",
      "Epoch 10/10\n",
      "96/96 [==============================] - 8s 78ms/step - loss: 0.0410 - accuracy: 0.9919 - val_loss: 0.9110 - val_accuracy: 0.7947\n",
      "\n",
      "\n",
      "0.1\n",
      "Epoch 1/10\n",
      "96/96 [==============================] - 10s 84ms/step - loss: 9.5548 - accuracy: 0.6555 - val_loss: 6.6155 - val_accuracy: 0.7273\n",
      "Epoch 2/10\n",
      "96/96 [==============================] - 7s 78ms/step - loss: 4.4295 - accuracy: 0.7927 - val_loss: 8.2537 - val_accuracy: 0.7331\n",
      "Epoch 3/10\n",
      "96/96 [==============================] - 7s 78ms/step - loss: 4.3339 - accuracy: 0.8158 - val_loss: 8.6994 - val_accuracy: 0.7419\n",
      "Epoch 4/10\n",
      "96/96 [==============================] - 7s 77ms/step - loss: 3.8014 - accuracy: 0.8458 - val_loss: 7.9763 - val_accuracy: 0.7771\n",
      "Epoch 5/10\n",
      "96/96 [==============================] - 7s 77ms/step - loss: 1.7883 - accuracy: 0.9087 - val_loss: 8.5894 - val_accuracy: 0.7859\n",
      "Epoch 6/10\n",
      "96/96 [==============================] - 7s 77ms/step - loss: 1.9336 - accuracy: 0.9035 - val_loss: 8.7498 - val_accuracy: 0.7742\n",
      "Epoch 7/10\n",
      "96/96 [==============================] - 8s 78ms/step - loss: 2.3044 - accuracy: 0.8990 - val_loss: 10.9285 - val_accuracy: 0.7947\n",
      "Epoch 8/10\n",
      "96/96 [==============================] - 8s 78ms/step - loss: 1.5194 - accuracy: 0.9276 - val_loss: 8.3523 - val_accuracy: 0.7977\n",
      "Epoch 9/10\n",
      "96/96 [==============================] - 8s 78ms/step - loss: 1.0709 - accuracy: 0.9436 - val_loss: 8.8813 - val_accuracy: 0.8240\n",
      "Epoch 10/10\n",
      "96/96 [==============================] - 8s 79ms/step - loss: 1.0630 - accuracy: 0.9426 - val_loss: 10.0248 - val_accuracy: 0.7771\n",
      "\n",
      "\n"
     ]
    }
   ],
   "source": [
    "scores = {}\n",
    "\n",
    "for lr in [0.0001, 0.001, 0.01, 0.1]:\n",
    "    print(lr)\n",
    "\n",
    "    model = make_model(learning_rate=lr)\n",
    "    history = model.fit(train_ds, epochs=10, validation_data=val_ds)\n",
    "    scores[lr] = history.history\n",
    "    \n",
    "    print()\n",
    "    print()"
   ]
  },
  {
   "cell_type": "code",
   "execution_count": 27,
   "id": "1628c651-5328-4b08-8a90-180a16f6b607",
   "metadata": {},
   "outputs": [
    {
     "data": {
      "text/plain": [
       "<matplotlib.legend.Legend at 0x21305f55970>"
      ]
     },
     "execution_count": 27,
     "metadata": {},
     "output_type": "execute_result"
    },
    {
     "data": {
      "image/png": "[encoded data removed]",
      "text/plain": [
       "<Figure size 640x480 with 1 Axes>"
      ]
     },
     "metadata": {},
     "output_type": "display_data"
    }
   ],
   "source": [
    "for lr, hist in scores.items():\n",
    "    #plt.plot(hist['accuracy'], label=('train=%s' % lr))\n",
    "    plt.plot(hist['val_accuracy'], label=('val=%s' % lr))\n",
    "\n",
    "plt.xticks(np.arange(10))\n",
    "plt.legend()"
   ]
  },
  {
   "cell_type": "code",
   "execution_count": null,
   "id": "581f20c9-0d71-4fcb-ba4d-896e4f8528fa",
   "metadata": {},
   "outputs": [],
   "source": [
    "#model.save_weights('model_v1.h5', save_format='h5')"
   ]
  },
  {
   "cell_type": "code",
   "execution_count": 28,
   "id": "36b8fa21-53b3-408c-b876-d2b0d03e068a",
   "metadata": {},
   "outputs": [],
   "source": [
    "checkpoint = keras.callbacks.ModelCheckpoint(\n",
    "    'xception_v1_{epoch:02d}_{val_accuracy:.3f}.h5',\n",
    "    save_best_only=True,\n",
    "    monitor='val_accuracy',\n",
    "    mode='max'\n",
    ")\n",
    "    "
   ]
  },
  {
   "cell_type": "code",
   "execution_count": 30,
   "id": "c4c25056-ec8f-492e-8ae9-f0fa8f669fd1",
   "metadata": {},
   "outputs": [
    {
     "name": "stdout",
     "output_type": "stream",
     "text": [
      "Epoch 1/10\n",
      "96/96 [==============================] - 10s 90ms/step - loss: 1.0961 - accuracy: 0.6353 - val_loss: 0.7298 - val_accuracy: 0.7742\n",
      "Epoch 2/10\n",
      "96/96 [==============================] - 8s 81ms/step - loss: 0.6302 - accuracy: 0.7846 - val_loss: 0.6291 - val_accuracy: 0.7918\n",
      "Epoch 3/10\n",
      "96/96 [==============================] - 8s 79ms/step - loss: 0.5066 - accuracy: 0.8318 - val_loss: 0.5794 - val_accuracy: 0.8211\n",
      "Epoch 4/10\n",
      "96/96 [==============================] - 7s 76ms/step - loss: 0.4383 - accuracy: 0.8576 - val_loss: 0.5612 - val_accuracy: 0.8211\n",
      "Epoch 5/10\n",
      "96/96 [==============================] - 7s 77ms/step - loss: 0.3732 - accuracy: 0.8823 - val_loss: 0.5571 - val_accuracy: 0.8270\n",
      "Epoch 6/10\n",
      "96/96 [==============================] - 9s 98ms/step - loss: 0.3301 - accuracy: 0.9042 - val_loss: 0.5441 - val_accuracy: 0.8182\n",
      "Epoch 7/10\n",
      "96/96 [==============================] - 17s 180ms/step - loss: 0.2884 - accuracy: 0.9267 - val_loss: 0.5234 - val_accuracy: 0.8328\n",
      "Epoch 8/10\n",
      "96/96 [==============================] - 17s 176ms/step - loss: 0.2630 - accuracy: 0.9273 - val_loss: 0.5302 - val_accuracy: 0.8270\n",
      "Epoch 9/10\n",
      "96/96 [==============================] - 19s 192ms/step - loss: 0.2369 - accuracy: 0.9446 - val_loss: 0.5154 - val_accuracy: 0.8446\n",
      "Epoch 10/10\n",
      "96/96 [==============================] - 17s 181ms/step - loss: 0.2109 - accuracy: 0.9540 - val_loss: 0.5357 - val_accuracy: 0.8270\n"
     ]
    }
   ],
   "source": [
    "learning_rate = 0.001\n",
    "\n",
    "model = make_model(learning_rate=learning_rate)\n",
    "\n",
    "history = model.fit(\n",
    "    train_ds,\n",
    "    epochs=10,\n",
    "    validation_data=val_ds,\n",
    "    callbacks=[checkpoint]\n",
    ")"
   ]
  },
  {
   "cell_type": "code",
   "execution_count": 34,
   "id": "7a8514da-7063-4c2c-b440-d5d19f2c57bb",
   "metadata": {},
   "outputs": [
    {
     "name": "stdout",
     "output_type": "stream",
     "text": [
      "10\n",
      "Epoch 1/10\n",
      "96/96 [==============================] - 26s 212ms/step - loss: 1.2265 - accuracy: 0.5935 - val_loss: 0.8533 - val_accuracy: 0.6979\n",
      "Epoch 2/10\n",
      "96/96 [==============================] - 19s 200ms/step - loss: 0.7408 - accuracy: 0.7480 - val_loss: 0.7157 - val_accuracy: 0.7478\n",
      "Epoch 3/10\n",
      "96/96 [==============================] - 20s 204ms/step - loss: 0.5845 - accuracy: 0.8070 - val_loss: 0.6277 - val_accuracy: 0.7918\n",
      "Epoch 4/10\n",
      "96/96 [==============================] - 20s 207ms/step - loss: 0.4910 - accuracy: 0.8413 - val_loss: 0.6047 - val_accuracy: 0.7918\n",
      "Epoch 5/10\n",
      "96/96 [==============================] - 20s 210ms/step - loss: 0.4148 - accuracy: 0.8729 - val_loss: 0.5939 - val_accuracy: 0.8035\n",
      "Epoch 6/10\n",
      "96/96 [==============================] - 21s 217ms/step - loss: 0.3605 - accuracy: 0.8934 - val_loss: 0.6199 - val_accuracy: 0.7801\n",
      "Epoch 7/10\n",
      "96/96 [==============================] - 22s 233ms/step - loss: 0.3159 - accuracy: 0.9107 - val_loss: 0.5553 - val_accuracy: 0.8094\n",
      "Epoch 8/10\n",
      "96/96 [==============================] - 22s 226ms/step - loss: 0.2701 - accuracy: 0.9296 - val_loss: 0.5665 - val_accuracy: 0.8152\n",
      "Epoch 9/10\n",
      "96/96 [==============================] - 21s 215ms/step - loss: 0.2412 - accuracy: 0.9404 - val_loss: 0.5422 - val_accuracy: 0.8065\n",
      "Epoch 10/10\n",
      "96/96 [==============================] - 18s 183ms/step - loss: 0.2117 - accuracy: 0.9469 - val_loss: 0.5618 - val_accuracy: 0.8182\n",
      "\n",
      "\n",
      "100\n",
      "Epoch 1/10\n",
      "96/96 [==============================] - 26s 220ms/step - loss: 0.9829 - accuracy: 0.6695 - val_loss: 0.6317 - val_accuracy: 0.7918\n",
      "Epoch 2/10\n",
      "96/96 [==============================] - 19s 201ms/step - loss: 0.5321 - accuracy: 0.8103 - val_loss: 0.5866 - val_accuracy: 0.8006\n",
      "Epoch 3/10\n",
      "96/96 [==============================] - 22s 225ms/step - loss: 0.3685 - accuracy: 0.8774 - val_loss: 0.6165 - val_accuracy: 0.8065\n",
      "Epoch 4/10\n",
      "96/96 [==============================] - 18s 190ms/step - loss: 0.2630 - accuracy: 0.9211 - val_loss: 0.5519 - val_accuracy: 0.8182\n",
      "Epoch 5/10\n",
      "96/96 [==============================] - 17s 180ms/step - loss: 0.1832 - accuracy: 0.9518 - val_loss: 0.5595 - val_accuracy: 0.8094\n",
      "Epoch 6/10\n",
      "96/96 [==============================] - 18s 191ms/step - loss: 0.1384 - accuracy: 0.9661 - val_loss: 0.5609 - val_accuracy: 0.8240\n",
      "Epoch 7/10\n",
      "96/96 [==============================] - 18s 186ms/step - loss: 0.0967 - accuracy: 0.9827 - val_loss: 0.6214 - val_accuracy: 0.8065\n",
      "Epoch 8/10\n",
      "96/96 [==============================] - 18s 188ms/step - loss: 0.0658 - accuracy: 0.9938 - val_loss: 0.6050 - val_accuracy: 0.8182\n",
      "Epoch 9/10\n",
      "96/96 [==============================] - 19s 193ms/step - loss: 0.0463 - accuracy: 0.9964 - val_loss: 0.6035 - val_accuracy: 0.8240\n",
      "Epoch 10/10\n",
      "96/96 [==============================] - 21s 215ms/step - loss: 0.0371 - accuracy: 0.9974 - val_loss: 0.6491 - val_accuracy: 0.8211\n",
      "\n",
      "\n",
      "1000\n",
      "Epoch 1/10\n",
      "96/96 [==============================] - 26s 214ms/step - loss: 0.9103 - accuracy: 0.6975 - val_loss: 0.6600 - val_accuracy: 0.7742\n",
      "Epoch 2/10\n",
      "96/96 [==============================] - 20s 210ms/step - loss: 0.4647 - accuracy: 0.8344 - val_loss: 0.6047 - val_accuracy: 0.8094\n",
      "Epoch 3/10\n",
      "96/96 [==============================] - 21s 215ms/step - loss: 0.2685 - accuracy: 0.9110 - val_loss: 0.6410 - val_accuracy: 0.8123\n",
      "Epoch 4/10\n",
      "96/96 [==============================] - 22s 224ms/step - loss: 0.1657 - accuracy: 0.9469 - val_loss: 0.6248 - val_accuracy: 0.8211\n",
      "Epoch 5/10\n",
      "96/96 [==============================] - 24s 252ms/step - loss: 0.0798 - accuracy: 0.9811 - val_loss: 0.6337 - val_accuracy: 0.8123\n",
      "Epoch 6/10\n",
      "96/96 [==============================] - 24s 248ms/step - loss: 0.0378 - accuracy: 0.9964 - val_loss: 0.6791 - val_accuracy: 0.8094\n",
      "Epoch 7/10\n",
      "96/96 [==============================] - 21s 214ms/step - loss: 0.0178 - accuracy: 0.9990 - val_loss: 0.6444 - val_accuracy: 0.8152\n",
      "Epoch 8/10\n",
      "96/96 [==============================] - 20s 207ms/step - loss: 0.0195 - accuracy: 0.9980 - val_loss: 0.6994 - val_accuracy: 0.8152\n",
      "Epoch 9/10\n",
      "96/96 [==============================] - 18s 189ms/step - loss: 0.0121 - accuracy: 0.9990 - val_loss: 0.6544 - val_accuracy: 0.8240\n",
      "Epoch 10/10\n",
      "96/96 [==============================] - 18s 191ms/step - loss: 0.0063 - accuracy: 0.9997 - val_loss: 0.6815 - val_accuracy: 0.8270\n",
      "\n",
      "\n"
     ]
    }
   ],
   "source": [
    "learning_rate = 0.001\n",
    "\n",
    "scores = {}\n",
    "\n",
    "for size in [10, 100, 1000]:\n",
    "    print(size)\n",
    "\n",
    "    model = make_model(learning_rate=learning_rate, size_inner=size)\n",
    "    history = model.fit(train_ds, epochs=10, validation_data=val_ds)\n",
    "    scores[size] = history.history\n",
    "    \n",
    "    print()\n",
    "    print()"
   ]
  },
  {
   "cell_type": "code",
   "execution_count": 36,
   "id": "d16a4b6a-d3da-45fd-bbda-a9dac97bd0a9",
   "metadata": {
    "scrolled": true
   },
   "outputs": [
    {
     "data": {
      "text/plain": [
       "<matplotlib.legend.Legend at 0x213bfacd220>"
      ]
     },
     "execution_count": 36,
     "metadata": {},
     "output_type": "execute_result"
    },
    {
     "data": {
      "image/png": "[encoded data removed]",
      "text/plain": [
       "<Figure size 640x480 with 1 Axes>"
      ]
     },
     "metadata": {},
     "output_type": "display_data"
    }
   ],
   "source": [
    "for size, hist in scores.items():\n",
    "    #plt.plot(hist['accuracy'], label=('train=%s' % lr))\n",
    "    plt.plot(hist['val_accuracy'], label=('val=%s' % size))\n",
    "\n",
    "plt.xticks(np.arange(10))\n",
    "plt.yticks([0.78, 0.8, 0.81, 0.82, 0.83])\n",
    "plt.legend()"
   ]
  },
  {
   "cell_type": "code",
   "execution_count": 37,
   "id": "1d18f6ad-fdd4-473c-aee7-881a57fdefd3",
   "metadata": {},
   "outputs": [],
   "source": [
    "def make_model(learning_rate=0.01, size_inner=100, droprate=0.2):\n",
    "    base_model = Xception(\n",
    "        weights='imagenet',\n",
    "        include_top=False,\n",
    "        input_shape=(150, 150, 3)\n",
    "    )\n",
    "    base_model.trainable = False\n",
    "\n",
    "    ###########################################\n",
    "    \n",
    "    inputs = keras.Input(shape=(150, 150, 3))\n",
    "    \n",
    "    base = base_model(inputs, training=False)\n",
    "    \n",
    "    vectors = keras.layers.GlobalAveragePooling2D()(base)\n",
    "\n",
    "    inner = keras.layers.Dense(size_inner, activation='relu')(vectors)\n",
    "    \n",
    "    drop = keras.layers.Dropout(droprate)(inner)\n",
    "    \n",
    "    outputs = keras.layers.Dense(10)(drop)\n",
    "    \n",
    "    model = keras.Model(inputs, outputs)\n",
    "\n",
    "    ###########################################\n",
    "\n",
    "    optimizer = keras.optimizers.Adam(learning_rate=learning_rate)\n",
    "\n",
    "    loss = keras.losses.CategoricalCrossentropy(from_logits=True)\n",
    "\n",
    "    model.compile(\n",
    "        optimizer=optimizer,\n",
    "        loss=loss,\n",
    "        metrics=['accuracy']\n",
    "    )\n",
    "\n",
    "    return model"
   ]
  },
  {
   "cell_type": "code",
   "execution_count": 42,
   "id": "a8b43591-8ecf-47fa-9d38-f582e16479b0",
   "metadata": {},
   "outputs": [
    {
     "name": "stdout",
     "output_type": "stream",
     "text": [
      "0.0\n",
      "Epoch 1/30\n",
      "96/96 [==============================] - 25s 205ms/step - loss: 0.9500 - accuracy: 0.6763 - val_loss: 0.6382 - val_accuracy: 0.7859\n",
      "Epoch 2/30\n",
      "96/96 [==============================] - 18s 188ms/step - loss: 0.5039 - accuracy: 0.8233 - val_loss: 0.5490 - val_accuracy: 0.8240\n",
      "Epoch 3/30\n",
      "96/96 [==============================] - 19s 194ms/step - loss: 0.3597 - accuracy: 0.8726 - val_loss: 0.5685 - val_accuracy: 0.8211\n",
      "Epoch 4/30\n",
      "96/96 [==============================] - 20s 206ms/step - loss: 0.2533 - accuracy: 0.9247 - val_loss: 0.5196 - val_accuracy: 0.8240\n",
      "Epoch 5/30\n",
      "96/96 [==============================] - 19s 200ms/step - loss: 0.1681 - accuracy: 0.9619 - val_loss: 0.5710 - val_accuracy: 0.8182\n",
      "Epoch 6/30\n",
      "96/96 [==============================] - 19s 195ms/step - loss: 0.1244 - accuracy: 0.9723 - val_loss: 0.6322 - val_accuracy: 0.8182\n",
      "Epoch 7/30\n",
      "96/96 [==============================] - 18s 190ms/step - loss: 0.0872 - accuracy: 0.9840 - val_loss: 0.6304 - val_accuracy: 0.8152\n",
      "Epoch 8/30\n",
      "96/96 [==============================] - 18s 184ms/step - loss: 0.0636 - accuracy: 0.9915 - val_loss: 0.6063 - val_accuracy: 0.8182\n",
      "Epoch 9/30\n",
      "96/96 [==============================] - 17s 181ms/step - loss: 0.0402 - accuracy: 0.9967 - val_loss: 0.5777 - val_accuracy: 0.8299\n",
      "Epoch 10/30\n",
      "96/96 [==============================] - 19s 196ms/step - loss: 0.0311 - accuracy: 0.9984 - val_loss: 0.6161 - val_accuracy: 0.8152\n",
      "Epoch 11/30\n",
      "96/96 [==============================] - 20s 202ms/step - loss: 0.0226 - accuracy: 0.9990 - val_loss: 0.6173 - val_accuracy: 0.8328\n",
      "Epoch 12/30\n",
      "96/96 [==============================] - 19s 193ms/step - loss: 0.0191 - accuracy: 0.9990 - val_loss: 0.6187 - val_accuracy: 0.8328\n",
      "Epoch 13/30\n",
      "96/96 [==============================] - 8s 84ms/step - loss: 0.0130 - accuracy: 0.9993 - val_loss: 0.6404 - val_accuracy: 0.8328\n",
      "Epoch 14/30\n",
      "96/96 [==============================] - 8s 81ms/step - loss: 0.0166 - accuracy: 0.9987 - val_loss: 0.6262 - val_accuracy: 0.8240\n",
      "Epoch 15/30\n",
      "96/96 [==============================] - 8s 81ms/step - loss: 0.0103 - accuracy: 0.9993 - val_loss: 0.6326 - val_accuracy: 0.8270\n",
      "Epoch 16/30\n",
      "96/96 [==============================] - 8s 81ms/step - loss: 0.0100 - accuracy: 0.9993 - val_loss: 0.6551 - val_accuracy: 0.8211\n",
      "Epoch 17/30\n",
      "96/96 [==============================] - 8s 82ms/step - loss: 0.0076 - accuracy: 0.9997 - val_loss: 0.6729 - val_accuracy: 0.8211\n",
      "Epoch 18/30\n",
      "96/96 [==============================] - 9s 89ms/step - loss: 0.0107 - accuracy: 0.9993 - val_loss: 0.6671 - val_accuracy: 0.8328\n",
      "Epoch 19/30\n",
      "96/96 [==============================] - 14s 142ms/step - loss: 0.0094 - accuracy: 0.9993 - val_loss: 0.6705 - val_accuracy: 0.8270\n",
      "Epoch 20/30\n",
      "96/96 [==============================] - 18s 192ms/step - loss: 0.0094 - accuracy: 0.9990 - val_loss: 0.7012 - val_accuracy: 0.8299\n",
      "Epoch 21/30\n",
      "96/96 [==============================] - 19s 195ms/step - loss: 0.0068 - accuracy: 0.9993 - val_loss: 0.6924 - val_accuracy: 0.8270\n",
      "Epoch 22/30\n",
      "96/96 [==============================] - 19s 196ms/step - loss: 0.0056 - accuracy: 0.9997 - val_loss: 0.7162 - val_accuracy: 0.8270\n",
      "Epoch 23/30\n",
      "96/96 [==============================] - 19s 192ms/step - loss: 0.0099 - accuracy: 0.9990 - val_loss: 0.7098 - val_accuracy: 0.8299\n",
      "Epoch 24/30\n",
      "96/96 [==============================] - 18s 187ms/step - loss: 0.0047 - accuracy: 0.9993 - val_loss: 0.7293 - val_accuracy: 0.8328\n",
      "Epoch 25/30\n",
      "96/96 [==============================] - 19s 193ms/step - loss: 0.0072 - accuracy: 0.9990 - val_loss: 0.7656 - val_accuracy: 0.8328\n",
      "Epoch 26/30\n",
      "96/96 [==============================] - 18s 189ms/step - loss: 0.0066 - accuracy: 0.9987 - val_loss: 0.7613 - val_accuracy: 0.8358\n",
      "Epoch 27/30\n",
      "96/96 [==============================] - 19s 199ms/step - loss: 0.0052 - accuracy: 0.9997 - val_loss: 0.7461 - val_accuracy: 0.8387\n",
      "Epoch 28/30\n",
      "96/96 [==============================] - 19s 200ms/step - loss: 0.0078 - accuracy: 0.9993 - val_loss: 0.7449 - val_accuracy: 0.8328\n",
      "Epoch 29/30\n",
      "96/96 [==============================] - 19s 200ms/step - loss: 0.0049 - accuracy: 0.9990 - val_loss: 0.8086 - val_accuracy: 0.8240\n",
      "Epoch 30/30\n",
      "96/96 [==============================] - 18s 191ms/step - loss: 0.0232 - accuracy: 0.9954 - val_loss: 0.9129 - val_accuracy: 0.8035\n",
      "\n",
      "\n",
      "0.2\n",
      "Epoch 1/30\n",
      "96/96 [==============================] - 10s 87ms/step - loss: 1.0426 - accuracy: 0.6375 - val_loss: 0.6459 - val_accuracy: 0.8006\n",
      "Epoch 2/30\n",
      "96/96 [==============================] - 8s 81ms/step - loss: 0.6035 - accuracy: 0.7907 - val_loss: 0.5793 - val_accuracy: 0.7977\n",
      "Epoch 3/30\n",
      "96/96 [==============================] - 8s 81ms/step - loss: 0.4746 - accuracy: 0.8256 - val_loss: 0.5803 - val_accuracy: 0.8006\n",
      "Epoch 4/30\n",
      "96/96 [==============================] - 8s 79ms/step - loss: 0.3714 - accuracy: 0.8729 - val_loss: 0.5207 - val_accuracy: 0.8123\n",
      "Epoch 5/30\n",
      "96/96 [==============================] - 8s 82ms/step - loss: 0.2872 - accuracy: 0.9094 - val_loss: 0.5732 - val_accuracy: 0.8094\n",
      "Epoch 6/30\n",
      "96/96 [==============================] - 8s 81ms/step - loss: 0.2373 - accuracy: 0.9283 - val_loss: 0.5991 - val_accuracy: 0.8065\n",
      "Epoch 7/30\n",
      "96/96 [==============================] - 8s 81ms/step - loss: 0.1933 - accuracy: 0.9410 - val_loss: 0.5679 - val_accuracy: 0.8152\n",
      "Epoch 8/30\n",
      "96/96 [==============================] - 8s 81ms/step - loss: 0.1538 - accuracy: 0.9550 - val_loss: 0.5645 - val_accuracy: 0.8328\n",
      "Epoch 9/30\n",
      "96/96 [==============================] - 8s 80ms/step - loss: 0.1262 - accuracy: 0.9648 - val_loss: 0.5629 - val_accuracy: 0.8446\n",
      "Epoch 10/30\n",
      "96/96 [==============================] - 8s 81ms/step - loss: 0.0978 - accuracy: 0.9749 - val_loss: 0.5726 - val_accuracy: 0.8358\n",
      "Epoch 11/30\n",
      "96/96 [==============================] - 8s 81ms/step - loss: 0.0810 - accuracy: 0.9798 - val_loss: 0.5597 - val_accuracy: 0.8387\n",
      "Epoch 12/30\n",
      "96/96 [==============================] - 8s 79ms/step - loss: 0.0705 - accuracy: 0.9821 - val_loss: 0.6057 - val_accuracy: 0.8240\n",
      "Epoch 13/30\n",
      "96/96 [==============================] - 8s 80ms/step - loss: 0.0685 - accuracy: 0.9837 - val_loss: 0.5956 - val_accuracy: 0.8299\n",
      "Epoch 14/30\n",
      "96/96 [==============================] - 8s 80ms/step - loss: 0.0590 - accuracy: 0.9863 - val_loss: 0.6121 - val_accuracy: 0.8446\n",
      "Epoch 15/30\n",
      "96/96 [==============================] - 8s 80ms/step - loss: 0.0524 - accuracy: 0.9870 - val_loss: 0.6353 - val_accuracy: 0.8270\n",
      "Epoch 16/30\n",
      "96/96 [==============================] - 8s 80ms/step - loss: 0.0435 - accuracy: 0.9912 - val_loss: 0.6201 - val_accuracy: 0.8563\n",
      "Epoch 17/30\n",
      "96/96 [==============================] - 8s 80ms/step - loss: 0.0313 - accuracy: 0.9948 - val_loss: 0.6374 - val_accuracy: 0.8270\n",
      "Epoch 18/30\n",
      "96/96 [==============================] - 8s 80ms/step - loss: 0.0262 - accuracy: 0.9974 - val_loss: 0.6493 - val_accuracy: 0.8270\n",
      "Epoch 19/30\n",
      "96/96 [==============================] - 8s 81ms/step - loss: 0.0239 - accuracy: 0.9971 - val_loss: 0.6700 - val_accuracy: 0.8446\n",
      "Epoch 20/30\n",
      "96/96 [==============================] - 8s 80ms/step - loss: 0.0260 - accuracy: 0.9961 - val_loss: 0.6799 - val_accuracy: 0.8299\n",
      "Epoch 21/30\n",
      "96/96 [==============================] - 8s 80ms/step - loss: 0.0265 - accuracy: 0.9958 - val_loss: 0.7010 - val_accuracy: 0.8299\n",
      "Epoch 22/30\n",
      "96/96 [==============================] - 8s 81ms/step - loss: 0.0262 - accuracy: 0.9967 - val_loss: 0.6974 - val_accuracy: 0.8299\n",
      "Epoch 23/30\n",
      "96/96 [==============================] - 8s 80ms/step - loss: 0.0202 - accuracy: 0.9964 - val_loss: 0.7310 - val_accuracy: 0.8211\n",
      "Epoch 24/30\n",
      "96/96 [==============================] - 8s 80ms/step - loss: 0.0218 - accuracy: 0.9951 - val_loss: 0.7116 - val_accuracy: 0.8328\n",
      "Epoch 25/30\n",
      "96/96 [==============================] - 8s 80ms/step - loss: 0.0250 - accuracy: 0.9941 - val_loss: 0.7515 - val_accuracy: 0.8065\n",
      "Epoch 26/30\n",
      "96/96 [==============================] - 8s 82ms/step - loss: 0.0232 - accuracy: 0.9954 - val_loss: 0.7884 - val_accuracy: 0.8240\n",
      "Epoch 27/30\n",
      "96/96 [==============================] - 8s 81ms/step - loss: 0.0154 - accuracy: 0.9971 - val_loss: 0.7637 - val_accuracy: 0.8299\n",
      "Epoch 28/30\n",
      "96/96 [==============================] - 8s 81ms/step - loss: 0.0127 - accuracy: 0.9974 - val_loss: 0.8067 - val_accuracy: 0.8240\n",
      "Epoch 29/30\n",
      "96/96 [==============================] - 8s 81ms/step - loss: 0.0180 - accuracy: 0.9961 - val_loss: 0.8206 - val_accuracy: 0.8182\n",
      "Epoch 30/30\n",
      "96/96 [==============================] - 8s 80ms/step - loss: 0.0299 - accuracy: 0.9909 - val_loss: 0.7923 - val_accuracy: 0.8123\n",
      "\n",
      "\n",
      "0.5\n",
      "Epoch 1/30\n",
      "96/96 [==============================] - 10s 86ms/step - loss: 1.2779 - accuracy: 0.5743 - val_loss: 0.7511 - val_accuracy: 0.7595\n",
      "Epoch 2/30\n",
      "96/96 [==============================] - 8s 82ms/step - loss: 0.8375 - accuracy: 0.7171 - val_loss: 0.5993 - val_accuracy: 0.8123\n",
      "Epoch 3/30\n",
      "96/96 [==============================] - 8s 80ms/step - loss: 0.6900 - accuracy: 0.7572 - val_loss: 0.6024 - val_accuracy: 0.8035\n",
      "Epoch 4/30\n",
      "96/96 [==============================] - 8s 81ms/step - loss: 0.5876 - accuracy: 0.8025 - val_loss: 0.5477 - val_accuracy: 0.8182\n",
      "Epoch 5/30\n",
      "96/96 [==============================] - 8s 80ms/step - loss: 0.5086 - accuracy: 0.8149 - val_loss: 0.5176 - val_accuracy: 0.8123\n",
      "Epoch 6/30\n",
      "96/96 [==============================] - 8s 82ms/step - loss: 0.4385 - accuracy: 0.8504 - val_loss: 0.5285 - val_accuracy: 0.8387\n",
      "Epoch 7/30\n",
      "96/96 [==============================] - 8s 81ms/step - loss: 0.3944 - accuracy: 0.8579 - val_loss: 0.5243 - val_accuracy: 0.8240\n",
      "Epoch 8/30\n",
      "96/96 [==============================] - 8s 80ms/step - loss: 0.3447 - accuracy: 0.8804 - val_loss: 0.5422 - val_accuracy: 0.8211\n",
      "Epoch 9/30\n",
      "96/96 [==============================] - 8s 81ms/step - loss: 0.3249 - accuracy: 0.8820 - val_loss: 0.5417 - val_accuracy: 0.8240\n",
      "Epoch 10/30\n",
      "96/96 [==============================] - 8s 80ms/step - loss: 0.2827 - accuracy: 0.9042 - val_loss: 0.5253 - val_accuracy: 0.8182\n",
      "Epoch 11/30\n",
      "96/96 [==============================] - 8s 80ms/step - loss: 0.2540 - accuracy: 0.9143 - val_loss: 0.5466 - val_accuracy: 0.8299\n",
      "Epoch 12/30\n",
      "96/96 [==============================] - 8s 80ms/step - loss: 0.2268 - accuracy: 0.9208 - val_loss: 0.5666 - val_accuracy: 0.8240\n",
      "Epoch 13/30\n",
      "96/96 [==============================] - 8s 81ms/step - loss: 0.2163 - accuracy: 0.9276 - val_loss: 0.5527 - val_accuracy: 0.8328\n",
      "Epoch 14/30\n",
      "96/96 [==============================] - 8s 81ms/step - loss: 0.1976 - accuracy: 0.9299 - val_loss: 0.5909 - val_accuracy: 0.8270\n",
      "Epoch 15/30\n",
      "96/96 [==============================] - 8s 80ms/step - loss: 0.1823 - accuracy: 0.9397 - val_loss: 0.6016 - val_accuracy: 0.8182\n",
      "Epoch 16/30\n",
      "96/96 [==============================] - 8s 82ms/step - loss: 0.1812 - accuracy: 0.9407 - val_loss: 0.6145 - val_accuracy: 0.8094\n",
      "Epoch 17/30\n",
      "96/96 [==============================] - 8s 81ms/step - loss: 0.1543 - accuracy: 0.9492 - val_loss: 0.5884 - val_accuracy: 0.8416\n",
      "Epoch 18/30\n",
      "96/96 [==============================] - 8s 82ms/step - loss: 0.1432 - accuracy: 0.9518 - val_loss: 0.6079 - val_accuracy: 0.8416\n",
      "Epoch 19/30\n",
      "96/96 [==============================] - 8s 80ms/step - loss: 0.1405 - accuracy: 0.9514 - val_loss: 0.6260 - val_accuracy: 0.8387\n",
      "Epoch 20/30\n",
      "96/96 [==============================] - 8s 80ms/step - loss: 0.1157 - accuracy: 0.9622 - val_loss: 0.6219 - val_accuracy: 0.8328\n",
      "Epoch 21/30\n",
      "96/96 [==============================] - 8s 82ms/step - loss: 0.1075 - accuracy: 0.9606 - val_loss: 0.6292 - val_accuracy: 0.8123\n",
      "Epoch 22/30\n",
      "96/96 [==============================] - 8s 81ms/step - loss: 0.1143 - accuracy: 0.9625 - val_loss: 0.6129 - val_accuracy: 0.8328\n",
      "Epoch 23/30\n",
      "96/96 [==============================] - 8s 80ms/step - loss: 0.1103 - accuracy: 0.9628 - val_loss: 0.6598 - val_accuracy: 0.8299\n",
      "Epoch 24/30\n",
      "96/96 [==============================] - 8s 81ms/step - loss: 0.1026 - accuracy: 0.9677 - val_loss: 0.6994 - val_accuracy: 0.8211\n",
      "Epoch 25/30\n",
      "96/96 [==============================] - 8s 80ms/step - loss: 0.1039 - accuracy: 0.9671 - val_loss: 0.6502 - val_accuracy: 0.8240\n",
      "Epoch 26/30\n",
      "96/96 [==============================] - 8s 81ms/step - loss: 0.0872 - accuracy: 0.9707 - val_loss: 0.6570 - val_accuracy: 0.8299\n",
      "Epoch 27/30\n",
      "96/96 [==============================] - 8s 81ms/step - loss: 0.0922 - accuracy: 0.9661 - val_loss: 0.6669 - val_accuracy: 0.8416\n",
      "Epoch 28/30\n",
      "96/96 [==============================] - 8s 80ms/step - loss: 0.0914 - accuracy: 0.9716 - val_loss: 0.6409 - val_accuracy: 0.8270\n",
      "Epoch 29/30\n",
      "96/96 [==============================] - 8s 81ms/step - loss: 0.0869 - accuracy: 0.9700 - val_loss: 0.6812 - val_accuracy: 0.8504\n",
      "Epoch 30/30\n",
      "96/96 [==============================] - 8s 80ms/step - loss: 0.0946 - accuracy: 0.9687 - val_loss: 0.6870 - val_accuracy: 0.8328\n",
      "\n",
      "\n"
     ]
    }
   ],
   "source": [
    "learning_rate = 0.001\n",
    "size = 100\n",
    "scores = {}\n",
    "\n",
    "for droprate in [0.0, 0.2, 0.5]:\n",
    "    print(droprate)\n",
    "\n",
    "    model = make_model(learning_rate=learning_rate, size_inner=size, droprate=droprate)\n",
    "    history = model.fit(train_ds, epochs=30, validation_data=val_ds)\n",
    "    scores[droprate] = history.history\n",
    "    \n",
    "    print()\n",
    "    print()"
   ]
  },
  {
   "cell_type": "code",
   "execution_count": 41,
   "id": "b4422861-b0be-4d60-b6a3-9573ef00122b",
   "metadata": {},
   "outputs": [
    {
     "data": {
      "text/plain": [
       "<matplotlib.legend.Legend at 0x213c5875040>"
      ]
     },
     "execution_count": 41,
     "metadata": {},
     "output_type": "execute_result"
    },
    {
     "data": {
      "image/png": "[encoded data removed]",
      "text/plain": [
       "<Figure size 640x480 with 1 Axes>"
      ]
     },
     "metadata": {},
     "output_type": "display_data"
    }
   ],
   "source": [
    "for droprate, hist in scores.items():\n",
    "    #plt.plot(hist['accuracy'], label=('train=%s' % lr))\n",
    "    plt.plot(hist['val_accuracy'], label=('val=%s' % droprate))\n",
    "\n",
    "plt.xticks(np.arange(10))\n",
    "plt.legend()"
   ]
  },
  {
   "cell_type": "code",
   "execution_count": 43,
   "id": "218579cd-a2e1-41d6-aae0-a5137154de29",
   "metadata": {},
   "outputs": [
    {
     "data": {
      "text/plain": [
       "[<matplotlib.lines.Line2D at 0x213baa5d730>]"
      ]
     },
     "execution_count": 43,
     "metadata": {},
     "output_type": "execute_result"
    },
    {
     "data": {
      "image/png": "[encoded data removed]",
      "text/plain": [
       "<Figure size 640x480 with 1 Axes>"
      ]
     },
     "metadata": {},
     "output_type": "display_data"
    }
   ],
   "source": [
    "hist = scores[0.2]\n",
    "plt.plot(hist['val_accuracy'], label=('val=%s' %droprate))\n",
    "plt.plot(hist['accuracy'], label=('val=%s' %droprate))"
   ]
  },
  {
   "cell_type": "code",
   "execution_count": 44,
   "id": "01d1ea8f-3029-4475-aee0-75047f74b586",
   "metadata": {},
   "outputs": [
    {
     "name": "stdout",
     "output_type": "stream",
     "text": [
      "Found 3068 images belonging to 10 classes.\n",
      "Found 341 images belonging to 10 classes.\n"
     ]
    }
   ],
   "source": [
    "train_gen = ImageDataGenerator(\n",
    "    preprocessing_function=preprocess_input,\n",
    "    shear_range=10.0,\n",
    "    zoom_range=0.1,\n",
    "    vertical_flip=True,\n",
    ")\n",
    "\n",
    "train_ds = train_gen.flow_from_directory(\n",
    "    './clothing-dataset-small/train',\n",
    "    target_size=(150, 150),\n",
    "    batch_size=32\n",
    ")\n",
    "\n",
    "val_gen = ImageDataGenerator(preprocessing_function=preprocess_input)\n",
    "\n",
    "val_ds = val_gen.flow_from_directory(\n",
    "    './clothing-dataset-small/validation',\n",
    "    target_size=(150, 150),\n",
    "    batch_size=32,\n",
    "    shuffle=False\n",
    ")"
   ]
  },
  {
   "cell_type": "code",
   "execution_count": 45,
   "id": "5cb39aa8-33d4-452a-9d6d-a728a9dc05ab",
   "metadata": {},
   "outputs": [
    {
     "name": "stdout",
     "output_type": "stream",
     "text": [
      "Epoch 1/50\n",
      "96/96 [==============================] - 59s 557ms/step - loss: 1.3127 - accuracy: 0.5603 - val_loss: 0.7979 - val_accuracy: 0.7390\n",
      "Epoch 2/50\n",
      "96/96 [==============================] - 49s 506ms/step - loss: 0.8708 - accuracy: 0.7073 - val_loss: 0.7107 - val_accuracy: 0.7625\n",
      "Epoch 3/50\n",
      "96/96 [==============================] - 47s 484ms/step - loss: 0.7960 - accuracy: 0.7262 - val_loss: 0.7201 - val_accuracy: 0.7273\n",
      "Epoch 4/50\n",
      "96/96 [==============================] - 51s 529ms/step - loss: 0.7050 - accuracy: 0.7572 - val_loss: 0.6242 - val_accuracy: 0.7947\n",
      "Epoch 5/50\n",
      "96/96 [==============================] - 48s 497ms/step - loss: 0.6297 - accuracy: 0.7894 - val_loss: 0.6535 - val_accuracy: 0.7654\n",
      "Epoch 6/50\n",
      "96/96 [==============================] - 49s 510ms/step - loss: 0.6057 - accuracy: 0.7894 - val_loss: 0.6430 - val_accuracy: 0.7742\n",
      "Epoch 7/50\n",
      "96/96 [==============================] - 51s 529ms/step - loss: 0.5426 - accuracy: 0.8093 - val_loss: 0.7008 - val_accuracy: 0.7625\n",
      "Epoch 8/50\n",
      "96/96 [==============================] - 48s 497ms/step - loss: 0.5410 - accuracy: 0.8067 - val_loss: 0.6011 - val_accuracy: 0.7977\n",
      "Epoch 9/50\n",
      "96/96 [==============================] - 49s 511ms/step - loss: 0.5030 - accuracy: 0.8357 - val_loss: 0.5835 - val_accuracy: 0.8211\n",
      "Epoch 10/50\n",
      "96/96 [==============================] - 48s 500ms/step - loss: 0.4559 - accuracy: 0.8364 - val_loss: 0.6193 - val_accuracy: 0.8094\n",
      "Epoch 11/50\n",
      "96/96 [==============================] - 47s 489ms/step - loss: 0.4391 - accuracy: 0.8504 - val_loss: 0.5869 - val_accuracy: 0.8065\n",
      "Epoch 12/50\n",
      "96/96 [==============================] - 48s 499ms/step - loss: 0.3910 - accuracy: 0.8657 - val_loss: 0.5941 - val_accuracy: 0.7859\n",
      "Epoch 13/50\n",
      "96/96 [==============================] - 48s 498ms/step - loss: 0.3943 - accuracy: 0.8654 - val_loss: 0.6239 - val_accuracy: 0.8006\n",
      "Epoch 14/50\n",
      "96/96 [==============================] - 48s 504ms/step - loss: 0.3802 - accuracy: 0.8703 - val_loss: 0.5956 - val_accuracy: 0.8006\n",
      "Epoch 15/50\n",
      "96/96 [==============================] - 44s 460ms/step - loss: 0.3588 - accuracy: 0.8765 - val_loss: 0.6368 - val_accuracy: 0.7947\n",
      "Epoch 16/50\n",
      " 6/96 [>.............................] - ETA: 40s - loss: 0.3487 - accuracy: 0.9062"
     ]
    },
    {
     "ename": "KeyboardInterrupt",
     "evalue": "",
     "output_type": "error",
     "traceback": [
      "\u001b[1;31m---------------------------------------------------------------------------\u001b[0m",
      "\u001b[1;31mKeyboardInterrupt\u001b[0m                         Traceback (most recent call last)",
      "Cell \u001b[1;32mIn[45], line 11\u001b[0m\n\u001b[0;32m      4\u001b[0m droprate\u001b[38;5;241m=\u001b[39m\u001b[38;5;241m0.2\u001b[39m\n\u001b[0;32m      6\u001b[0m model \u001b[38;5;241m=\u001b[39m make_model(\n\u001b[0;32m      7\u001b[0m     learning_rate\u001b[38;5;241m=\u001b[39mlearning_rate,\n\u001b[0;32m      8\u001b[0m     size_inner\u001b[38;5;241m=\u001b[39msize, \n\u001b[0;32m      9\u001b[0m     droprate\u001b[38;5;241m=\u001b[39mdroprate\n\u001b[0;32m     10\u001b[0m )\n\u001b[1;32m---> 11\u001b[0m history \u001b[38;5;241m=\u001b[39m \u001b[43mmodel\u001b[49m\u001b[38;5;241;43m.\u001b[39;49m\u001b[43mfit\u001b[49m\u001b[43m(\u001b[49m\u001b[43mtrain_ds\u001b[49m\u001b[43m,\u001b[49m\u001b[43m \u001b[49m\u001b[43mepochs\u001b[49m\u001b[38;5;241;43m=\u001b[39;49m\u001b[38;5;241;43m50\u001b[39;49m\u001b[43m,\u001b[49m\u001b[43m \u001b[49m\u001b[43mvalidation_data\u001b[49m\u001b[38;5;241;43m=\u001b[39;49m\u001b[43mval_ds\u001b[49m\u001b[43m)\u001b[49m\n",
      "File \u001b[1;32m~\\anaconda3\\Anaconda3\\lib\\site-packages\\keras\\utils\\traceback_utils.py:65\u001b[0m, in \u001b[0;36mfilter_traceback.<locals>.error_handler\u001b[1;34m(*args, **kwargs)\u001b[0m\n\u001b[0;32m     63\u001b[0m filtered_tb \u001b[38;5;241m=\u001b[39m \u001b[38;5;28;01mNone\u001b[39;00m\n\u001b[0;32m     64\u001b[0m \u001b[38;5;28;01mtry\u001b[39;00m:\n\u001b[1;32m---> 65\u001b[0m     \u001b[38;5;28;01mreturn\u001b[39;00m fn(\u001b[38;5;241m*\u001b[39margs, \u001b[38;5;241m*\u001b[39m\u001b[38;5;241m*\u001b[39mkwargs)\n\u001b[0;32m     66\u001b[0m \u001b[38;5;28;01mexcept\u001b[39;00m \u001b[38;5;167;01mException\u001b[39;00m \u001b[38;5;28;01mas\u001b[39;00m e:\n\u001b[0;32m     67\u001b[0m     filtered_tb \u001b[38;5;241m=\u001b[39m _process_traceback_frames(e\u001b[38;5;241m.\u001b[39m__traceback__)\n",
      "File \u001b[1;32m~\\anaconda3\\Anaconda3\\lib\\site-packages\\keras\\engine\\training.py:1564\u001b[0m, in \u001b[0;36mModel.fit\u001b[1;34m(self, x, y, batch_size, epochs, verbose, callbacks, validation_split, validation_data, shuffle, class_weight, sample_weight, initial_epoch, steps_per_epoch, validation_steps, validation_batch_size, validation_freq, max_queue_size, workers, use_multiprocessing)\u001b[0m\n\u001b[0;32m   1556\u001b[0m \u001b[38;5;28;01mwith\u001b[39;00m tf\u001b[38;5;241m.\u001b[39mprofiler\u001b[38;5;241m.\u001b[39mexperimental\u001b[38;5;241m.\u001b[39mTrace(\n\u001b[0;32m   1557\u001b[0m     \u001b[38;5;124m\"\u001b[39m\u001b[38;5;124mtrain\u001b[39m\u001b[38;5;124m\"\u001b[39m,\n\u001b[0;32m   1558\u001b[0m     epoch_num\u001b[38;5;241m=\u001b[39mepoch,\n\u001b[1;32m   (...)\u001b[0m\n\u001b[0;32m   1561\u001b[0m     _r\u001b[38;5;241m=\u001b[39m\u001b[38;5;241m1\u001b[39m,\n\u001b[0;32m   1562\u001b[0m ):\n\u001b[0;32m   1563\u001b[0m     callbacks\u001b[38;5;241m.\u001b[39mon_train_batch_begin(step)\n\u001b[1;32m-> 1564\u001b[0m     tmp_logs \u001b[38;5;241m=\u001b[39m \u001b[38;5;28;43mself\u001b[39;49m\u001b[38;5;241;43m.\u001b[39;49m\u001b[43mtrain_function\u001b[49m\u001b[43m(\u001b[49m\u001b[43miterator\u001b[49m\u001b[43m)\u001b[49m\n\u001b[0;32m   1565\u001b[0m     \u001b[38;5;28;01mif\u001b[39;00m data_handler\u001b[38;5;241m.\u001b[39mshould_sync:\n\u001b[0;32m   1566\u001b[0m         context\u001b[38;5;241m.\u001b[39masync_wait()\n",
      "File \u001b[1;32m~\\anaconda3\\Anaconda3\\lib\\site-packages\\tensorflow\\python\\util\\traceback_utils.py:150\u001b[0m, in \u001b[0;36mfilter_traceback.<locals>.error_handler\u001b[1;34m(*args, **kwargs)\u001b[0m\n\u001b[0;32m    148\u001b[0m filtered_tb \u001b[38;5;241m=\u001b[39m \u001b[38;5;28;01mNone\u001b[39;00m\n\u001b[0;32m    149\u001b[0m \u001b[38;5;28;01mtry\u001b[39;00m:\n\u001b[1;32m--> 150\u001b[0m   \u001b[38;5;28;01mreturn\u001b[39;00m fn(\u001b[38;5;241m*\u001b[39margs, \u001b[38;5;241m*\u001b[39m\u001b[38;5;241m*\u001b[39mkwargs)\n\u001b[0;32m    151\u001b[0m \u001b[38;5;28;01mexcept\u001b[39;00m \u001b[38;5;167;01mException\u001b[39;00m \u001b[38;5;28;01mas\u001b[39;00m e:\n\u001b[0;32m    152\u001b[0m   filtered_tb \u001b[38;5;241m=\u001b[39m _process_traceback_frames(e\u001b[38;5;241m.\u001b[39m__traceback__)\n",
      "File \u001b[1;32m~\\anaconda3\\Anaconda3\\lib\\site-packages\\tensorflow\\python\\eager\\def_function.py:915\u001b[0m, in \u001b[0;36mFunction.__call__\u001b[1;34m(self, *args, **kwds)\u001b[0m\n\u001b[0;32m    912\u001b[0m compiler \u001b[38;5;241m=\u001b[39m \u001b[38;5;124m\"\u001b[39m\u001b[38;5;124mxla\u001b[39m\u001b[38;5;124m\"\u001b[39m \u001b[38;5;28;01mif\u001b[39;00m \u001b[38;5;28mself\u001b[39m\u001b[38;5;241m.\u001b[39m_jit_compile \u001b[38;5;28;01melse\u001b[39;00m \u001b[38;5;124m\"\u001b[39m\u001b[38;5;124mnonXla\u001b[39m\u001b[38;5;124m\"\u001b[39m\n\u001b[0;32m    914\u001b[0m \u001b[38;5;28;01mwith\u001b[39;00m OptionalXlaContext(\u001b[38;5;28mself\u001b[39m\u001b[38;5;241m.\u001b[39m_jit_compile):\n\u001b[1;32m--> 915\u001b[0m   result \u001b[38;5;241m=\u001b[39m \u001b[38;5;28mself\u001b[39m\u001b[38;5;241m.\u001b[39m_call(\u001b[38;5;241m*\u001b[39margs, \u001b[38;5;241m*\u001b[39m\u001b[38;5;241m*\u001b[39mkwds)\n\u001b[0;32m    917\u001b[0m new_tracing_count \u001b[38;5;241m=\u001b[39m \u001b[38;5;28mself\u001b[39m\u001b[38;5;241m.\u001b[39mexperimental_get_tracing_count()\n\u001b[0;32m    918\u001b[0m without_tracing \u001b[38;5;241m=\u001b[39m (tracing_count \u001b[38;5;241m==\u001b[39m new_tracing_count)\n",
      "File \u001b[1;32m~\\anaconda3\\Anaconda3\\lib\\site-packages\\tensorflow\\python\\eager\\def_function.py:947\u001b[0m, in \u001b[0;36mFunction._call\u001b[1;34m(self, *args, **kwds)\u001b[0m\n\u001b[0;32m    944\u001b[0m   \u001b[38;5;28mself\u001b[39m\u001b[38;5;241m.\u001b[39m_lock\u001b[38;5;241m.\u001b[39mrelease()\n\u001b[0;32m    945\u001b[0m   \u001b[38;5;66;03m# In this case we have created variables on the first call, so we run the\u001b[39;00m\n\u001b[0;32m    946\u001b[0m   \u001b[38;5;66;03m# defunned version which is guaranteed to never create variables.\u001b[39;00m\n\u001b[1;32m--> 947\u001b[0m   \u001b[38;5;28;01mreturn\u001b[39;00m \u001b[38;5;28mself\u001b[39m\u001b[38;5;241m.\u001b[39m_stateless_fn(\u001b[38;5;241m*\u001b[39margs, \u001b[38;5;241m*\u001b[39m\u001b[38;5;241m*\u001b[39mkwds)  \u001b[38;5;66;03m# pylint: disable=not-callable\u001b[39;00m\n\u001b[0;32m    948\u001b[0m \u001b[38;5;28;01melif\u001b[39;00m \u001b[38;5;28mself\u001b[39m\u001b[38;5;241m.\u001b[39m_stateful_fn \u001b[38;5;129;01mis\u001b[39;00m \u001b[38;5;129;01mnot\u001b[39;00m \u001b[38;5;28;01mNone\u001b[39;00m:\n\u001b[0;32m    949\u001b[0m   \u001b[38;5;66;03m# Release the lock early so that multiple threads can perform the call\u001b[39;00m\n\u001b[0;32m    950\u001b[0m   \u001b[38;5;66;03m# in parallel.\u001b[39;00m\n\u001b[0;32m    951\u001b[0m   \u001b[38;5;28mself\u001b[39m\u001b[38;5;241m.\u001b[39m_lock\u001b[38;5;241m.\u001b[39mrelease()\n",
      "File \u001b[1;32m~\\anaconda3\\Anaconda3\\lib\\site-packages\\tensorflow\\python\\eager\\function.py:2496\u001b[0m, in \u001b[0;36mFunction.__call__\u001b[1;34m(self, *args, **kwargs)\u001b[0m\n\u001b[0;32m   2493\u001b[0m \u001b[38;5;28;01mwith\u001b[39;00m \u001b[38;5;28mself\u001b[39m\u001b[38;5;241m.\u001b[39m_lock:\n\u001b[0;32m   2494\u001b[0m   (graph_function,\n\u001b[0;32m   2495\u001b[0m    filtered_flat_args) \u001b[38;5;241m=\u001b[39m \u001b[38;5;28mself\u001b[39m\u001b[38;5;241m.\u001b[39m_maybe_define_function(args, kwargs)\n\u001b[1;32m-> 2496\u001b[0m \u001b[38;5;28;01mreturn\u001b[39;00m \u001b[43mgraph_function\u001b[49m\u001b[38;5;241;43m.\u001b[39;49m\u001b[43m_call_flat\u001b[49m\u001b[43m(\u001b[49m\n\u001b[0;32m   2497\u001b[0m \u001b[43m    \u001b[49m\u001b[43mfiltered_flat_args\u001b[49m\u001b[43m,\u001b[49m\u001b[43m \u001b[49m\u001b[43mcaptured_inputs\u001b[49m\u001b[38;5;241;43m=\u001b[39;49m\u001b[43mgraph_function\u001b[49m\u001b[38;5;241;43m.\u001b[39;49m\u001b[43mcaptured_inputs\u001b[49m\u001b[43m)\u001b[49m\n",
      "File \u001b[1;32m~\\anaconda3\\Anaconda3\\lib\\site-packages\\tensorflow\\python\\eager\\function.py:1862\u001b[0m, in \u001b[0;36mConcreteFunction._call_flat\u001b[1;34m(self, args, captured_inputs, cancellation_manager)\u001b[0m\n\u001b[0;32m   1858\u001b[0m possible_gradient_type \u001b[38;5;241m=\u001b[39m gradients_util\u001b[38;5;241m.\u001b[39mPossibleTapeGradientTypes(args)\n\u001b[0;32m   1859\u001b[0m \u001b[38;5;28;01mif\u001b[39;00m (possible_gradient_type \u001b[38;5;241m==\u001b[39m gradients_util\u001b[38;5;241m.\u001b[39mPOSSIBLE_GRADIENT_TYPES_NONE\n\u001b[0;32m   1860\u001b[0m     \u001b[38;5;129;01mand\u001b[39;00m executing_eagerly):\n\u001b[0;32m   1861\u001b[0m   \u001b[38;5;66;03m# No tape is watching; skip to running the function.\u001b[39;00m\n\u001b[1;32m-> 1862\u001b[0m   \u001b[38;5;28;01mreturn\u001b[39;00m \u001b[38;5;28mself\u001b[39m\u001b[38;5;241m.\u001b[39m_build_call_outputs(\u001b[38;5;28;43mself\u001b[39;49m\u001b[38;5;241;43m.\u001b[39;49m\u001b[43m_inference_function\u001b[49m\u001b[38;5;241;43m.\u001b[39;49m\u001b[43mcall\u001b[49m\u001b[43m(\u001b[49m\n\u001b[0;32m   1863\u001b[0m \u001b[43m      \u001b[49m\u001b[43mctx\u001b[49m\u001b[43m,\u001b[49m\u001b[43m \u001b[49m\u001b[43margs\u001b[49m\u001b[43m,\u001b[49m\u001b[43m \u001b[49m\u001b[43mcancellation_manager\u001b[49m\u001b[38;5;241;43m=\u001b[39;49m\u001b[43mcancellation_manager\u001b[49m\u001b[43m)\u001b[49m)\n\u001b[0;32m   1864\u001b[0m forward_backward \u001b[38;5;241m=\u001b[39m \u001b[38;5;28mself\u001b[39m\u001b[38;5;241m.\u001b[39m_select_forward_and_backward_functions(\n\u001b[0;32m   1865\u001b[0m     args,\n\u001b[0;32m   1866\u001b[0m     possible_gradient_type,\n\u001b[0;32m   1867\u001b[0m     executing_eagerly)\n\u001b[0;32m   1868\u001b[0m forward_function, args_with_tangents \u001b[38;5;241m=\u001b[39m forward_backward\u001b[38;5;241m.\u001b[39mforward()\n",
      "File \u001b[1;32m~\\anaconda3\\Anaconda3\\lib\\site-packages\\tensorflow\\python\\eager\\function.py:499\u001b[0m, in \u001b[0;36m_EagerDefinedFunction.call\u001b[1;34m(self, ctx, args, cancellation_manager)\u001b[0m\n\u001b[0;32m    497\u001b[0m \u001b[38;5;28;01mwith\u001b[39;00m _InterpolateFunctionError(\u001b[38;5;28mself\u001b[39m):\n\u001b[0;32m    498\u001b[0m   \u001b[38;5;28;01mif\u001b[39;00m cancellation_manager \u001b[38;5;129;01mis\u001b[39;00m \u001b[38;5;28;01mNone\u001b[39;00m:\n\u001b[1;32m--> 499\u001b[0m     outputs \u001b[38;5;241m=\u001b[39m \u001b[43mexecute\u001b[49m\u001b[38;5;241;43m.\u001b[39;49m\u001b[43mexecute\u001b[49m\u001b[43m(\u001b[49m\n\u001b[0;32m    500\u001b[0m \u001b[43m        \u001b[49m\u001b[38;5;28;43mstr\u001b[39;49m\u001b[43m(\u001b[49m\u001b[38;5;28;43mself\u001b[39;49m\u001b[38;5;241;43m.\u001b[39;49m\u001b[43msignature\u001b[49m\u001b[38;5;241;43m.\u001b[39;49m\u001b[43mname\u001b[49m\u001b[43m)\u001b[49m\u001b[43m,\u001b[49m\n\u001b[0;32m    501\u001b[0m \u001b[43m        \u001b[49m\u001b[43mnum_outputs\u001b[49m\u001b[38;5;241;43m=\u001b[39;49m\u001b[38;5;28;43mself\u001b[39;49m\u001b[38;5;241;43m.\u001b[39;49m\u001b[43m_num_outputs\u001b[49m\u001b[43m,\u001b[49m\n\u001b[0;32m    502\u001b[0m \u001b[43m        \u001b[49m\u001b[43minputs\u001b[49m\u001b[38;5;241;43m=\u001b[39;49m\u001b[43margs\u001b[49m\u001b[43m,\u001b[49m\n\u001b[0;32m    503\u001b[0m \u001b[43m        \u001b[49m\u001b[43mattrs\u001b[49m\u001b[38;5;241;43m=\u001b[39;49m\u001b[43mattrs\u001b[49m\u001b[43m,\u001b[49m\n\u001b[0;32m    504\u001b[0m \u001b[43m        \u001b[49m\u001b[43mctx\u001b[49m\u001b[38;5;241;43m=\u001b[39;49m\u001b[43mctx\u001b[49m\u001b[43m)\u001b[49m\n\u001b[0;32m    505\u001b[0m   \u001b[38;5;28;01melse\u001b[39;00m:\n\u001b[0;32m    506\u001b[0m     outputs \u001b[38;5;241m=\u001b[39m execute\u001b[38;5;241m.\u001b[39mexecute_with_cancellation(\n\u001b[0;32m    507\u001b[0m         \u001b[38;5;28mstr\u001b[39m(\u001b[38;5;28mself\u001b[39m\u001b[38;5;241m.\u001b[39msignature\u001b[38;5;241m.\u001b[39mname),\n\u001b[0;32m    508\u001b[0m         num_outputs\u001b[38;5;241m=\u001b[39m\u001b[38;5;28mself\u001b[39m\u001b[38;5;241m.\u001b[39m_num_outputs,\n\u001b[1;32m   (...)\u001b[0m\n\u001b[0;32m    511\u001b[0m         ctx\u001b[38;5;241m=\u001b[39mctx,\n\u001b[0;32m    512\u001b[0m         cancellation_manager\u001b[38;5;241m=\u001b[39mcancellation_manager)\n",
      "File \u001b[1;32m~\\anaconda3\\Anaconda3\\lib\\site-packages\\tensorflow\\python\\eager\\execute.py:54\u001b[0m, in \u001b[0;36mquick_execute\u001b[1;34m(op_name, num_outputs, inputs, attrs, ctx, name)\u001b[0m\n\u001b[0;32m     52\u001b[0m \u001b[38;5;28;01mtry\u001b[39;00m:\n\u001b[0;32m     53\u001b[0m   ctx\u001b[38;5;241m.\u001b[39mensure_initialized()\n\u001b[1;32m---> 54\u001b[0m   tensors \u001b[38;5;241m=\u001b[39m \u001b[43mpywrap_tfe\u001b[49m\u001b[38;5;241;43m.\u001b[39;49m\u001b[43mTFE_Py_Execute\u001b[49m\u001b[43m(\u001b[49m\u001b[43mctx\u001b[49m\u001b[38;5;241;43m.\u001b[39;49m\u001b[43m_handle\u001b[49m\u001b[43m,\u001b[49m\u001b[43m \u001b[49m\u001b[43mdevice_name\u001b[49m\u001b[43m,\u001b[49m\u001b[43m \u001b[49m\u001b[43mop_name\u001b[49m\u001b[43m,\u001b[49m\n\u001b[0;32m     55\u001b[0m \u001b[43m                                      \u001b[49m\u001b[43minputs\u001b[49m\u001b[43m,\u001b[49m\u001b[43m \u001b[49m\u001b[43mattrs\u001b[49m\u001b[43m,\u001b[49m\u001b[43m \u001b[49m\u001b[43mnum_outputs\u001b[49m\u001b[43m)\u001b[49m\n\u001b[0;32m     56\u001b[0m \u001b[38;5;28;01mexcept\u001b[39;00m core\u001b[38;5;241m.\u001b[39m_NotOkStatusException \u001b[38;5;28;01mas\u001b[39;00m e:\n\u001b[0;32m     57\u001b[0m   \u001b[38;5;28;01mif\u001b[39;00m name \u001b[38;5;129;01mis\u001b[39;00m \u001b[38;5;129;01mnot\u001b[39;00m \u001b[38;5;28;01mNone\u001b[39;00m:\n",
      "\u001b[1;31mKeyboardInterrupt\u001b[0m: "
     ]
    }
   ],
   "source": [
    "learning_rate = 0.001\n",
    "size = 100\n",
    "droprate=0.2\n",
    "\n",
    "model = make_model(\n",
    "    learning_rate=learning_rate,\n",
    "    size_inner=size, \n",
    "    droprate=droprate\n",
    ")\n",
    "history = model.fit(train_ds, epochs=50, validation_data=val_ds)"
   ]
  },
  {
   "cell_type": "code",
   "execution_count": 46,
   "id": "3f8e4437-5526-4169-ab17-ae0e535726c5",
   "metadata": {},
   "outputs": [
    {
     "data": {
      "text/plain": [
       "<matplotlib.legend.Legend at 0x2123f9e5160>"
      ]
     },
     "execution_count": 46,
     "metadata": {},
     "output_type": "execute_result"
    },
    {
     "data": {
      "image/png": "[encoded data removed]",
      "text/plain": [
       "<Figure size 640x480 with 1 Axes>"
      ]
     },
     "metadata": {},
     "output_type": "display_data"
    }
   ],
   "source": [
    "hist = history.history\n",
    "plt.plot(hist['val_accuracy'], label='val')\n",
    "plt.plot(hist['accuracy'], label='train')\n",
    "\n",
    "plt.legend()"
   ]
  },
  {
   "cell_type": "code",
   "execution_count": 20,
   "id": "fa081f28-cd77-4527-b751-792500929cfc",
   "metadata": {},
   "outputs": [],
   "source": [
    "def make_model(input_size=150, learning_rate=0.01, size_inner=100,\n",
    "               droprate=0.5):\n",
    "\n",
    "    base_model = Xception(\n",
    "        weights='imagenet',\n",
    "        include_top=False,\n",
    "        input_shape=(input_size, input_size, 3)\n",
    "    )\n",
    "\n",
    "    base_model.trainable = False\n",
    "\n",
    "    #########################################\n",
    "\n",
    "    inputs = keras.Input(shape=(input_size, input_size, 3))\n",
    "    base = base_model(inputs, training=False)\n",
    "    vectors = keras.layers.GlobalAveragePooling2D()(base)\n",
    "    \n",
    "    inner = keras.layers.Dense(size_inner, activation='relu')(vectors)\n",
    "    drop = keras.layers.Dropout(droprate)(inner)\n",
    "    \n",
    "    outputs = keras.layers.Dense(10)(drop)\n",
    "    \n",
    "    model = keras.Model(inputs, outputs)\n",
    "    \n",
    "    #########################################\n",
    "\n",
    "    optimizer = keras.optimizers.Adam(learning_rate=learning_rate)\n",
    "    loss = keras.losses.CategoricalCrossentropy(from_logits=True)\n",
    "\n",
    "    model.compile(\n",
    "        optimizer=optimizer,\n",
    "        loss=loss,\n",
    "        metrics=['accuracy']\n",
    "    )\n",
    "    \n",
    "    return model"
   ]
  },
  {
   "cell_type": "code",
   "execution_count": 21,
   "id": "e82c7180-167b-4d56-a65f-5e79448e8373",
   "metadata": {},
   "outputs": [],
   "source": [
    "input_size = 299"
   ]
  },
  {
   "cell_type": "code",
   "execution_count": 22,
   "id": "9e17db9f-f654-40c1-bd4c-3e6144a29be1",
   "metadata": {},
   "outputs": [
    {
     "name": "stdout",
     "output_type": "stream",
     "text": [
      "Found 3068 images belonging to 10 classes.\n",
      "Found 341 images belonging to 10 classes.\n"
     ]
    }
   ],
   "source": [
    "train_gen = ImageDataGenerator(\n",
    "    preprocessing_function=preprocess_input,\n",
    "    shear_range=10,\n",
    "    zoom_range=0.1,\n",
    "    horizontal_flip=True\n",
    ")\n",
    "\n",
    "train_ds = train_gen.flow_from_directory(\n",
    "    './clothing-dataset-small/train',\n",
    "    target_size=(input_size, input_size),\n",
    "    batch_size=32\n",
    ")\n",
    "\n",
    "\n",
    "val_gen = ImageDataGenerator(preprocessing_function=preprocess_input)\n",
    "\n",
    "val_ds = val_gen.flow_from_directory(\n",
    "    './clothing-dataset-small/validation',\n",
    "    target_size=(input_size, input_size),\n",
    "    batch_size=32,\n",
    "    shuffle=False\n",
    ")"
   ]
  },
  {
   "cell_type": "code",
   "execution_count": 23,
   "id": "b5807dd2-6224-4069-a059-b4f8205c3f29",
   "metadata": {},
   "outputs": [],
   "source": [
    "checkpoint = keras.callbacks.ModelCheckpoint(\n",
    "    'xception_v4_1_{epoch:02d}_{val_accuracy:.3f}.h5',\n",
    "    save_best_only=True,\n",
    "    monitor='val_accuracy',\n",
    "    mode='max'\n",
    ")"
   ]
  },
  {
   "cell_type": "code",
   "execution_count": 24,
   "id": "d89fa491-1614-439c-b32f-cffcc2bd7580",
   "metadata": {},
   "outputs": [
    {
     "name": "stdout",
     "output_type": "stream",
     "text": [
      "Epoch 1/50\n",
      "10/96 [==>...........................] - ETA: 1:14 - loss: 2.0047 - accuracy: 0.3063"
     ]
    },
    {
     "ename": "KeyboardInterrupt",
     "evalue": "",
     "output_type": "error",
     "traceback": [
      "\u001b[1;31m---------------------------------------------------------------------------\u001b[0m",
      "\u001b[1;31mKeyboardInterrupt\u001b[0m                         Traceback (most recent call last)",
      "Cell \u001b[1;32mIn[24], line 12\u001b[0m\n\u001b[0;32m      3\u001b[0m droprate \u001b[38;5;241m=\u001b[39m \u001b[38;5;241m0.2\u001b[39m\n\u001b[0;32m      5\u001b[0m model \u001b[38;5;241m=\u001b[39m make_model(\n\u001b[0;32m      6\u001b[0m     input_size\u001b[38;5;241m=\u001b[39minput_size,\n\u001b[0;32m      7\u001b[0m     learning_rate\u001b[38;5;241m=\u001b[39mlearning_rate,\n\u001b[0;32m      8\u001b[0m     size_inner\u001b[38;5;241m=\u001b[39msize,\n\u001b[0;32m      9\u001b[0m     droprate\u001b[38;5;241m=\u001b[39mdroprate\n\u001b[0;32m     10\u001b[0m )\n\u001b[1;32m---> 12\u001b[0m history \u001b[38;5;241m=\u001b[39m \u001b[43mmodel\u001b[49m\u001b[38;5;241;43m.\u001b[39;49m\u001b[43mfit\u001b[49m\u001b[43m(\u001b[49m\u001b[43mtrain_ds\u001b[49m\u001b[43m,\u001b[49m\u001b[43m \u001b[49m\u001b[43mepochs\u001b[49m\u001b[38;5;241;43m=\u001b[39;49m\u001b[38;5;241;43m50\u001b[39;49m\u001b[43m,\u001b[49m\u001b[43m \u001b[49m\u001b[43mvalidation_data\u001b[49m\u001b[38;5;241;43m=\u001b[39;49m\u001b[43mval_ds\u001b[49m\u001b[43m,\u001b[49m\n\u001b[0;32m     13\u001b[0m \u001b[43m                   \u001b[49m\u001b[43mcallbacks\u001b[49m\u001b[38;5;241;43m=\u001b[39;49m\u001b[43m[\u001b[49m\u001b[43mcheckpoint\u001b[49m\u001b[43m]\u001b[49m\u001b[43m)\u001b[49m\n",
      "File \u001b[1;32m~\\anaconda3\\Anaconda3\\lib\\site-packages\\keras\\utils\\traceback_utils.py:65\u001b[0m, in \u001b[0;36mfilter_traceback.<locals>.error_handler\u001b[1;34m(*args, **kwargs)\u001b[0m\n\u001b[0;32m     63\u001b[0m filtered_tb \u001b[38;5;241m=\u001b[39m \u001b[38;5;28;01mNone\u001b[39;00m\n\u001b[0;32m     64\u001b[0m \u001b[38;5;28;01mtry\u001b[39;00m:\n\u001b[1;32m---> 65\u001b[0m     \u001b[38;5;28;01mreturn\u001b[39;00m fn(\u001b[38;5;241m*\u001b[39margs, \u001b[38;5;241m*\u001b[39m\u001b[38;5;241m*\u001b[39mkwargs)\n\u001b[0;32m     66\u001b[0m \u001b[38;5;28;01mexcept\u001b[39;00m \u001b[38;5;167;01mException\u001b[39;00m \u001b[38;5;28;01mas\u001b[39;00m e:\n\u001b[0;32m     67\u001b[0m     filtered_tb \u001b[38;5;241m=\u001b[39m _process_traceback_frames(e\u001b[38;5;241m.\u001b[39m__traceback__)\n",
      "File \u001b[1;32m~\\anaconda3\\Anaconda3\\lib\\site-packages\\keras\\engine\\training.py:1564\u001b[0m, in \u001b[0;36mModel.fit\u001b[1;34m(self, x, y, batch_size, epochs, verbose, callbacks, validation_split, validation_data, shuffle, class_weight, sample_weight, initial_epoch, steps_per_epoch, validation_steps, validation_batch_size, validation_freq, max_queue_size, workers, use_multiprocessing)\u001b[0m\n\u001b[0;32m   1556\u001b[0m \u001b[38;5;28;01mwith\u001b[39;00m tf\u001b[38;5;241m.\u001b[39mprofiler\u001b[38;5;241m.\u001b[39mexperimental\u001b[38;5;241m.\u001b[39mTrace(\n\u001b[0;32m   1557\u001b[0m     \u001b[38;5;124m\"\u001b[39m\u001b[38;5;124mtrain\u001b[39m\u001b[38;5;124m\"\u001b[39m,\n\u001b[0;32m   1558\u001b[0m     epoch_num\u001b[38;5;241m=\u001b[39mepoch,\n\u001b[1;32m   (...)\u001b[0m\n\u001b[0;32m   1561\u001b[0m     _r\u001b[38;5;241m=\u001b[39m\u001b[38;5;241m1\u001b[39m,\n\u001b[0;32m   1562\u001b[0m ):\n\u001b[0;32m   1563\u001b[0m     callbacks\u001b[38;5;241m.\u001b[39mon_train_batch_begin(step)\n\u001b[1;32m-> 1564\u001b[0m     tmp_logs \u001b[38;5;241m=\u001b[39m \u001b[38;5;28;43mself\u001b[39;49m\u001b[38;5;241;43m.\u001b[39;49m\u001b[43mtrain_function\u001b[49m\u001b[43m(\u001b[49m\u001b[43miterator\u001b[49m\u001b[43m)\u001b[49m\n\u001b[0;32m   1565\u001b[0m     \u001b[38;5;28;01mif\u001b[39;00m data_handler\u001b[38;5;241m.\u001b[39mshould_sync:\n\u001b[0;32m   1566\u001b[0m         context\u001b[38;5;241m.\u001b[39masync_wait()\n",
      "File \u001b[1;32m~\\anaconda3\\Anaconda3\\lib\\site-packages\\tensorflow\\python\\util\\traceback_utils.py:150\u001b[0m, in \u001b[0;36mfilter_traceback.<locals>.error_handler\u001b[1;34m(*args, **kwargs)\u001b[0m\n\u001b[0;32m    148\u001b[0m filtered_tb \u001b[38;5;241m=\u001b[39m \u001b[38;5;28;01mNone\u001b[39;00m\n\u001b[0;32m    149\u001b[0m \u001b[38;5;28;01mtry\u001b[39;00m:\n\u001b[1;32m--> 150\u001b[0m   \u001b[38;5;28;01mreturn\u001b[39;00m fn(\u001b[38;5;241m*\u001b[39margs, \u001b[38;5;241m*\u001b[39m\u001b[38;5;241m*\u001b[39mkwargs)\n\u001b[0;32m    151\u001b[0m \u001b[38;5;28;01mexcept\u001b[39;00m \u001b[38;5;167;01mException\u001b[39;00m \u001b[38;5;28;01mas\u001b[39;00m e:\n\u001b[0;32m    152\u001b[0m   filtered_tb \u001b[38;5;241m=\u001b[39m _process_traceback_frames(e\u001b[38;5;241m.\u001b[39m__traceback__)\n",
      "File \u001b[1;32m~\\anaconda3\\Anaconda3\\lib\\site-packages\\tensorflow\\python\\eager\\def_function.py:915\u001b[0m, in \u001b[0;36mFunction.__call__\u001b[1;34m(self, *args, **kwds)\u001b[0m\n\u001b[0;32m    912\u001b[0m compiler \u001b[38;5;241m=\u001b[39m \u001b[38;5;124m\"\u001b[39m\u001b[38;5;124mxla\u001b[39m\u001b[38;5;124m\"\u001b[39m \u001b[38;5;28;01mif\u001b[39;00m \u001b[38;5;28mself\u001b[39m\u001b[38;5;241m.\u001b[39m_jit_compile \u001b[38;5;28;01melse\u001b[39;00m \u001b[38;5;124m\"\u001b[39m\u001b[38;5;124mnonXla\u001b[39m\u001b[38;5;124m\"\u001b[39m\n\u001b[0;32m    914\u001b[0m \u001b[38;5;28;01mwith\u001b[39;00m OptionalXlaContext(\u001b[38;5;28mself\u001b[39m\u001b[38;5;241m.\u001b[39m_jit_compile):\n\u001b[1;32m--> 915\u001b[0m   result \u001b[38;5;241m=\u001b[39m \u001b[38;5;28mself\u001b[39m\u001b[38;5;241m.\u001b[39m_call(\u001b[38;5;241m*\u001b[39margs, \u001b[38;5;241m*\u001b[39m\u001b[38;5;241m*\u001b[39mkwds)\n\u001b[0;32m    917\u001b[0m new_tracing_count \u001b[38;5;241m=\u001b[39m \u001b[38;5;28mself\u001b[39m\u001b[38;5;241m.\u001b[39mexperimental_get_tracing_count()\n\u001b[0;32m    918\u001b[0m without_tracing \u001b[38;5;241m=\u001b[39m (tracing_count \u001b[38;5;241m==\u001b[39m new_tracing_count)\n",
      "File \u001b[1;32m~\\anaconda3\\Anaconda3\\lib\\site-packages\\tensorflow\\python\\eager\\def_function.py:947\u001b[0m, in \u001b[0;36mFunction._call\u001b[1;34m(self, *args, **kwds)\u001b[0m\n\u001b[0;32m    944\u001b[0m   \u001b[38;5;28mself\u001b[39m\u001b[38;5;241m.\u001b[39m_lock\u001b[38;5;241m.\u001b[39mrelease()\n\u001b[0;32m    945\u001b[0m   \u001b[38;5;66;03m# In this case we have created variables on the first call, so we run the\u001b[39;00m\n\u001b[0;32m    946\u001b[0m   \u001b[38;5;66;03m# defunned version which is guaranteed to never create variables.\u001b[39;00m\n\u001b[1;32m--> 947\u001b[0m   \u001b[38;5;28;01mreturn\u001b[39;00m \u001b[38;5;28mself\u001b[39m\u001b[38;5;241m.\u001b[39m_stateless_fn(\u001b[38;5;241m*\u001b[39margs, \u001b[38;5;241m*\u001b[39m\u001b[38;5;241m*\u001b[39mkwds)  \u001b[38;5;66;03m# pylint: disable=not-callable\u001b[39;00m\n\u001b[0;32m    948\u001b[0m \u001b[38;5;28;01melif\u001b[39;00m \u001b[38;5;28mself\u001b[39m\u001b[38;5;241m.\u001b[39m_stateful_fn \u001b[38;5;129;01mis\u001b[39;00m \u001b[38;5;129;01mnot\u001b[39;00m \u001b[38;5;28;01mNone\u001b[39;00m:\n\u001b[0;32m    949\u001b[0m   \u001b[38;5;66;03m# Release the lock early so that multiple threads can perform the call\u001b[39;00m\n\u001b[0;32m    950\u001b[0m   \u001b[38;5;66;03m# in parallel.\u001b[39;00m\n\u001b[0;32m    951\u001b[0m   \u001b[38;5;28mself\u001b[39m\u001b[38;5;241m.\u001b[39m_lock\u001b[38;5;241m.\u001b[39mrelease()\n",
      "File \u001b[1;32m~\\anaconda3\\Anaconda3\\lib\\site-packages\\tensorflow\\python\\eager\\function.py:2496\u001b[0m, in \u001b[0;36mFunction.__call__\u001b[1;34m(self, *args, **kwargs)\u001b[0m\n\u001b[0;32m   2493\u001b[0m \u001b[38;5;28;01mwith\u001b[39;00m \u001b[38;5;28mself\u001b[39m\u001b[38;5;241m.\u001b[39m_lock:\n\u001b[0;32m   2494\u001b[0m   (graph_function,\n\u001b[0;32m   2495\u001b[0m    filtered_flat_args) \u001b[38;5;241m=\u001b[39m \u001b[38;5;28mself\u001b[39m\u001b[38;5;241m.\u001b[39m_maybe_define_function(args, kwargs)\n\u001b[1;32m-> 2496\u001b[0m \u001b[38;5;28;01mreturn\u001b[39;00m \u001b[43mgraph_function\u001b[49m\u001b[38;5;241;43m.\u001b[39;49m\u001b[43m_call_flat\u001b[49m\u001b[43m(\u001b[49m\n\u001b[0;32m   2497\u001b[0m \u001b[43m    \u001b[49m\u001b[43mfiltered_flat_args\u001b[49m\u001b[43m,\u001b[49m\u001b[43m \u001b[49m\u001b[43mcaptured_inputs\u001b[49m\u001b[38;5;241;43m=\u001b[39;49m\u001b[43mgraph_function\u001b[49m\u001b[38;5;241;43m.\u001b[39;49m\u001b[43mcaptured_inputs\u001b[49m\u001b[43m)\u001b[49m\n",
      "File \u001b[1;32m~\\anaconda3\\Anaconda3\\lib\\site-packages\\tensorflow\\python\\eager\\function.py:1862\u001b[0m, in \u001b[0;36mConcreteFunction._call_flat\u001b[1;34m(self, args, captured_inputs, cancellation_manager)\u001b[0m\n\u001b[0;32m   1858\u001b[0m possible_gradient_type \u001b[38;5;241m=\u001b[39m gradients_util\u001b[38;5;241m.\u001b[39mPossibleTapeGradientTypes(args)\n\u001b[0;32m   1859\u001b[0m \u001b[38;5;28;01mif\u001b[39;00m (possible_gradient_type \u001b[38;5;241m==\u001b[39m gradients_util\u001b[38;5;241m.\u001b[39mPOSSIBLE_GRADIENT_TYPES_NONE\n\u001b[0;32m   1860\u001b[0m     \u001b[38;5;129;01mand\u001b[39;00m executing_eagerly):\n\u001b[0;32m   1861\u001b[0m   \u001b[38;5;66;03m# No tape is watching; skip to running the function.\u001b[39;00m\n\u001b[1;32m-> 1862\u001b[0m   \u001b[38;5;28;01mreturn\u001b[39;00m \u001b[38;5;28mself\u001b[39m\u001b[38;5;241m.\u001b[39m_build_call_outputs(\u001b[38;5;28;43mself\u001b[39;49m\u001b[38;5;241;43m.\u001b[39;49m\u001b[43m_inference_function\u001b[49m\u001b[38;5;241;43m.\u001b[39;49m\u001b[43mcall\u001b[49m\u001b[43m(\u001b[49m\n\u001b[0;32m   1863\u001b[0m \u001b[43m      \u001b[49m\u001b[43mctx\u001b[49m\u001b[43m,\u001b[49m\u001b[43m \u001b[49m\u001b[43margs\u001b[49m\u001b[43m,\u001b[49m\u001b[43m \u001b[49m\u001b[43mcancellation_manager\u001b[49m\u001b[38;5;241;43m=\u001b[39;49m\u001b[43mcancellation_manager\u001b[49m\u001b[43m)\u001b[49m)\n\u001b[0;32m   1864\u001b[0m forward_backward \u001b[38;5;241m=\u001b[39m \u001b[38;5;28mself\u001b[39m\u001b[38;5;241m.\u001b[39m_select_forward_and_backward_functions(\n\u001b[0;32m   1865\u001b[0m     args,\n\u001b[0;32m   1866\u001b[0m     possible_gradient_type,\n\u001b[0;32m   1867\u001b[0m     executing_eagerly)\n\u001b[0;32m   1868\u001b[0m forward_function, args_with_tangents \u001b[38;5;241m=\u001b[39m forward_backward\u001b[38;5;241m.\u001b[39mforward()\n",
      "File \u001b[1;32m~\\anaconda3\\Anaconda3\\lib\\site-packages\\tensorflow\\python\\eager\\function.py:499\u001b[0m, in \u001b[0;36m_EagerDefinedFunction.call\u001b[1;34m(self, ctx, args, cancellation_manager)\u001b[0m\n\u001b[0;32m    497\u001b[0m \u001b[38;5;28;01mwith\u001b[39;00m _InterpolateFunctionError(\u001b[38;5;28mself\u001b[39m):\n\u001b[0;32m    498\u001b[0m   \u001b[38;5;28;01mif\u001b[39;00m cancellation_manager \u001b[38;5;129;01mis\u001b[39;00m \u001b[38;5;28;01mNone\u001b[39;00m:\n\u001b[1;32m--> 499\u001b[0m     outputs \u001b[38;5;241m=\u001b[39m \u001b[43mexecute\u001b[49m\u001b[38;5;241;43m.\u001b[39;49m\u001b[43mexecute\u001b[49m\u001b[43m(\u001b[49m\n\u001b[0;32m    500\u001b[0m \u001b[43m        \u001b[49m\u001b[38;5;28;43mstr\u001b[39;49m\u001b[43m(\u001b[49m\u001b[38;5;28;43mself\u001b[39;49m\u001b[38;5;241;43m.\u001b[39;49m\u001b[43msignature\u001b[49m\u001b[38;5;241;43m.\u001b[39;49m\u001b[43mname\u001b[49m\u001b[43m)\u001b[49m\u001b[43m,\u001b[49m\n\u001b[0;32m    501\u001b[0m \u001b[43m        \u001b[49m\u001b[43mnum_outputs\u001b[49m\u001b[38;5;241;43m=\u001b[39;49m\u001b[38;5;28;43mself\u001b[39;49m\u001b[38;5;241;43m.\u001b[39;49m\u001b[43m_num_outputs\u001b[49m\u001b[43m,\u001b[49m\n\u001b[0;32m    502\u001b[0m \u001b[43m        \u001b[49m\u001b[43minputs\u001b[49m\u001b[38;5;241;43m=\u001b[39;49m\u001b[43margs\u001b[49m\u001b[43m,\u001b[49m\n\u001b[0;32m    503\u001b[0m \u001b[43m        \u001b[49m\u001b[43mattrs\u001b[49m\u001b[38;5;241;43m=\u001b[39;49m\u001b[43mattrs\u001b[49m\u001b[43m,\u001b[49m\n\u001b[0;32m    504\u001b[0m \u001b[43m        \u001b[49m\u001b[43mctx\u001b[49m\u001b[38;5;241;43m=\u001b[39;49m\u001b[43mctx\u001b[49m\u001b[43m)\u001b[49m\n\u001b[0;32m    505\u001b[0m   \u001b[38;5;28;01melse\u001b[39;00m:\n\u001b[0;32m    506\u001b[0m     outputs \u001b[38;5;241m=\u001b[39m execute\u001b[38;5;241m.\u001b[39mexecute_with_cancellation(\n\u001b[0;32m    507\u001b[0m         \u001b[38;5;28mstr\u001b[39m(\u001b[38;5;28mself\u001b[39m\u001b[38;5;241m.\u001b[39msignature\u001b[38;5;241m.\u001b[39mname),\n\u001b[0;32m    508\u001b[0m         num_outputs\u001b[38;5;241m=\u001b[39m\u001b[38;5;28mself\u001b[39m\u001b[38;5;241m.\u001b[39m_num_outputs,\n\u001b[1;32m   (...)\u001b[0m\n\u001b[0;32m    511\u001b[0m         ctx\u001b[38;5;241m=\u001b[39mctx,\n\u001b[0;32m    512\u001b[0m         cancellation_manager\u001b[38;5;241m=\u001b[39mcancellation_manager)\n",
      "File \u001b[1;32m~\\anaconda3\\Anaconda3\\lib\\site-packages\\tensorflow\\python\\eager\\execute.py:54\u001b[0m, in \u001b[0;36mquick_execute\u001b[1;34m(op_name, num_outputs, inputs, attrs, ctx, name)\u001b[0m\n\u001b[0;32m     52\u001b[0m \u001b[38;5;28;01mtry\u001b[39;00m:\n\u001b[0;32m     53\u001b[0m   ctx\u001b[38;5;241m.\u001b[39mensure_initialized()\n\u001b[1;32m---> 54\u001b[0m   tensors \u001b[38;5;241m=\u001b[39m \u001b[43mpywrap_tfe\u001b[49m\u001b[38;5;241;43m.\u001b[39;49m\u001b[43mTFE_Py_Execute\u001b[49m\u001b[43m(\u001b[49m\u001b[43mctx\u001b[49m\u001b[38;5;241;43m.\u001b[39;49m\u001b[43m_handle\u001b[49m\u001b[43m,\u001b[49m\u001b[43m \u001b[49m\u001b[43mdevice_name\u001b[49m\u001b[43m,\u001b[49m\u001b[43m \u001b[49m\u001b[43mop_name\u001b[49m\u001b[43m,\u001b[49m\n\u001b[0;32m     55\u001b[0m \u001b[43m                                      \u001b[49m\u001b[43minputs\u001b[49m\u001b[43m,\u001b[49m\u001b[43m \u001b[49m\u001b[43mattrs\u001b[49m\u001b[43m,\u001b[49m\u001b[43m \u001b[49m\u001b[43mnum_outputs\u001b[49m\u001b[43m)\u001b[49m\n\u001b[0;32m     56\u001b[0m \u001b[38;5;28;01mexcept\u001b[39;00m core\u001b[38;5;241m.\u001b[39m_NotOkStatusException \u001b[38;5;28;01mas\u001b[39;00m e:\n\u001b[0;32m     57\u001b[0m   \u001b[38;5;28;01mif\u001b[39;00m name \u001b[38;5;129;01mis\u001b[39;00m \u001b[38;5;129;01mnot\u001b[39;00m \u001b[38;5;28;01mNone\u001b[39;00m:\n",
      "\u001b[1;31mKeyboardInterrupt\u001b[0m: "
     ]
    }
   ],
   "source": [
    "\n",
    "learning_rate = 0.0005\n",
    "size = 100\n",
    "droprate = 0.2\n",
    "\n",
    "model = make_model(\n",
    "    input_size=input_size,\n",
    "    learning_rate=learning_rate,\n",
    "    size_inner=size,\n",
    "    droprate=droprate\n",
    ")\n",
    "\n",
    "history = model.fit(train_ds, epochs=50, validation_data=val_ds,\n",
    "                   callbacks=[checkpoint])"
   ]
  },
  {
   "cell_type": "code",
   "execution_count": 25,
   "id": "4813a6f3-0d6c-41d6-bc7f-181258dfbbd5",
   "metadata": {},
   "outputs": [
    {
     "name": "stdout",
     "output_type": "stream",
     "text": [
      "Found 372 images belonging to 10 classes.\n"
     ]
    }
   ],
   "source": [
    "test_gen = ImageDataGenerator(preprocessing_function=preprocess_input)\n",
    "\n",
    "test_ds = test_gen.flow_from_directory(\n",
    "    './clothing-dataset-small/test',\n",
    "    target_size=(299, 299),\n",
    "    batch_size=32,\n",
    "    shuffle=False\n",
    ")"
   ]
  },
  {
   "cell_type": "code",
   "execution_count": 27,
   "id": "5b1e1191-5833-4340-b3b6-9a262f21c052",
   "metadata": {},
   "outputs": [],
   "source": [
    "model = keras.models.load_model('xception_v4_1_06_0.889.h5')"
   ]
  },
  {
   "cell_type": "code",
   "execution_count": 28,
   "id": "4b3d80f9-defc-4667-bcc3-fe83864c9815",
   "metadata": {},
   "outputs": [
    {
     "name": "stdout",
     "output_type": "stream",
     "text": [
      "12/12 [==============================] - 5s 319ms/step - loss: 0.2762 - accuracy: 0.9032\n"
     ]
    },
    {
     "data": {
      "text/plain": [
       "[0.2762073278427124, 0.9032257795333862]"
      ]
     },
     "execution_count": 28,
     "metadata": {},
     "output_type": "execute_result"
    }
   ],
   "source": [
    "model.evaluate(test_ds)"
   ]
  },
  {
   "cell_type": "code",
   "execution_count": 64,
   "id": "44bd95c3-d59f-4aa6-aa35-61ba323c7983",
   "metadata": {},
   "outputs": [],
   "source": [
    "path ='th (3).jpg'"
   ]
  },
  {
   "cell_type": "code",
   "execution_count": 65,
   "id": "2ab977a3-32d1-4d12-9d98-41d212133b5d",
   "metadata": {},
   "outputs": [],
   "source": [
    "img = load_img(path, target_size=(299, 299))"
   ]
  },
  {
   "cell_type": "code",
   "execution_count": 66,
   "id": "4b1fccf1-6eae-419e-a597-5400fd806e4f",
   "metadata": {},
   "outputs": [
    {
     "data": {
      "text/plain": [
       "(1, 299, 299, 3)"
      ]
     },
     "execution_count": 66,
     "metadata": {},
     "output_type": "execute_result"
    }
   ],
   "source": [
    "x = np.array(img)\n",
    "X = np.array([x])\n",
    "X.shape"
   ]
  },
  {
   "cell_type": "code",
   "execution_count": 67,
   "id": "95e6ba40-79ce-45e2-b68a-aa757e86be8a",
   "metadata": {},
   "outputs": [],
   "source": [
    "X = preprocess_input(X)"
   ]
  },
  {
   "cell_type": "code",
   "execution_count": 68,
   "id": "02c7a5f3-ed7f-4198-9ab9-5413d0ad8039",
   "metadata": {},
   "outputs": [
    {
     "name": "stdout",
     "output_type": "stream",
     "text": [
      "1/1 [==============================] - 0s 32ms/step\n"
     ]
    }
   ],
   "source": [
    "pred = model.predict(X)"
   ]
  },
  {
   "cell_type": "code",
   "execution_count": 69,
   "id": "abd6e4d3-fca3-4a34-8f73-08aa5c958dd2",
   "metadata": {},
   "outputs": [],
   "source": [
    "classes = [\n",
    "    'dress',\n",
    "    'hat',\n",
    "    'longsleeve',\n",
    "    'outwear',\n",
    "    'pants',\n",
    "    'shirt',\n",
    "    'shoes',\n",
    "    'shorts',\n",
    "    'skirt',\n",
    "    't-shirt'\n",
    "]"
   ]
  },
  {
   "cell_type": "code",
   "execution_count": 70,
   "id": "9d2d58fd-b459-433e-95ae-64c2a0d8a6fc",
   "metadata": {},
   "outputs": [
    {
     "data": {
      "text/plain": [
       "{'dress': 0.09670349,\n",
       " 'hat': 0.22212428,\n",
       " 'longsleeve': -2.330036,\n",
       " 'outwear': -0.9740344,\n",
       " 'pants': -1.8793684,\n",
       " 'shirt': -2.1348362,\n",
       " 'shoes': 7.505035,\n",
       " 'shorts': -1.7344835,\n",
       " 'skirt': -1.5889235,\n",
       " 't-shirt': -1.2539692}"
      ]
     },
     "execution_count": 70,
     "metadata": {},
     "output_type": "execute_result"
    }
   ],
   "source": [
    "dict(zip(classes, pred[0]))"
   ]
  },
  {
   "cell_type": "code",
   "execution_count": null,
   "id": "efc74b39-3824-4f4a-a3ad-18fa0c694d17",
   "metadata": {},
   "outputs": [],
   "source": []
  },
  {
   "cell_type": "code",
   "execution_count": null,
   "id": "eab98c67-315c-41c1-9252-f5f9da3a8722",
   "metadata": {},
   "outputs": [],
   "source": []
  }
 ],
 "metadata": {
  "kernelspec": {
   "display_name": "Python 3 (ipykernel)",
   "language": "python",
   "name": "python3"
  },
  "language_info": {
   "codemirror_mode": {
    "name": "ipython",
    "version": 3
   },
   "file_extension": ".py",
   "mimetype": "text/x-python",
   "name": "python",
   "nbconvert_exporter": "python",
   "pygments_lexer": "ipython3",
   "version": "3.9.18"
  }
 },
 "nbformat": 4,
 "nbformat_minor": 5
}
